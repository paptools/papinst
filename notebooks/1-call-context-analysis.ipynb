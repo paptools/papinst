{
 "cells": [
  {
   "cell_type": "markdown",
   "id": "95171cb6",
   "metadata": {},
   "source": [
    "# Call Context Summary"
   ]
  },
  {
   "cell_type": "markdown",
   "id": "cee22297",
   "metadata": {},
   "source": [
    "## 1. Setup Workspace"
   ]
  },
  {
   "cell_type": "code",
   "execution_count": 1,
   "id": "c75056fd",
   "metadata": {},
   "outputs": [],
   "source": [
    "import json\n",
    "import pathlib\n",
    "import copy\n",
    "\n",
    "import anytree\n",
    "\n",
    "import paptree"
   ]
  },
  {
   "cell_type": "markdown",
   "id": "5e7dcceb",
   "metadata": {},
   "source": [
    "## 2. Load Data"
   ]
  },
  {
   "cell_type": "code",
   "execution_count": 2,
   "id": "e427fb38",
   "metadata": {},
   "outputs": [
    {
     "name": "stdout",
     "output_type": "stream",
     "text": [
      "Loaded 36 traces.\n"
     ]
    }
   ],
   "source": [
    "trace_file = pathlib.Path.cwd().parent / \"data/fibonacci/paptrace.json\"\n",
    "trees = paptree.utils.from_file(trace_file)\n",
    "print(f\"Loaded {len(trees)} traces.\")"
   ]
  },
  {
   "cell_type": "code",
   "execution_count": 3,
   "id": "2d273164",
   "metadata": {},
   "outputs": [
    {
     "name": "stdout",
     "output_type": "stream",
     "text": [
      "CallNode(name=2106190, params=[{'name': 'n', 'value': '0'}], sig='unsigned long long fibonacci::RecursiveNaive(unsigned short)', type='CalleeExpr')\n",
      "└── StmtNode(desc='n < 2', name=2106009, type='IfThenStmt')\n",
      "    └── StmtNode(desc='return n', name=2106007, type='ReturnStmt')\n",
      "\n",
      "CallNode(name=2106190, params=[{'name': 'n', 'value': '1'}], sig='unsigned long long fibonacci::RecursiveNaive(unsigned short)', type='CalleeExpr')\n",
      "└── StmtNode(desc='n < 2', name=2106009, type='IfThenStmt')\n",
      "    └── StmtNode(desc='return n', name=2106007, type='ReturnStmt')\n",
      "\n",
      "CallNode(name=2106190, params=[{'name': 'n', 'value': '2'}], sig='unsigned long long fibonacci::RecursiveNaive(unsigned short)', type='CalleeExpr')\n",
      "└── StmtNode(desc='return RecursiveNaive(n - 1) + RecursiveNaive(n - 2)', name=2106188, type='ReturnStmt')\n",
      "    └── StmtNode(desc='unsigned long long', name=2106184, type='+')\n",
      "        └── StmtNode(desc='int', name=2106117, type='-')\n",
      "            ├── CallNode(name=2106190, params=[{'name': 'n', 'value': '1'}], sig='unsigned long long fibonacci::RecursiveNaive(unsigned short)', type='CalleeExpr')\n",
      "            │   └── StmtNode(desc='n < 2', name=2106009, type='IfThenStmt')\n",
      "            │       └── StmtNode(desc='return n', name=2106007, type='ReturnStmt')\n",
      "            └── StmtNode(desc='int', name=2106165, type='-')\n",
      "                └── CallNode(name=2106190, params=[{'name': 'n', 'value': '0'}], sig='unsigned long long fibonacci::RecursiveNaive(unsigned short)', type='CalleeExpr')\n",
      "                    └── StmtNode(desc='n < 2', name=2106009, type='IfThenStmt')\n",
      "                        └── StmtNode(desc='return n', name=2106007, type='ReturnStmt')\n",
      "\n"
     ]
    }
   ],
   "source": [
    "# Take a peek at a few of the traces.\n",
    "for tree in trees[:3]:\n",
    "    print(anytree.RenderTree(tree))\n",
    "    print()"
   ]
  },
  {
   "cell_type": "markdown",
   "id": "029340ef",
   "metadata": {},
   "source": [
    "Each trace entry from `paptrace` is a walk of an execution path walk for a function and a specific set of input parameters. The first trace is a walk of the function `fibonacci::RecursiveNaive` for `n = 0`."
   ]
  },
  {
   "cell_type": "code",
   "execution_count": 4,
   "id": "c071938a",
   "metadata": {},
   "outputs": [
    {
     "name": "stdout",
     "output_type": "stream",
     "text": [
      "CallNode(name=2110045, params=[{'name': 'n', 'value': '0'}], sig='unsigned long long fibonacci::Iterative(unsigned short)', type='CalleeExpr')\n",
      "└── StmtNode(desc='n < 2', name=2109766, type='IfThenStmt')\n",
      "    └── StmtNode(desc='return n', name=2109764, type='ReturnStmt')\n",
      "CallNode(name=2110045, params=[{'name': 'n', 'value': '1'}], sig='unsigned long long fibonacci::Iterative(unsigned short)', type='CalleeExpr')\n",
      "└── StmtNode(desc='n < 2', name=2109766, type='IfThenStmt')\n",
      "    └── StmtNode(desc='return n', name=2109764, type='ReturnStmt')\n",
      "CallNode(name=2110045, params=[{'name': 'n', 'value': '2'}], sig='unsigned long long fibonacci::Iterative(unsigned short)', type='CalleeExpr')\n",
      "├── StmtNode(desc='for (unsigned short i = 2; i <= n; ++i)', name=2110029, type='ForStmt')\n",
      "│   ├── StmtNode(desc='LoopIter', name=2110029, type='LoopIter')\n",
      "│   │   ├── StmtNode(desc='unsigned long long', name=2109990, type='=')\n",
      "│   │   │   └── StmtNode(desc='unsigned long long', name=2109986, type='+')\n",
      "│   │   ├── StmtNode(desc='unsigned long long', name=2110005, type='=')\n",
      "│   │   └── StmtNode(desc='unsigned long long', name=2110020, type='=')\n",
      "│   └── StmtNode(desc='unsigned short', name=2109965, type='++')\n",
      "└── StmtNode(desc='return fib', name=2110043, type='ReturnStmt')\n",
      "CallNode(name=2110045, params=[{'name': 'n', 'value': '3'}], sig='unsigned long long fibonacci::Iterative(unsigned short)', type='CalleeExpr')\n",
      "├── StmtNode(desc='for (unsigned short i = 2; i <= n; ++i)', name=2110029, type='ForStmt')\n",
      "│   ├── StmtNode(desc='LoopIter', name=2110029, type='LoopIter')\n",
      "│   │   ├── StmtNode(desc='unsigned long long', name=2109990, type='=')\n",
      "│   │   │   └── StmtNode(desc='unsigned long long', name=2109986, type='+')\n",
      "│   │   ├── StmtNode(desc='unsigned long long', name=2110005, type='=')\n",
      "│   │   └── StmtNode(desc='unsigned long long', name=2110020, type='=')\n",
      "│   ├── StmtNode(desc='unsigned short', name=2109965, type='++')\n",
      "│   ├── StmtNode(desc='LoopIter', name=2110029, type='LoopIter')\n",
      "│   │   ├── StmtNode(desc='unsigned long long', name=2109990, type='=')\n",
      "│   │   │   └── StmtNode(desc='unsigned long long', name=2109986, type='+')\n",
      "│   │   ├── StmtNode(desc='unsigned long long', name=2110005, type='=')\n",
      "│   │   └── StmtNode(desc='unsigned long long', name=2110020, type='=')\n",
      "│   └── StmtNode(desc='unsigned short', name=2109965, type='++')\n",
      "└── StmtNode(desc='return fib', name=2110043, type='ReturnStmt')\n",
      "CallNode(name=2110045, params=[{'name': 'n', 'value': '4'}], sig='unsigned long long fibonacci::Iterative(unsigned short)', type='CalleeExpr')\n",
      "├── StmtNode(desc='for (unsigned short i = 2; i <= n; ++i)', name=2110029, type='ForStmt')\n",
      "│   ├── StmtNode(desc='LoopIter', name=2110029, type='LoopIter')\n",
      "│   │   ├── StmtNode(desc='unsigned long long', name=2109990, type='=')\n",
      "│   │   │   └── StmtNode(desc='unsigned long long', name=2109986, type='+')\n",
      "│   │   ├── StmtNode(desc='unsigned long long', name=2110005, type='=')\n",
      "│   │   └── StmtNode(desc='unsigned long long', name=2110020, type='=')\n",
      "│   ├── StmtNode(desc='unsigned short', name=2109965, type='++')\n",
      "│   ├── StmtNode(desc='LoopIter', name=2110029, type='LoopIter')\n",
      "│   │   ├── StmtNode(desc='unsigned long long', name=2109990, type='=')\n",
      "│   │   │   └── StmtNode(desc='unsigned long long', name=2109986, type='+')\n",
      "│   │   ├── StmtNode(desc='unsigned long long', name=2110005, type='=')\n",
      "│   │   └── StmtNode(desc='unsigned long long', name=2110020, type='=')\n",
      "│   ├── StmtNode(desc='unsigned short', name=2109965, type='++')\n",
      "│   ├── StmtNode(desc='LoopIter', name=2110029, type='LoopIter')\n",
      "│   │   ├── StmtNode(desc='unsigned long long', name=2109990, type='=')\n",
      "│   │   │   └── StmtNode(desc='unsigned long long', name=2109986, type='+')\n",
      "│   │   ├── StmtNode(desc='unsigned long long', name=2110005, type='=')\n",
      "│   │   └── StmtNode(desc='unsigned long long', name=2110020, type='=')\n",
      "│   └── StmtNode(desc='unsigned short', name=2109965, type='++')\n",
      "└── StmtNode(desc='return fib', name=2110043, type='ReturnStmt')\n",
      "CallNode(name=2110045, params=[{'name': 'n', 'value': '5'}], sig='unsigned long long fibonacci::Iterative(unsigned short)', type='CalleeExpr')\n",
      "├── StmtNode(desc='for (unsigned short i = 2; i <= n; ++i)', name=2110029, type='ForStmt')\n",
      "│   ├── StmtNode(desc='LoopIter', name=2110029, type='LoopIter')\n",
      "│   │   ├── StmtNode(desc='unsigned long long', name=2109990, type='=')\n",
      "│   │   │   └── StmtNode(desc='unsigned long long', name=2109986, type='+')\n",
      "│   │   ├── StmtNode(desc='unsigned long long', name=2110005, type='=')\n",
      "│   │   └── StmtNode(desc='unsigned long long', name=2110020, type='=')\n",
      "│   ├── StmtNode(desc='unsigned short', name=2109965, type='++')\n",
      "│   ├── StmtNode(desc='LoopIter', name=2110029, type='LoopIter')\n",
      "│   │   ├── StmtNode(desc='unsigned long long', name=2109990, type='=')\n",
      "│   │   │   └── StmtNode(desc='unsigned long long', name=2109986, type='+')\n",
      "│   │   ├── StmtNode(desc='unsigned long long', name=2110005, type='=')\n",
      "│   │   └── StmtNode(desc='unsigned long long', name=2110020, type='=')\n",
      "│   ├── StmtNode(desc='unsigned short', name=2109965, type='++')\n",
      "│   ├── StmtNode(desc='LoopIter', name=2110029, type='LoopIter')\n",
      "│   │   ├── StmtNode(desc='unsigned long long', name=2109990, type='=')\n",
      "│   │   │   └── StmtNode(desc='unsigned long long', name=2109986, type='+')\n",
      "│   │   ├── StmtNode(desc='unsigned long long', name=2110005, type='=')\n",
      "│   │   └── StmtNode(desc='unsigned long long', name=2110020, type='=')\n",
      "│   ├── StmtNode(desc='unsigned short', name=2109965, type='++')\n",
      "│   ├── StmtNode(desc='LoopIter', name=2110029, type='LoopIter')\n",
      "│   │   ├── StmtNode(desc='unsigned long long', name=2109990, type='=')\n",
      "│   │   │   └── StmtNode(desc='unsigned long long', name=2109986, type='+')\n",
      "│   │   ├── StmtNode(desc='unsigned long long', name=2110005, type='=')\n",
      "│   │   └── StmtNode(desc='unsigned long long', name=2110020, type='=')\n",
      "│   └── StmtNode(desc='unsigned short', name=2109965, type='++')\n",
      "└── StmtNode(desc='return fib', name=2110043, type='ReturnStmt')\n",
      "CallNode(name=2110045, params=[{'name': 'n', 'value': '6'}], sig='unsigned long long fibonacci::Iterative(unsigned short)', type='CalleeExpr')\n",
      "├── StmtNode(desc='for (unsigned short i = 2; i <= n; ++i)', name=2110029, type='ForStmt')\n",
      "│   ├── StmtNode(desc='LoopIter', name=2110029, type='LoopIter')\n",
      "│   │   ├── StmtNode(desc='unsigned long long', name=2109990, type='=')\n",
      "│   │   │   └── StmtNode(desc='unsigned long long', name=2109986, type='+')\n",
      "│   │   ├── StmtNode(desc='unsigned long long', name=2110005, type='=')\n",
      "│   │   └── StmtNode(desc='unsigned long long', name=2110020, type='=')\n",
      "│   ├── StmtNode(desc='unsigned short', name=2109965, type='++')\n",
      "│   ├── StmtNode(desc='LoopIter', name=2110029, type='LoopIter')\n",
      "│   │   ├── StmtNode(desc='unsigned long long', name=2109990, type='=')\n",
      "│   │   │   └── StmtNode(desc='unsigned long long', name=2109986, type='+')\n",
      "│   │   ├── StmtNode(desc='unsigned long long', name=2110005, type='=')\n",
      "│   │   └── StmtNode(desc='unsigned long long', name=2110020, type='=')\n",
      "│   ├── StmtNode(desc='unsigned short', name=2109965, type='++')\n",
      "│   ├── StmtNode(desc='LoopIter', name=2110029, type='LoopIter')\n",
      "│   │   ├── StmtNode(desc='unsigned long long', name=2109990, type='=')\n",
      "│   │   │   └── StmtNode(desc='unsigned long long', name=2109986, type='+')\n",
      "│   │   ├── StmtNode(desc='unsigned long long', name=2110005, type='=')\n",
      "│   │   └── StmtNode(desc='unsigned long long', name=2110020, type='=')\n",
      "│   ├── StmtNode(desc='unsigned short', name=2109965, type='++')\n",
      "│   ├── StmtNode(desc='LoopIter', name=2110029, type='LoopIter')\n",
      "│   │   ├── StmtNode(desc='unsigned long long', name=2109990, type='=')\n",
      "│   │   │   └── StmtNode(desc='unsigned long long', name=2109986, type='+')\n",
      "│   │   ├── StmtNode(desc='unsigned long long', name=2110005, type='=')\n",
      "│   │   └── StmtNode(desc='unsigned long long', name=2110020, type='=')\n",
      "│   ├── StmtNode(desc='unsigned short', name=2109965, type='++')\n",
      "│   ├── StmtNode(desc='LoopIter', name=2110029, type='LoopIter')\n",
      "│   │   ├── StmtNode(desc='unsigned long long', name=2109990, type='=')\n",
      "│   │   │   └── StmtNode(desc='unsigned long long', name=2109986, type='+')\n",
      "│   │   ├── StmtNode(desc='unsigned long long', name=2110005, type='=')\n",
      "│   │   └── StmtNode(desc='unsigned long long', name=2110020, type='=')\n",
      "│   └── StmtNode(desc='unsigned short', name=2109965, type='++')\n",
      "└── StmtNode(desc='return fib', name=2110043, type='ReturnStmt')\n",
      "CallNode(name=2110045, params=[{'name': 'n', 'value': '7'}], sig='unsigned long long fibonacci::Iterative(unsigned short)', type='CalleeExpr')\n",
      "├── StmtNode(desc='for (unsigned short i = 2; i <= n; ++i)', name=2110029, type='ForStmt')\n",
      "│   ├── StmtNode(desc='LoopIter', name=2110029, type='LoopIter')\n",
      "│   │   ├── StmtNode(desc='unsigned long long', name=2109990, type='=')\n",
      "│   │   │   └── StmtNode(desc='unsigned long long', name=2109986, type='+')\n",
      "│   │   ├── StmtNode(desc='unsigned long long', name=2110005, type='=')\n",
      "│   │   └── StmtNode(desc='unsigned long long', name=2110020, type='=')\n",
      "│   ├── StmtNode(desc='unsigned short', name=2109965, type='++')\n",
      "│   ├── StmtNode(desc='LoopIter', name=2110029, type='LoopIter')\n",
      "│   │   ├── StmtNode(desc='unsigned long long', name=2109990, type='=')\n",
      "│   │   │   └── StmtNode(desc='unsigned long long', name=2109986, type='+')\n",
      "│   │   ├── StmtNode(desc='unsigned long long', name=2110005, type='=')\n",
      "│   │   └── StmtNode(desc='unsigned long long', name=2110020, type='=')\n",
      "│   ├── StmtNode(desc='unsigned short', name=2109965, type='++')\n",
      "│   ├── StmtNode(desc='LoopIter', name=2110029, type='LoopIter')\n",
      "│   │   ├── StmtNode(desc='unsigned long long', name=2109990, type='=')\n",
      "│   │   │   └── StmtNode(desc='unsigned long long', name=2109986, type='+')\n",
      "│   │   ├── StmtNode(desc='unsigned long long', name=2110005, type='=')\n",
      "│   │   └── StmtNode(desc='unsigned long long', name=2110020, type='=')\n",
      "│   ├── StmtNode(desc='unsigned short', name=2109965, type='++')\n",
      "│   ├── StmtNode(desc='LoopIter', name=2110029, type='LoopIter')\n",
      "│   │   ├── StmtNode(desc='unsigned long long', name=2109990, type='=')\n",
      "│   │   │   └── StmtNode(desc='unsigned long long', name=2109986, type='+')\n",
      "│   │   ├── StmtNode(desc='unsigned long long', name=2110005, type='=')\n",
      "│   │   └── StmtNode(desc='unsigned long long', name=2110020, type='=')\n",
      "│   ├── StmtNode(desc='unsigned short', name=2109965, type='++')\n",
      "│   ├── StmtNode(desc='LoopIter', name=2110029, type='LoopIter')\n",
      "│   │   ├── StmtNode(desc='unsigned long long', name=2109990, type='=')\n",
      "│   │   │   └── StmtNode(desc='unsigned long long', name=2109986, type='+')\n",
      "│   │   ├── StmtNode(desc='unsigned long long', name=2110005, type='=')\n",
      "│   │   └── StmtNode(desc='unsigned long long', name=2110020, type='=')\n",
      "│   ├── StmtNode(desc='unsigned short', name=2109965, type='++')\n",
      "│   ├── StmtNode(desc='LoopIter', name=2110029, type='LoopIter')\n",
      "│   │   ├── StmtNode(desc='unsigned long long', name=2109990, type='=')\n",
      "│   │   │   └── StmtNode(desc='unsigned long long', name=2109986, type='+')\n",
      "│   │   ├── StmtNode(desc='unsigned long long', name=2110005, type='=')\n",
      "│   │   └── StmtNode(desc='unsigned long long', name=2110020, type='=')\n",
      "│   └── StmtNode(desc='unsigned short', name=2109965, type='++')\n",
      "└── StmtNode(desc='return fib', name=2110043, type='ReturnStmt')\n",
      "CallNode(name=2110045, params=[{'name': 'n', 'value': '94'}], sig='unsigned long long fibonacci::Iterative(unsigned short)', type='CalleeExpr')\n",
      "└── StmtNode(desc='n > 93', name=2109827, type='IfThenStmt')\n",
      "    └── StmtNode(desc='throw std::overflow_error(\"n must be less than 94\")', name=2109821, type='CXXThrowExpr')\n"
     ]
    }
   ],
   "source": [
    "for tree in trees[18:27]:\n",
    "    print(anytree.RenderTree(tree))"
   ]
  },
  {
   "cell_type": "markdown",
   "id": "5829c4f9",
   "metadata": {},
   "source": [
    "## 3. Extract Call Nodes"
   ]
  },
  {
   "cell_type": "code",
   "execution_count": 5,
   "id": "af43fe54",
   "metadata": {},
   "outputs": [
    {
     "name": "stdout",
     "output_type": "stream",
     "text": [
      "Number of call nodes: 288\n"
     ]
    }
   ],
   "source": [
    "call_nodes = []\n",
    "for tree in trees:\n",
    "    call_nodes.extend(\n",
    "        anytree.findall(tree.root, filter_=lambda n: isinstance(n, paptree.CallNode)))\n",
    "\n",
    "print(f\"Number of call nodes: {len(call_nodes)}\")"
   ]
  },
  {
   "cell_type": "code",
   "execution_count": 6,
   "id": "0c84871b",
   "metadata": {
    "scrolled": false
   },
   "outputs": [
    {
     "name": "stdout",
     "output_type": "stream",
     "text": [
      "Number of unique signatures: 6\n"
     ]
    },
    {
     "data": {
      "text/plain": [
       "{'reference std::vector<unsigned long long>::operator[](size_type)',\n",
       " 'unsigned long long fibonacci::(anonymous namespace)::RecursiveMemoImpl(unsigned short, std::vector<unsigned long long> &)',\n",
       " 'unsigned long long fibonacci::Iterative(unsigned short)',\n",
       " 'unsigned long long fibonacci::LookupTable(unsigned short)',\n",
       " 'unsigned long long fibonacci::RecursiveMemo(unsigned short)',\n",
       " 'unsigned long long fibonacci::RecursiveNaive(unsigned short)'}"
      ]
     },
     "metadata": {},
     "output_type": "display_data"
    }
   ],
   "source": [
    "sigs = set([node.sig for node in call_nodes])\n",
    "print(f\"Number of unique signatures: {len(sigs)}\")\n",
    "display(sigs)"
   ]
  },
  {
   "cell_type": "markdown",
   "id": "98c765e9",
   "metadata": {},
   "source": [
    "Of the 288 call nodes, only 6 unique signatures were detected. How many contexts are there per signature? How many unique contexts per signature?"
   ]
  },
  {
   "cell_type": "code",
   "execution_count": 7,
   "id": "6a704270",
   "metadata": {
    "scrolled": true
   },
   "outputs": [
    {
     "name": "stdout",
     "output_type": "stream",
     "text": [
      "Unique call nodes: 184\n"
     ]
    }
   ],
   "source": [
    "print(f\"Unique call nodes: {len(set([str(n) for n in call_nodes]))}\")"
   ]
  },
  {
   "cell_type": "markdown",
   "id": "99aba7db",
   "metadata": {},
   "source": [
    "## 4. Summarize Call Contexts"
   ]
  },
  {
   "cell_type": "code",
   "execution_count": null,
   "id": "204c0ad5",
   "metadata": {},
   "outputs": [],
   "source": []
  },
  {
   "cell_type": "code",
   "execution_count": 8,
   "id": "98edba6b",
   "metadata": {},
   "outputs": [
    {
     "ename": "NameError",
     "evalue": "name 'unique_call_nodes' is not defined",
     "output_type": "error",
     "traceback": [
      "\u001b[0;31m---------------------------------------------------------------------------\u001b[0m",
      "\u001b[0;31mNameError\u001b[0m                                 Traceback (most recent call last)",
      "Cell \u001b[0;32mIn[8], line 2\u001b[0m\n\u001b[1;32m      1\u001b[0m call_map \u001b[38;5;241m=\u001b[39m {}\n\u001b[0;32m----> 2\u001b[0m \u001b[38;5;28;01mfor\u001b[39;00m call_node \u001b[38;5;129;01min\u001b[39;00m \u001b[43munique_call_nodes\u001b[49m:\n\u001b[1;32m      3\u001b[0m     \u001b[38;5;28mid\u001b[39m \u001b[38;5;241m=\u001b[39m call_node[\u001b[38;5;124m\"\u001b[39m\u001b[38;5;124mid\u001b[39m\u001b[38;5;124m\"\u001b[39m]\n\u001b[1;32m      4\u001b[0m     \u001b[38;5;28;01mif\u001b[39;00m \u001b[38;5;129;01mnot\u001b[39;00m \u001b[38;5;28mid\u001b[39m \u001b[38;5;129;01min\u001b[39;00m call_map:\n",
      "\u001b[0;31mNameError\u001b[0m: name 'unique_call_nodes' is not defined"
     ]
    }
   ],
   "source": [
    "call_map = {}\n",
    "for call_node in unique_call_nodes:\n",
    "    id = call_node[\"id\"]\n",
    "    if not id in call_map:\n",
    "        call_map[id] = {\"sig\": call_node[\"sig\"], \"ctxs\": {}}\n",
    "    ctx = str(call_node[\"params\"])\n",
    "    if not ctx in call_map[id][\"ctxs\"]:\n",
    "        call_map[id][\"ctxs\"][ctx] = len(call_map[id][\"ctxs\"])\n",
    "    else:\n",
    "        raise Exception(f\"Duplicate call node ctx: {ctx}!\")\n",
    "        \n",
    "print(f\"Number of top-level call map entries: {len(call_map)}\")\n",
    "display(call_map)"
   ]
  },
  {
   "cell_type": "code",
   "execution_count": null,
   "id": "b680e737",
   "metadata": {},
   "outputs": [],
   "source": []
  }
 ],
 "metadata": {
  "kernelspec": {
   "display_name": "Python 3 (ipykernel)",
   "language": "python",
   "name": "python3"
  },
  "language_info": {
   "codemirror_mode": {
    "name": "ipython",
    "version": 3
   },
   "file_extension": ".py",
   "mimetype": "text/x-python",
   "name": "python",
   "nbconvert_exporter": "python",
   "pygments_lexer": "ipython3",
   "version": "3.11.4"
  }
 },
 "nbformat": 4,
 "nbformat_minor": 5
}
