{
 "cells": [
  {
   "cell_type": "markdown",
   "id": "95171cb6",
   "metadata": {},
   "source": [
    "# Call Context Summary"
   ]
  },
  {
   "cell_type": "markdown",
   "id": "cee22297",
   "metadata": {},
   "source": [
    "## 1. Setup Workspace"
   ]
  },
  {
   "cell_type": "code",
   "execution_count": 1,
   "id": "c75056fd",
   "metadata": {},
   "outputs": [],
   "source": [
    "import json\n",
    "import pathlib\n",
    "import copy\n",
    "import operator\n",
    "import pathlib\n",
    "import os\n",
    "\n",
    "import anytree\n",
    "import networkx as nx\n",
    "import sympy\n",
    "\n",
    "import paptree"
   ]
  },
  {
   "cell_type": "markdown",
   "id": "5e7dcceb",
   "metadata": {},
   "source": [
    "## 2. Load Data\n",
    "\n",
    "The fibonnaci library contains fours implementations of a fibonacci generator:\n",
    "\n",
    "1. Recursive (naive)\n",
    "2. Recursive (memoized)\n",
    "3. Iterative\n",
    "4. Lookup table\n",
    "\n",
    "The library unit tests verify the first eight fibonnaci numbers returned by each implementation as well as the behavior when the user requests a fibonnaci number to large to fit in the return type. This should result in 36 (`4 * (8 + 1)`) traces."
   ]
  },
  {
   "cell_type": "code",
   "execution_count": 2,
   "id": "e427fb38",
   "metadata": {},
   "outputs": [
    {
     "name": "stdout",
     "output_type": "stream",
     "text": [
      "Loaded 36 traces.\n"
     ]
    }
   ],
   "source": [
    "trace_file = pathlib.Path.cwd().parent / \"data/fibonacci/paptrace.json\"\n",
    "trees = paptree.utils.from_file(trace_file)\n",
    "print(f\"Loaded {len(trees)} traces.\")"
   ]
  },
  {
   "cell_type": "markdown",
   "id": "f06703e0",
   "metadata": {},
   "source": [
    "## 3. Node Summary"
   ]
  },
  {
   "cell_type": "markdown",
   "id": "f950761f",
   "metadata": {},
   "source": [
    "### 3.1 Unfiltered Nodes"
   ]
  },
  {
   "cell_type": "code",
   "execution_count": 3,
   "id": "4c009e56",
   "metadata": {},
   "outputs": [
    {
     "name": "stdout",
     "output_type": "stream",
     "text": [
      "Node count: 4974\n"
     ]
    }
   ],
   "source": [
    "nodes = []\n",
    "for tree in trees:\n",
    "    nodes.extend(anytree.PreOrderIter(tree.root))\n",
    "print(f\"Node count: {len(nodes)}\")"
   ]
  },
  {
   "cell_type": "code",
   "execution_count": 4,
   "id": "01f1a9d5",
   "metadata": {},
   "outputs": [
    {
     "name": "stdout",
     "output_type": "stream",
     "text": [
      "Node type count: 7\n"
     ]
    }
   ],
   "source": [
    "node_types = {}\n",
    "for node in nodes:\n",
    "    node_types.setdefault(node.type, []).append(node)\n",
    "print(f\"Node type count: {len(node_types)}\")"
   ]
  },
  {
   "cell_type": "code",
   "execution_count": 5,
   "id": "da87c2a6",
   "metadata": {},
   "outputs": [
    {
     "name": "stdout",
     "output_type": "stream",
     "text": [
      "Nodes per type:\n",
      "- CalleeExpr: 1354\n",
      "- IfThenStmt: 923\n",
      "- ReturnStmt: 1350\n",
      "- CallerExpr: 1316\n",
      "- CXXThrowExpr: 4\n",
      "- ForStmt: 6\n",
      "- LoopIter: 21\n"
     ]
    }
   ],
   "source": [
    "print(\"Nodes per type:\")\n",
    "for k, v in node_types.items():\n",
    "    print(f\"- {k}: {len(v)}\")"
   ]
  },
  {
   "cell_type": "markdown",
   "id": "053279c4",
   "metadata": {},
   "source": [
    "### 3.2. Unique Nodes"
   ]
  },
  {
   "cell_type": "code",
   "execution_count": 6,
   "id": "5d644ec2",
   "metadata": {},
   "outputs": [
    {
     "name": "stdout",
     "output_type": "stream",
     "text": [
      "Unique node count: 326\n"
     ]
    }
   ],
   "source": [
    "unique_nodes = []\n",
    "for node in nodes:\n",
    "    if node not in unique_nodes:\n",
    "        unique_nodes.append(node)\n",
    "print(f\"Unique node count: {len(unique_nodes)}\")"
   ]
  },
  {
   "cell_type": "code",
   "execution_count": 7,
   "id": "693a1c4a",
   "metadata": {},
   "outputs": [
    {
     "name": "stdout",
     "output_type": "stream",
     "text": [
      "Node type count: 7\n"
     ]
    }
   ],
   "source": [
    "# We expect this count to match the unfiltered node type count.\n",
    "unique_node_types = {}\n",
    "for node in unique_nodes:\n",
    "    unique_node_types.setdefault(node.type, []).append(node)\n",
    "print(f\"Node type count: {len(unique_node_types)}\")"
   ]
  },
  {
   "cell_type": "code",
   "execution_count": 8,
   "id": "65e068bb",
   "metadata": {
    "scrolled": true
   },
   "outputs": [
    {
     "name": "stdout",
     "output_type": "stream",
     "text": [
      "Nodes per type:\n",
      "- CalleeExpr: 101\n",
      "- IfThenStmt: 7\n",
      "- ReturnStmt: 7\n",
      "- CallerExpr: 205\n",
      "- CXXThrowExpr: 4\n",
      "- ForStmt: 1\n",
      "- LoopIter: 1\n"
     ]
    }
   ],
   "source": [
    "print(\"Nodes per type:\")\n",
    "for k, v in unique_node_types.items():\n",
    "    print(f\"- {k}: {len(v)}\")"
   ]
  },
  {
   "cell_type": "markdown",
   "id": "37f491ae",
   "metadata": {},
   "source": [
    "We can reason about the control flow related unique node counts using the source:\n",
    "\n",
    "- The source has 7 `if` statements (`grep if src/fibonacci.cpp | wc -l`).\n",
    "    - Note: This includes `else if`.\n",
    "- The source has 7 `return` statements (`grep return src/fibonacci.cpp | wc -l`).\n",
    "- The source has 4 `throw` statements (`grep throw src/fibonacci.cpp | wc -l`).\n",
    "- The source has 1 `for` statement (`grep \"for \" src/fibonacci.cpp | wc -l`)."
   ]
  },
  {
   "cell_type": "markdown",
   "id": "89802cf6",
   "metadata": {},
   "source": [
    "## 4. Trace Summary\n",
    "\n",
    "As mentioned in Section 2, we expect 9 traces for each of the 4 exposed library functions for a total of 36 traces."
   ]
  },
  {
   "cell_type": "code",
   "execution_count": 9,
   "id": "2f8b50ca",
   "metadata": {},
   "outputs": [
    {
     "name": "stdout",
     "output_type": "stream",
     "text": [
      "Trace entry point count: 4\n"
     ]
    }
   ],
   "source": [
    "binned_trees = {}\n",
    "for tree in trees:\n",
    "    binned_trees.setdefault(tree.root.sig, []).append(tree)\n",
    "print(f\"Trace entry point count: {len(binned_trees)}\")"
   ]
  },
  {
   "cell_type": "code",
   "execution_count": 10,
   "id": "c906f7b5",
   "metadata": {},
   "outputs": [
    {
     "name": "stdout",
     "output_type": "stream",
     "text": [
      "Traces per entry point:\n",
      "- unsigned long long fibonacci::RecursiveNaive(unsigned short): 9\n",
      "- unsigned long long fibonacci::RecursiveMemo(unsigned short): 9\n",
      "- unsigned long long fibonacci::Iterative(unsigned short): 9\n",
      "- unsigned long long fibonacci::LookupTable(unsigned short): 9\n"
     ]
    }
   ],
   "source": [
    "print(\"Traces per entry point:\")\n",
    "for k, v in binned_trees.items():\n",
    "    print(f\"- {k}: {len(v)}\")"
   ]
  },
  {
   "cell_type": "markdown",
   "id": "84b9bee7",
   "metadata": {},
   "source": [
    "## 5. Trace Analysis"
   ]
  },
  {
   "cell_type": "markdown",
   "id": "1c84b3c2",
   "metadata": {},
   "source": [
    "### 5.1. Recursive (Naive)"
   ]
  },
  {
   "cell_type": "code",
   "execution_count": 11,
   "id": "0a65db40",
   "metadata": {},
   "outputs": [
    {
     "name": "stdout",
     "output_type": "stream",
     "text": [
      "Recorded calls:\n",
      "unsigned long long fibonacci::RecursiveNaive(unsigned short): (0)\n",
      "unsigned long long fibonacci::RecursiveNaive(unsigned short): (1)\n",
      "unsigned long long fibonacci::RecursiveNaive(unsigned short): (2)\n",
      "unsigned long long fibonacci::RecursiveNaive(unsigned short): (3)\n",
      "unsigned long long fibonacci::RecursiveNaive(unsigned short): (4)\n",
      "unsigned long long fibonacci::RecursiveNaive(unsigned short): (5)\n",
      "unsigned long long fibonacci::RecursiveNaive(unsigned short): (6)\n",
      "unsigned long long fibonacci::RecursiveNaive(unsigned short): (7)\n",
      "unsigned long long fibonacci::RecursiveNaive(unsigned short): (94)\n"
     ]
    }
   ],
   "source": [
    "rec_naive_sig = f\"unsigned long long fibonacci::RecursiveNaive(unsigned short)\"\n",
    "rec_naive_trees = binned_trees[rec_naive_sig]\n",
    "\n",
    "def to_params_str(params):\n",
    "    #return \", \".join([f\"{param['name']}={param['value']}\" for param in params])\n",
    "    return \", \".join([f\"{param['value']}\" for param in params])\n",
    "\n",
    "def to_call_str(node):\n",
    "    return f\"{node.sig}: ({to_params_str(node.params)})\"\n",
    "\n",
    "print(\"Recorded calls:\")\n",
    "for tree in rec_naive_trees:\n",
    "    print(f\"{to_call_str(tree.root)}\")"
   ]
  },
  {
   "cell_type": "code",
   "execution_count": 12,
   "id": "31f2ab2e",
   "metadata": {},
   "outputs": [
    {
     "name": "stdout",
     "output_type": "stream",
     "text": [
      "(2106190) unsigned long long fibonacci::RecursiveNaive(unsigned short): (0)\n",
      "└── (2106009) IfThenStmt: n < 2\n",
      "    └── (2106007) ReturnStmt: return n\n",
      "\n",
      "(2106190) unsigned long long fibonacci::RecursiveNaive(unsigned short): (2)\n",
      "└── (2106188) ReturnStmt: return RecursiveNaive(n - 1) + RecursiveNaive(n - 2)\n",
      "    ├── (2106190) unsigned long long fibonacci::RecursiveNaive(unsigned short): (1)\n",
      "    │   └── (2106009) IfThenStmt: n < 2\n",
      "    │       └── (2106007) ReturnStmt: return n\n",
      "    ├── (2106190) unsigned long long fibonacci::RecursiveNaive(unsigned short): (0)\n",
      "    │   └── (2106009) IfThenStmt: n < 2\n",
      "    │       └── (2106007) ReturnStmt: return n\n",
      "    └── (2106184) unsigned long long operator+(unsigned long long, unsigned long long): (1, 0)\n",
      "        └── (2106117) int operator-(unsigned short, int): (2, 1)\n",
      "            ├── (2106190) unsigned long long fibonacci::RecursiveNaive(unsigned short): (1)\n",
      "            │   └── (2106009) IfThenStmt: n < 2\n",
      "            │       └── (2106007) ReturnStmt: return n\n",
      "            └── (2106165) int operator-(unsigned short, int): (2, 2)\n",
      "                └── (2106190) unsigned long long fibonacci::RecursiveNaive(unsigned short): (0)\n",
      "                    └── (2106009) IfThenStmt: n < 2\n",
      "                        └── (2106007) ReturnStmt: return n\n",
      "\n",
      "(2106190) unsigned long long fibonacci::RecursiveNaive(unsigned short): (94)\n",
      "└── (2106081) IfThenStmt: n > 93\n",
      "    └── (2106075) CXXThrowExpr: throw std::overflow_error(\"n must be less than 94\")\n",
      "\n"
     ]
    }
   ],
   "source": [
    "# Peek at select traces that we know take differing paths.\n",
    "def to_simple_node_view(node):\n",
    "    sym = \"sym @ \" if hasattr(node, \"target\") else \"\"\n",
    "    if paptree.Node.is_call_type(node.type):\n",
    "        desc = f\" {to_call_str(node)}\"\n",
    "    else:\n",
    "        desc = f\" {node.type}: {node.desc}\"\n",
    "    return f\"({sym}{node.name}){desc}\"\n",
    "\n",
    "for tree in operator.itemgetter(0, 2, 8)(rec_naive_trees):\n",
    "    for pre, _, node in anytree.RenderTree(tree.root):\n",
    "        print(f\"{pre}{to_simple_node_view(node)}\")\n",
    "    print()"
   ]
  },
  {
   "cell_type": "code",
   "execution_count": 13,
   "id": "1ad4a5f7",
   "metadata": {},
   "outputs": [
    {
     "name": "stdout",
     "output_type": "stream",
     "text": [
      "(2106190) unsigned long long fibonacci::RecursiveNaive(unsigned short): (0)\n",
      "└── (2106009) IfThenStmt: n < 2\n",
      "    └── (2106007) ReturnStmt: return n\n",
      "\n",
      "(2106190) unsigned long long fibonacci::RecursiveNaive(unsigned short): (2)\n",
      "└── (2106188) ReturnStmt: return RecursiveNaive(n - 1) + RecursiveNaive(n - 2)\n",
      "    ├── (2106190) unsigned long long fibonacci::RecursiveNaive(unsigned short): (1)\n",
      "    │   └── (2106009) IfThenStmt: n < 2\n",
      "    │       └── (2106007) ReturnStmt: return n\n",
      "    ├── (2106190) unsigned long long fibonacci::RecursiveNaive(unsigned short): (0)\n",
      "    │   └── (2106009) IfThenStmt: n < 2\n",
      "    │       └── (2106007) ReturnStmt: return n\n",
      "    └── (2106184) unsigned long long operator+(unsigned long long, unsigned long long): (1, 0)\n",
      "\n",
      "(2106190) unsigned long long fibonacci::RecursiveNaive(unsigned short): (94)\n",
      "└── (2106081) IfThenStmt: n > 93\n",
      "    └── (2106075) CXXThrowExpr: throw std::overflow_error(\"n must be less than 94\")\n",
      "\n"
     ]
    }
   ],
   "source": [
    "# Let's eliminate the children of the operator nodes. They are there by mistake.\n",
    "for tree in trees:\n",
    "    for node in anytree.PreOrderIter(tree.root):\n",
    "        if node.type == \"CallerExpr\":\n",
    "            if \"operator+\" in node.sig or \"operator-\" in node.sig or \"operator=\" in node.sig:\n",
    "                node.children = ()\n",
    "\n",
    "for tree in operator.itemgetter(0, 2, 8)(rec_naive_trees):\n",
    "    for pre, _, node in anytree.RenderTree(tree.root):\n",
    "        print(f\"{pre}{to_simple_node_view(node)}\")\n",
    "    print()"
   ]
  },
  {
   "cell_type": "code",
   "execution_count": 14,
   "id": "868a9dae",
   "metadata": {},
   "outputs": [
    {
     "name": "stdout",
     "output_type": "stream",
     "text": [
      "Path count: 4 \n",
      "\n",
      "Traces per path:\n",
      "- (2106009, 2106007): 1\n",
      "- (2106188, 2106009, 2106007, 2106009, 2106007): 1\n",
      "- (2106188, 2106188, 2106009, 2106007, 2106009, 2106007, 2106009, 2106007): 1\n",
      "- (2106081, 2106075): 1\n"
     ]
    }
   ],
   "source": [
    "def is_cf_node(node):\n",
    "    return node.type in [\"IfThenStmt\", \"ReturnStmt\", \"CXXThrowExpr\", \"ForStmt\", \"LoopIter\"]\n",
    "\n",
    "# NOTE: We currently do not need to account for the context of calls made inside the trace\n",
    "# because we have not \"squashed\" those call nodes. If we did \"squash\" call nodes, then we\n",
    "# would need to query the path for that call to be able to correctly form partitions.\n",
    "fn_paths = {}\n",
    "for tree in operator.itemgetter(0, 2, 3, 8)(rec_naive_trees):\n",
    "    #print(f\"\\n{fn_name}({to_params_str(tree.root.params)})\")\n",
    "    cf_nodes = [node.name for node in anytree.PreOrderIter(tree.root, filter_=is_cf_node)]\n",
    "    fn_paths.setdefault(tuple(cf_nodes), []).append(tree)\n",
    "    #print(anytree.RenderTree(tree), \"\\n\")\n",
    "\n",
    "# Q. What do we expect here?\n",
    "#\n",
    "# A1. We expect 3 paths. Each trace in n > 1 =< 93 takes Path 2. Maximum of 3 paths.\n",
    "# Path 1: n <= 1\n",
    "# Path 2: n > 1 =< 93\n",
    "# Path 3: n > 93\n",
    "#\n",
    "# A2. We expect 4 paths. Each trace in n > 1 =< 93 takes its own Path. Maximum of 94 paths.\n",
    "# Path 1: n <= 1\n",
    "# Path 2: n == 2\n",
    "# Path 3: n > 93\n",
    "# \n",
    "# Clearly A1 is preferable to A2, but our current code produces A2.\n",
    "\n",
    "print(f\"Path count: {len(fn_paths)}\", \"\\n\")\n",
    "print(\"Traces per path:\")\n",
    "for k, v in fn_paths.items():\n",
    "    print(f\"- {k}: {len(v)}\")"
   ]
  },
  {
   "cell_type": "code",
   "execution_count": 15,
   "id": "da9314a8",
   "metadata": {},
   "outputs": [
    {
     "name": "stdout",
     "output_type": "stream",
     "text": [
      "(2106190) unsigned long long fibonacci::RecursiveNaive(unsigned short): (0)\n",
      "└── (2106009) IfThenStmt: n < 2\n",
      "    └── (2106007) ReturnStmt: return n\n",
      "\n",
      "(2106190) unsigned long long fibonacci::RecursiveNaive(unsigned short): (2)\n",
      "└── (2106188) ReturnStmt: return RecursiveNaive(n - 1) + RecursiveNaive(n - 2)\n",
      "    ├── (sym @ 2106190) unsigned long long fibonacci::RecursiveNaive(unsigned short): (1)\n",
      "    ├── (sym @ 2106190) unsigned long long fibonacci::RecursiveNaive(unsigned short): (0)\n",
      "    └── (2106184) unsigned long long operator+(unsigned long long, unsigned long long): (1, 0)\n",
      "\n",
      "(2106190) unsigned long long fibonacci::RecursiveNaive(unsigned short): (94)\n",
      "└── (2106081) IfThenStmt: n > 93\n",
      "    └── (2106075) CXXThrowExpr: throw std::overflow_error(\"n must be less than 94\")\n",
      "\n"
     ]
    }
   ],
   "source": [
    "# Getting to A2.\n",
    "#\n",
    "# 1. First thing we can do is \"squash\" calls so that recursion does not result in differing paths.\n",
    "# 2. Next, we can use the expression for the \"squashed\" calls to differentiate between calls to different paths.\n",
    "# 2a. For now, we can just fake an expression for the \"squashed\" calls.\n",
    "# 2b. In practice, we will need to solve for the squashed calls using symbolic regression.\n",
    "\n",
    "# STEP 1\n",
    "# Let's start by putting our trace root nodes in a container that allows us\n",
    "# to lookup the trace by context.\n",
    "# NOTE: This does not account for complete non-root traces (e.g., RecursiveMemoImpl).\n",
    "trace_roots = {}\n",
    "for tree in trees:\n",
    "    call_str = to_call_str(tree.root)\n",
    "    if call_str not in trace_roots:\n",
    "        trace_roots[call_str] = tree.root\n",
    "    else:\n",
    "        if tree.root != trace_roots[call_str]:\n",
    "            raise RuntimeError(\n",
    "                \"Unhandled scenario: 2 traces with the same context have differing trees.\")\n",
    "            \n",
    "# Now we walk the trees looking for child nodes that can be substituted with a\n",
    "# trace root node.\n",
    "for tree in trees:\n",
    "    for node in anytree.PreOrderIter(tree.root):\n",
    "        if node.is_root:\n",
    "            continue\n",
    "        replace_children = False\n",
    "        new_children = []\n",
    "        for child in node.children:\n",
    "            if child.type == \"CalleeExpr\":\n",
    "                child_call_str = to_call_str(child)\n",
    "                if child_call_str in trace_roots:\n",
    "                    replace_children = True\n",
    "                    child = anytree.SymlinkNode(child)\n",
    "            new_children.append(child)\n",
    "        if replace_children:\n",
    "            node.children = tuple(new_children)\n",
    "            \n",
    "# Peek again at the select traces now that calls have been \"squashed\".\n",
    "for tree in operator.itemgetter(0, 2, 8)(rec_naive_trees):\n",
    "    for pre, _, node in anytree.RenderTree(tree.root):\n",
    "        print(f\"{pre}{to_simple_node_view(node)}\")\n",
    "    print()"
   ]
  },
  {
   "cell_type": "code",
   "execution_count": 16,
   "id": "ae83f858",
   "metadata": {},
   "outputs": [
    {
     "name": "stdout",
     "output_type": "stream",
     "text": [
      "Path count: 3 \n",
      "\n",
      "Traces per path:\n",
      "- (2106009, 2106007): 2\n",
      "- (2106188,): 6\n",
      "- (2106081, 2106075): 1\n"
     ]
    }
   ],
   "source": [
    "# Let's group by path again. We expect to have a path count of 3.\n",
    "fn_paths = {}\n",
    "for tree in rec_naive_trees:\n",
    "    cf_nodes = [node.name for node in anytree.PreOrderIter(tree.root, filter_=is_cf_node)]\n",
    "    fn_paths.setdefault(tuple(cf_nodes), []).append(tree)\n",
    "\n",
    "print(f\"Path count: {len(fn_paths)}\", \"\\n\")\n",
    "print(\"Traces per path:\")\n",
    "for k, v in fn_paths.items():\n",
    "    print(f\"- {k}: {len(v)}\")"
   ]
  },
  {
   "cell_type": "code",
   "execution_count": 17,
   "id": "fd577c8a",
   "metadata": {},
   "outputs": [
    {
     "name": "stdout",
     "output_type": "stream",
     "text": [
      "\n",
      "Eval Order:\n",
      "unsigned long long fibonacci::RecursiveNaive(unsigned short): (94)\n",
      "unsigned long long fibonacci::RecursiveNaive(unsigned short): (1)\n",
      "unsigned long long fibonacci::RecursiveNaive(unsigned short): (0)\n",
      "unsigned long long fibonacci::RecursiveNaive(unsigned short): (2)\n",
      "unsigned long long fibonacci::RecursiveNaive(unsigned short): (3)\n",
      "unsigned long long fibonacci::RecursiveNaive(unsigned short): (4)\n",
      "unsigned long long fibonacci::RecursiveNaive(unsigned short): (5)\n",
      "unsigned long long fibonacci::RecursiveNaive(unsigned short): (6)\n",
      "unsigned long long fibonacci::RecursiveNaive(unsigned short): (7)\n",
      "root\n"
     ]
    }
   ],
   "source": [
    "# STEP 2\n",
    "#\n",
    "# At this point we've only performed partial path partitioning. For example, RecursiveNaive(2)\n",
    "# and RecursiveNaive(3) seem to take the same path, but we don't know until we've solved for\n",
    "# the complexity of their recursive calls.\n",
    "# \n",
    "# RN(2) depends on both RN(1) and RN(0)\n",
    "# RN(3) depends on both RN(2) and RN(1)\n",
    "#\n",
    "# This means these relationships can be modeled by the dependency tree:\n",
    "# RN(3)\n",
    "# + RN(2)\n",
    "#   + RN(1)\n",
    "#   + RN(0)\n",
    "#\n",
    "# We need to generate this dependency tree using code.\n",
    "\n",
    "G = nx.DiGraph()\n",
    "G.add_node(\"root\")\n",
    "for tree in rec_naive_trees:\n",
    "    nodes = [node for node in anytree.PreOrderIter(tree.root, filter_=lambda n: hasattr(n, \"target\"))]\n",
    "    target_str = to_call_str(tree.root)\n",
    "    if not nodes:\n",
    "        G.add_edge(target_str, \"root\")\n",
    "    else:\n",
    "        for node in nodes:\n",
    "            prereq_str = to_call_str(node)\n",
    "            G.add_edge(prereq_str, target_str)\n",
    "\n",
    "dfs_postorder = [node for node in nx.dfs_postorder_nodes(G)]\n",
    "eval_order = dfs_postorder[::-1]\n",
    "\n",
    "print(\"\\nEval Order:\")\n",
    "for x in eval_order:\n",
    "    print(x)"
   ]
  },
  {
   "cell_type": "code",
   "execution_count": 18,
   "id": "106d45c6",
   "metadata": {
    "scrolled": true
   },
   "outputs": [
    {
     "name": "stdout",
     "output_type": "stream",
     "text": [
      "{\n",
      "  \"path_0\": {\n",
      "    \"0\": \"Symbol('C_F2106190_P0')\",\n",
      "    \"1\": \"Symbol('C_F2106190_P0')\"\n",
      "  },\n",
      "  \"path_1\": {\n",
      "    \"2\": \"Add(Mul(Integer(2), Symbol('C_F2106190_P0')), Symbol('C_F2106190_P1'))\",\n",
      "    \"3\": \"Add(Mul(Integer(3), Symbol('C_F2106190_P0')), Mul(Integer(2), Symbol('C_F2106190_P1')))\",\n",
      "    \"4\": \"Add(Mul(Integer(5), Symbol('C_F2106190_P0')), Mul(Integer(4), Symbol('C_F2106190_P1')))\",\n",
      "    \"5\": \"Add(Mul(Integer(8), Symbol('C_F2106190_P0')), Mul(Integer(7), Symbol('C_F2106190_P1')))\",\n",
      "    \"6\": \"Add(Mul(Integer(13), Symbol('C_F2106190_P0')), Mul(Integer(12), Symbol('C_F2106190_P1')))\",\n",
      "    \"7\": \"Add(Mul(Integer(21), Symbol('C_F2106190_P0')), Mul(Integer(20), Symbol('C_F2106190_P1')))\"\n",
      "  },\n",
      "  \"path_2\": {\n",
      "    \"94\": \"Symbol('C_F2106190_P2')\"\n",
      "  }\n",
      "}\n"
     ]
    }
   ],
   "source": [
    "# Let's structure traces for the solver.\n",
    "\n",
    "# Convert path tuples to IDs.\n",
    "# We store an ID->trees mapping so that we can easily query trees for a path ID.\n",
    "path_ids = {}\n",
    "id_paths = {}\n",
    "for path_tuple, trees in fn_paths.items():\n",
    "    path_id = path_ids.setdefault(path_tuple, len(path_ids))\n",
    "    id_paths[path_id] = trees\n",
    "\n",
    "# It is expected that we start with some known values.\n",
    "# NOTE: This currently uses signatures to generalize (i.e., it is not accounting for context).\n",
    "known = {\n",
    "    \"int operator-(unsigned short, int)\": [\"\"], \n",
    "    \"unsigned long long operator+(unsigned long long, unsigned long long)\": [\"\"],\n",
    "    \"unsigned long long operator=(unsigned long long, unsigned long long)\": [\"\"],\n",
    "}\n",
    "exprs = {}\n",
    "call_path_ids = {}\n",
    "\n",
    "# Expr data should map: sig->path_id->ctx->expr\n",
    "expr_data = {}\n",
    "\n",
    "def to_expr(node, level=0):\n",
    "    subexpr = []\n",
    "    for child in node.children:\n",
    "        subexpr.extend(to_expr(child, level+1))\n",
    "    if node.is_root:\n",
    "        subexpr.append(f\"C_F{node.name}_P{call_path_ids[to_call_str(node)]}\")\n",
    "    elif paptree.Node.is_call_type(node.type):\n",
    "        #print(f\"{' ' * 2 * level}including node {to_simple_node_view(node)}\")\n",
    "        if node.sig in known:\n",
    "            subexpr.extend(known[node.sig])\n",
    "        else:\n",
    "            subexpr.extend(exprs[to_call_str(node)])\n",
    "    else:\n",
    "        #print(f\"{' ' * 2 * level}excluding node {to_simple_node_view(node)}\")\n",
    "        pass\n",
    "    return subexpr\n",
    "\n",
    "for path_id, path_trees in id_paths.items():\n",
    "    for tree in path_trees:\n",
    "        call_path_ids[to_call_str(tree.root)] = path_id\n",
    "        expr = to_expr(tree.root)\n",
    "        exprs[to_call_str(tree.root)] = expr\n",
    "        \n",
    "        sig_data = expr_data.setdefault(tree.root.sig, {})\n",
    "        path_data = sig_data.setdefault(f\"path_{path_id}\", {})\n",
    "        param_str = to_params_str(tree.root.params)\n",
    "        sympy_expr = sympy.sympify(' + '.join(expr))\n",
    "        path_data[param_str] = sympy.srepr(sympy_expr)\n",
    "\n",
    "print(json.dumps(expr_data[rec_naive_sig], indent=2))"
   ]
  },
  {
   "cell_type": "markdown",
   "id": "9a9b5c9f",
   "metadata": {},
   "source": [
    "### 5.2. Iterative"
   ]
  },
  {
   "cell_type": "code",
   "execution_count": 19,
   "id": "683498e4",
   "metadata": {
    "scrolled": true
   },
   "outputs": [
    {
     "name": "stdout",
     "output_type": "stream",
     "text": [
      "Recorded calls:\n",
      "unsigned long long fibonacci::Iterative(unsigned short): (0)\n",
      "unsigned long long fibonacci::Iterative(unsigned short): (1)\n",
      "unsigned long long fibonacci::Iterative(unsigned short): (2)\n",
      "unsigned long long fibonacci::Iterative(unsigned short): (3)\n",
      "unsigned long long fibonacci::Iterative(unsigned short): (4)\n",
      "unsigned long long fibonacci::Iterative(unsigned short): (5)\n",
      "unsigned long long fibonacci::Iterative(unsigned short): (6)\n",
      "unsigned long long fibonacci::Iterative(unsigned short): (7)\n",
      "unsigned long long fibonacci::Iterative(unsigned short): (94)\n"
     ]
    }
   ],
   "source": [
    "iter_sig = f\"unsigned long long fibonacci::Iterative(unsigned short)\"\n",
    "iter_trees = binned_trees[iter_sig]\n",
    "\n",
    "print(\"Recorded calls:\")\n",
    "for tree in iter_trees:\n",
    "    print(f\"{to_call_str(tree.root)}\")"
   ]
  },
  {
   "cell_type": "code",
   "execution_count": 20,
   "id": "d412a072",
   "metadata": {},
   "outputs": [
    {
     "name": "stdout",
     "output_type": "stream",
     "text": [
      "(2110045) unsigned long long fibonacci::Iterative(unsigned short): (0)\n",
      "└── (2109766) IfThenStmt: n < 2\n",
      "    └── (2109764) ReturnStmt: return n\n",
      "\n",
      "(2110045) unsigned long long fibonacci::Iterative(unsigned short): (2)\n",
      "├── (2110029) ForStmt: for (unsigned short i = 2; i <= n; ++i)\n",
      "│   └── (2110029) LoopIter: LoopIter\n",
      "│       ├── (2109990) unsigned long long operator=(unsigned long long, unsigned long long): (105553123975920, 1)\n",
      "│       ├── (2110005) unsigned long long operator=(unsigned long long, unsigned long long): (0, 1)\n",
      "│       └── (2110020) unsigned long long operator=(unsigned long long, unsigned long long): (1, 1)\n",
      "└── (2110043) ReturnStmt: return fib\n",
      "\n",
      "(2110045) unsigned long long fibonacci::Iterative(unsigned short): (94)\n",
      "└── (2109827) IfThenStmt: n > 93\n",
      "    └── (2109821) CXXThrowExpr: throw std::overflow_error(\"n must be less than 94\")\n",
      "\n"
     ]
    }
   ],
   "source": [
    "# Peek at select traces that we know take differing paths.\n",
    "for tree in operator.itemgetter(0, 2, 8)(iter_trees):\n",
    "    for pre, _, node in anytree.RenderTree(tree.root):\n",
    "        print(f\"{pre}{to_simple_node_view(node)}\")\n",
    "    print()"
   ]
  },
  {
   "cell_type": "code",
   "execution_count": 21,
   "id": "38b7b7fa",
   "metadata": {},
   "outputs": [
    {
     "name": "stdout",
     "output_type": "stream",
     "text": [
      "Path count: 8 \n",
      "\n",
      "Traces per path:\n",
      "- (2109766, 2109764): 2\n",
      "- (2110029, 2110029, 2110043): 1\n",
      "- (2110029, 2110029, 2110029, 2110043): 1\n",
      "- (2110029, 2110029, 2110029, 2110029, 2110043): 1\n",
      "- (2110029, 2110029, 2110029, 2110029, 2110029, 2110043): 1\n",
      "- (2110029, 2110029, 2110029, 2110029, 2110029, 2110029, 2110043): 1\n",
      "- (2110029, 2110029, 2110029, 2110029, 2110029, 2110029, 2110029, 2110043): 1\n",
      "- (2109827, 2109821): 1\n"
     ]
    }
   ],
   "source": [
    "# Let's group by path again. We expect to have a path count of 3.\n",
    "fn_paths = {}\n",
    "for tree in iter_trees:\n",
    "    cf_nodes = [node.name for node in anytree.PreOrderIter(tree.root, filter_=is_cf_node)]\n",
    "    fn_paths.setdefault(tuple(cf_nodes), []).append(tree)\n",
    "\n",
    "print(f\"Path count: {len(fn_paths)}\", \"\\n\")\n",
    "print(\"Traces per path:\")\n",
    "for k, v in fn_paths.items():\n",
    "    print(f\"- {k}: {len(v)}\")"
   ]
  },
  {
   "cell_type": "code",
   "execution_count": 22,
   "id": "bd392ced",
   "metadata": {},
   "outputs": [
    {
     "name": "stdout",
     "output_type": "stream",
     "text": [
      "\n",
      "Eval Order:\n",
      "unsigned long long fibonacci::Iterative(unsigned short): (94)\n",
      "unsigned long long fibonacci::Iterative(unsigned short): (7)\n",
      "unsigned long long fibonacci::Iterative(unsigned short): (6)\n",
      "unsigned long long fibonacci::Iterative(unsigned short): (5)\n",
      "unsigned long long fibonacci::Iterative(unsigned short): (4)\n",
      "unsigned long long fibonacci::Iterative(unsigned short): (3)\n",
      "unsigned long long fibonacci::Iterative(unsigned short): (2)\n",
      "unsigned long long fibonacci::Iterative(unsigned short): (1)\n",
      "unsigned long long fibonacci::Iterative(unsigned short): (0)\n",
      "root\n"
     ]
    }
   ],
   "source": [
    "G = nx.DiGraph()\n",
    "G.add_node(\"root\")\n",
    "for tree in iter_trees:\n",
    "    nodes = [node for node in anytree.PreOrderIter(tree.root, filter_=lambda n: hasattr(n, \"target\"))]\n",
    "    target_str = to_call_str(tree.root)\n",
    "    if not nodes:\n",
    "        G.add_edge(target_str, \"root\")\n",
    "    else:\n",
    "        for node in nodes:\n",
    "            prereq_str = to_call_str(node)\n",
    "            G.add_edge(prereq_str, target_str)\n",
    "\n",
    "dfs_postorder = [node for node in nx.dfs_postorder_nodes(G)]\n",
    "eval_order = dfs_postorder[::-1]\n",
    "\n",
    "print(\"\\nEval Order:\")\n",
    "for x in eval_order:\n",
    "    print(x)"
   ]
  },
  {
   "cell_type": "code",
   "execution_count": 23,
   "id": "40552a9b",
   "metadata": {},
   "outputs": [
    {
     "name": "stdout",
     "output_type": "stream",
     "text": [
      "{\n",
      "  \"path_0\": {\n",
      "    \"0\": \"Symbol('C_F2110045_P0')\",\n",
      "    \"1\": \"Symbol('C_F2110045_P0')\"\n",
      "  },\n",
      "  \"path_1\": {\n",
      "    \"2\": \"Symbol('C_F2110045_P1')\"\n",
      "  },\n",
      "  \"path_2\": {\n",
      "    \"3\": \"Symbol('C_F2110045_P2')\"\n",
      "  },\n",
      "  \"path_3\": {\n",
      "    \"4\": \"Symbol('C_F2110045_P3')\"\n",
      "  },\n",
      "  \"path_4\": {\n",
      "    \"5\": \"Symbol('C_F2110045_P4')\"\n",
      "  },\n",
      "  \"path_5\": {\n",
      "    \"6\": \"Symbol('C_F2110045_P5')\"\n",
      "  },\n",
      "  \"path_6\": {\n",
      "    \"7\": \"Symbol('C_F2110045_P6')\"\n",
      "  },\n",
      "  \"path_7\": {\n",
      "    \"94\": \"Symbol('C_F2110045_P7')\"\n",
      "  }\n",
      "}\n"
     ]
    }
   ],
   "source": [
    "# Let's structure traces for the solver.\n",
    "\n",
    "# Convert path tuples to IDs.\n",
    "# We store an ID->trees mapping so that we can easily query trees for a path ID.\n",
    "path_ids = {}\n",
    "id_paths = {}\n",
    "for path_tuple, trees in fn_paths.items():\n",
    "    path_id = path_ids.setdefault(path_tuple, len(path_ids))\n",
    "    id_paths[path_id] = trees\n",
    "\n",
    "for path_id, path_trees in id_paths.items():\n",
    "    for tree in path_trees:\n",
    "        call_path_ids[to_call_str(tree.root)] = path_id\n",
    "        expr = to_expr(tree.root)\n",
    "        exprs[to_call_str(tree.root)] = expr\n",
    "        \n",
    "        sig_data = expr_data.setdefault(tree.root.sig, {})\n",
    "        path_data = sig_data.setdefault(f\"path_{path_id}\", {})\n",
    "        param_str = to_params_str(tree.root.params)\n",
    "        with sympy.evaluate(False):\n",
    "            sympy_expr = sympy.sympify(' + '.join(expr))\n",
    "            path_data[param_str] = sympy.srepr(sympy_expr)\n",
    "\n",
    "print(json.dumps(expr_data[iter_sig], indent=2))"
   ]
  },
  {
   "cell_type": "markdown",
   "id": "a375c309",
   "metadata": {},
   "source": [
    "### 5.3. Lookup Table"
   ]
  },
  {
   "cell_type": "code",
   "execution_count": 24,
   "id": "379b7dee",
   "metadata": {
    "scrolled": true
   },
   "outputs": [
    {
     "name": "stdout",
     "output_type": "stream",
     "text": [
      "Recorded calls:\n",
      "unsigned long long fibonacci::LookupTable(unsigned short): (0)\n",
      "unsigned long long fibonacci::LookupTable(unsigned short): (1)\n",
      "unsigned long long fibonacci::LookupTable(unsigned short): (2)\n",
      "unsigned long long fibonacci::LookupTable(unsigned short): (3)\n",
      "unsigned long long fibonacci::LookupTable(unsigned short): (4)\n",
      "unsigned long long fibonacci::LookupTable(unsigned short): (5)\n",
      "unsigned long long fibonacci::LookupTable(unsigned short): (6)\n",
      "unsigned long long fibonacci::LookupTable(unsigned short): (7)\n",
      "unsigned long long fibonacci::LookupTable(unsigned short): (94)\n"
     ]
    }
   ],
   "source": [
    "lookup_sig = f\"unsigned long long fibonacci::LookupTable(unsigned short)\"\n",
    "lookup_trees = binned_trees[lookup_sig]\n",
    "\n",
    "print(\"Recorded calls:\")\n",
    "for tree in lookup_trees:\n",
    "    print(f\"{to_call_str(tree.root)}\")"
   ]
  },
  {
   "cell_type": "code",
   "execution_count": 25,
   "id": "44450aa2",
   "metadata": {},
   "outputs": [
    {
     "name": "stdout",
     "output_type": "stream",
     "text": [
      "(2110185) unsigned long long fibonacci::LookupTable(unsigned short): (0)\n",
      "└── (2110183) ReturnStmt: return s_fib_table[n]\n",
      "\n",
      "(2110185) unsigned long long fibonacci::LookupTable(unsigned short): (2)\n",
      "└── (2110183) ReturnStmt: return s_fib_table[n]\n",
      "\n",
      "(2110185) unsigned long long fibonacci::LookupTable(unsigned short): (94)\n",
      "└── (2110155) IfThenStmt: n > 93\n",
      "    └── (2110149) CXXThrowExpr: throw std::overflow_error(\"n must be less than 94\")\n",
      "\n"
     ]
    }
   ],
   "source": [
    "# Peek at select traces that we know take differing paths.\n",
    "# Note: Unlike preview implementations, calls for number 0 and 2 take the same path.\n",
    "for tree in operator.itemgetter(0, 2, 8)(lookup_trees):\n",
    "    for pre, _, node in anytree.RenderTree(tree.root):\n",
    "        print(f\"{pre}{to_simple_node_view(node)}\")\n",
    "    print()"
   ]
  },
  {
   "cell_type": "code",
   "execution_count": 26,
   "id": "48126173",
   "metadata": {},
   "outputs": [
    {
     "name": "stdout",
     "output_type": "stream",
     "text": [
      "Path count: 2 \n",
      "\n",
      "Traces per path:\n",
      "- (2110183,): 8\n",
      "- (2110155, 2110149): 1\n"
     ]
    }
   ],
   "source": [
    "# Let's group by path again. We expect to have a path count of 2.\n",
    "fn_paths = {}\n",
    "for tree in lookup_trees:\n",
    "    cf_nodes = [node.name for node in anytree.PreOrderIter(tree.root, filter_=is_cf_node)]\n",
    "    fn_paths.setdefault(tuple(cf_nodes), []).append(tree)\n",
    "\n",
    "print(f\"Path count: {len(fn_paths)}\", \"\\n\")\n",
    "print(\"Traces per path:\")\n",
    "for k, v in fn_paths.items():\n",
    "    print(f\"- {k}: {len(v)}\")"
   ]
  },
  {
   "cell_type": "code",
   "execution_count": 27,
   "id": "94336807",
   "metadata": {},
   "outputs": [
    {
     "name": "stdout",
     "output_type": "stream",
     "text": [
      "\n",
      "Eval Order:\n",
      "unsigned long long fibonacci::LookupTable(unsigned short): (94)\n",
      "unsigned long long fibonacci::LookupTable(unsigned short): (7)\n",
      "unsigned long long fibonacci::LookupTable(unsigned short): (6)\n",
      "unsigned long long fibonacci::LookupTable(unsigned short): (5)\n",
      "unsigned long long fibonacci::LookupTable(unsigned short): (4)\n",
      "unsigned long long fibonacci::LookupTable(unsigned short): (3)\n",
      "unsigned long long fibonacci::LookupTable(unsigned short): (2)\n",
      "unsigned long long fibonacci::LookupTable(unsigned short): (1)\n",
      "unsigned long long fibonacci::LookupTable(unsigned short): (0)\n",
      "root\n"
     ]
    }
   ],
   "source": [
    "G = nx.DiGraph()\n",
    "G.add_node(\"root\")\n",
    "for tree in lookup_trees:\n",
    "    nodes = [node for node in anytree.PreOrderIter(tree.root, filter_=lambda n: hasattr(n, \"target\"))]\n",
    "    target_str = to_call_str(tree.root)\n",
    "    if not nodes:\n",
    "        G.add_edge(target_str, \"root\")\n",
    "    else:\n",
    "        for node in nodes:\n",
    "            prereq_str = to_call_str(node)\n",
    "            G.add_edge(prereq_str, target_str)\n",
    "\n",
    "dfs_postorder = [node for node in nx.dfs_postorder_nodes(G)]\n",
    "eval_order = dfs_postorder[::-1]\n",
    "\n",
    "print(\"\\nEval Order:\")\n",
    "for x in eval_order:\n",
    "    print(x)"
   ]
  },
  {
   "cell_type": "code",
   "execution_count": 28,
   "id": "f5450a02",
   "metadata": {},
   "outputs": [
    {
     "name": "stdout",
     "output_type": "stream",
     "text": [
      "{\n",
      "  \"path_0\": {\n",
      "    \"0\": \"Symbol('C_F2110185_P0')\",\n",
      "    \"1\": \"Symbol('C_F2110185_P0')\",\n",
      "    \"2\": \"Symbol('C_F2110185_P0')\",\n",
      "    \"3\": \"Symbol('C_F2110185_P0')\",\n",
      "    \"4\": \"Symbol('C_F2110185_P0')\",\n",
      "    \"5\": \"Symbol('C_F2110185_P0')\",\n",
      "    \"6\": \"Symbol('C_F2110185_P0')\",\n",
      "    \"7\": \"Symbol('C_F2110185_P0')\"\n",
      "  },\n",
      "  \"path_1\": {\n",
      "    \"94\": \"Symbol('C_F2110185_P1')\"\n",
      "  }\n",
      "}\n"
     ]
    }
   ],
   "source": [
    "# Convert path tuples to IDs.\n",
    "# We store an ID->trees mapping so that we can easily query trees for a path ID.\n",
    "path_ids = {}\n",
    "id_paths = {}\n",
    "for path_tuple, trees in fn_paths.items():\n",
    "    path_id = path_ids.setdefault(path_tuple, len(path_ids))\n",
    "    id_paths[path_id] = trees\n",
    "\n",
    "# It is expected that we start with some known values.\n",
    "# NOTE: This currently uses signatures to generalize (i.e., it is not accounting for context).\n",
    "known = {\n",
    "    \"int operator-(unsigned short, int)\": [\"\"], \n",
    "    \"unsigned long long operator+(unsigned long long, unsigned long long)\": [\"\"],\n",
    "}\n",
    "exprs = {}\n",
    "call_path_ids = {}\n",
    "\n",
    "for path_id, path_trees in id_paths.items():\n",
    "    for tree in path_trees:\n",
    "        call_path_ids[to_call_str(tree.root)] = path_id\n",
    "        expr = to_expr(tree.root)\n",
    "        exprs[to_call_str(tree.root)] = expr\n",
    "        \n",
    "        sig_data = expr_data.setdefault(tree.root.sig, {})\n",
    "        path_data = sig_data.setdefault(f\"path_{path_id}\", {})\n",
    "        param_str = to_params_str(tree.root.params)\n",
    "        sympy_expr = sympy.sympify(' + '.join(expr))\n",
    "        path_data[param_str] = sympy.srepr(sympy_expr)\n",
    "\n",
    "print(json.dumps(expr_data[lookup_sig], indent=2))"
   ]
  },
  {
   "cell_type": "markdown",
   "id": "852e07c8",
   "metadata": {},
   "source": [
    "## 6. Expression Data\n",
    "\n",
    "Let's take a look at the expression data we have generated from the traces."
   ]
  },
  {
   "cell_type": "code",
   "execution_count": 29,
   "id": "6abe618c",
   "metadata": {},
   "outputs": [
    {
     "name": "stdout",
     "output_type": "stream",
     "text": [
      "{\n",
      "  \"unsigned long long fibonacci::RecursiveNaive(unsigned short)\": {\n",
      "    \"path_0\": {\n",
      "      \"0\": \"Symbol('C_F2106190_P0')\",\n",
      "      \"1\": \"Symbol('C_F2106190_P0')\"\n",
      "    },\n",
      "    \"path_1\": {\n",
      "      \"2\": \"Add(Mul(Integer(2), Symbol('C_F2106190_P0')), Symbol('C_F2106190_P1'))\",\n",
      "      \"3\": \"Add(Mul(Integer(3), Symbol('C_F2106190_P0')), Mul(Integer(2), Symbol('C_F2106190_P1')))\",\n",
      "      \"4\": \"Add(Mul(Integer(5), Symbol('C_F2106190_P0')), Mul(Integer(4), Symbol('C_F2106190_P1')))\",\n",
      "      \"5\": \"Add(Mul(Integer(8), Symbol('C_F2106190_P0')), Mul(Integer(7), Symbol('C_F2106190_P1')))\",\n",
      "      \"6\": \"Add(Mul(Integer(13), Symbol('C_F2106190_P0')), Mul(Integer(12), Symbol('C_F2106190_P1')))\",\n",
      "      \"7\": \"Add(Mul(Integer(21), Symbol('C_F2106190_P0')), Mul(Integer(20), Symbol('C_F2106190_P1')))\"\n",
      "    },\n",
      "    \"path_2\": {\n",
      "      \"94\": \"Symbol('C_F2106190_P2')\"\n",
      "    }\n",
      "  },\n",
      "  \"unsigned long long fibonacci::Iterative(unsigned short)\": {\n",
      "    \"path_0\": {\n",
      "      \"0\": \"Symbol('C_F2110045_P0')\",\n",
      "      \"1\": \"Symbol('C_F2110045_P0')\"\n",
      "    },\n",
      "    \"path_1\": {\n",
      "      \"2\": \"Symbol('C_F2110045_P1')\"\n",
      "    },\n",
      "    \"path_2\": {\n",
      "      \"3\": \"Symbol('C_F2110045_P2')\"\n",
      "    },\n",
      "    \"path_3\": {\n",
      "      \"4\": \"Symbol('C_F2110045_P3')\"\n",
      "    },\n",
      "    \"path_4\": {\n",
      "      \"5\": \"Symbol('C_F2110045_P4')\"\n",
      "    },\n",
      "    \"path_5\": {\n",
      "      \"6\": \"Symbol('C_F2110045_P5')\"\n",
      "    },\n",
      "    \"path_6\": {\n",
      "      \"7\": \"Symbol('C_F2110045_P6')\"\n",
      "    },\n",
      "    \"path_7\": {\n",
      "      \"94\": \"Symbol('C_F2110045_P7')\"\n",
      "    }\n",
      "  },\n",
      "  \"unsigned long long fibonacci::LookupTable(unsigned short)\": {\n",
      "    \"path_0\": {\n",
      "      \"0\": \"Symbol('C_F2110185_P0')\",\n",
      "      \"1\": \"Symbol('C_F2110185_P0')\",\n",
      "      \"2\": \"Symbol('C_F2110185_P0')\",\n",
      "      \"3\": \"Symbol('C_F2110185_P0')\",\n",
      "      \"4\": \"Symbol('C_F2110185_P0')\",\n",
      "      \"5\": \"Symbol('C_F2110185_P0')\",\n",
      "      \"6\": \"Symbol('C_F2110185_P0')\",\n",
      "      \"7\": \"Symbol('C_F2110185_P0')\"\n",
      "    },\n",
      "    \"path_1\": {\n",
      "      \"94\": \"Symbol('C_F2110185_P1')\"\n",
      "    }\n",
      "  }\n",
      "}\n"
     ]
    }
   ],
   "source": [
    "print(json.dumps(expr_data, indent=2))"
   ]
  },
  {
   "cell_type": "code",
   "execution_count": 30,
   "id": "4ecd6557",
   "metadata": {},
   "outputs": [],
   "source": [
    "fib_data_path = pathlib.Path(os.path.abspath(\"\")).parent / \"data\" / \"fibonacci\"\n",
    "with open(fib_data_path / \"paptrace_expr_data.json\", \"w\") as f_out:\n",
    "    f_out.write(json.dumps(expr_data, indent=4))"
   ]
  }
 ],
 "metadata": {
  "kernelspec": {
   "display_name": "Python 3 (ipykernel)",
   "language": "python",
   "name": "python3"
  },
  "language_info": {
   "codemirror_mode": {
    "name": "ipython",
    "version": 3
   },
   "file_extension": ".py",
   "mimetype": "text/x-python",
   "name": "python",
   "nbconvert_exporter": "python",
   "pygments_lexer": "ipython3",
   "version": "3.11.4"
  }
 },
 "nbformat": 4,
 "nbformat_minor": 5
}
