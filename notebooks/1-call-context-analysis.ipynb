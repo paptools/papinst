{
 "cells": [
  {
   "cell_type": "markdown",
   "id": "95171cb6",
   "metadata": {},
   "source": [
    "# Call Context Summary"
   ]
  },
  {
   "cell_type": "markdown",
   "id": "cee22297",
   "metadata": {},
   "source": [
    "## 1. Setup Workspace"
   ]
  },
  {
   "cell_type": "code",
   "execution_count": 1,
   "id": "c75056fd",
   "metadata": {},
   "outputs": [],
   "source": [
    "import json\n",
    "import pathlib\n",
    "import copy\n",
    "import operator\n",
    "\n",
    "import anytree\n",
    "import networkx as nx\n",
    "import sympy\n",
    "\n",
    "import paptree"
   ]
  },
  {
   "cell_type": "markdown",
   "id": "5e7dcceb",
   "metadata": {},
   "source": [
    "## 2. Load Data\n",
    "\n",
    "The fibonnaci library contains fours implementations of a fibonacci generator:\n",
    "\n",
    "1. Recursive (naive)\n",
    "2. Recursive (memoized)\n",
    "3. Iterative\n",
    "4. Lookup table\n",
    "\n",
    "The library unit tests verify the first eight fibonnaci numbers returned by each implementation as well as the behavior when the user requests a fibonnaci number to large to fit in the return type. This should result in 36 (`4 * (8 + 1)`) traces."
   ]
  },
  {
   "cell_type": "code",
   "execution_count": 2,
   "id": "e427fb38",
   "metadata": {},
   "outputs": [
    {
     "name": "stdout",
     "output_type": "stream",
     "text": [
      "Loaded 36 traces.\n"
     ]
    }
   ],
   "source": [
    "trace_file = pathlib.Path.cwd().parent / \"data/fibonacci/paptrace.json\"\n",
    "trees = paptree.utils.from_file(trace_file)\n",
    "print(f\"Loaded {len(trees)} traces.\")"
   ]
  },
  {
   "cell_type": "markdown",
   "id": "f06703e0",
   "metadata": {},
   "source": [
    "## 3. Node Summary"
   ]
  },
  {
   "cell_type": "markdown",
   "id": "f950761f",
   "metadata": {},
   "source": [
    "### 3.1 Unfiltered Nodes"
   ]
  },
  {
   "cell_type": "code",
   "execution_count": 3,
   "id": "4c009e56",
   "metadata": {},
   "outputs": [
    {
     "name": "stdout",
     "output_type": "stream",
     "text": [
      "Node count: 4974\n"
     ]
    }
   ],
   "source": [
    "nodes = []\n",
    "for tree in trees:\n",
    "    nodes.extend(anytree.PreOrderIter(tree.root))\n",
    "print(f\"Node count: {len(nodes)}\")"
   ]
  },
  {
   "cell_type": "code",
   "execution_count": 4,
   "id": "01f1a9d5",
   "metadata": {},
   "outputs": [
    {
     "name": "stdout",
     "output_type": "stream",
     "text": [
      "Node type count: 7\n"
     ]
    }
   ],
   "source": [
    "node_types = {}\n",
    "for node in nodes:\n",
    "    node_types.setdefault(node.type, []).append(node)\n",
    "print(f\"Node type count: {len(node_types)}\")"
   ]
  },
  {
   "cell_type": "code",
   "execution_count": 5,
   "id": "da87c2a6",
   "metadata": {},
   "outputs": [
    {
     "name": "stdout",
     "output_type": "stream",
     "text": [
      "Nodes per type:\n",
      "- CalleeExpr: 1354\n",
      "- IfThenStmt: 923\n",
      "- ReturnStmt: 1350\n",
      "- CallerExpr: 1316\n",
      "- CXXThrowExpr: 4\n",
      "- ForStmt: 6\n",
      "- LoopIter: 21\n"
     ]
    }
   ],
   "source": [
    "print(\"Nodes per type:\")\n",
    "for k, v in node_types.items():\n",
    "    print(f\"- {k}: {len(v)}\")"
   ]
  },
  {
   "cell_type": "markdown",
   "id": "053279c4",
   "metadata": {},
   "source": [
    "### 3.2. Unique Nodes"
   ]
  },
  {
   "cell_type": "code",
   "execution_count": 6,
   "id": "5d644ec2",
   "metadata": {},
   "outputs": [
    {
     "name": "stdout",
     "output_type": "stream",
     "text": [
      "Unique node count: 326\n"
     ]
    }
   ],
   "source": [
    "unique_nodes = []\n",
    "for node in nodes:\n",
    "    if node not in unique_nodes:\n",
    "        unique_nodes.append(node)\n",
    "print(f\"Unique node count: {len(unique_nodes)}\")"
   ]
  },
  {
   "cell_type": "code",
   "execution_count": 7,
   "id": "693a1c4a",
   "metadata": {},
   "outputs": [
    {
     "name": "stdout",
     "output_type": "stream",
     "text": [
      "Node type count: 7\n"
     ]
    }
   ],
   "source": [
    "# We expect this count to match the unfiltered node type count.\n",
    "unique_node_types = {}\n",
    "for node in unique_nodes:\n",
    "    unique_node_types.setdefault(node.type, []).append(node)\n",
    "print(f\"Node type count: {len(unique_node_types)}\")"
   ]
  },
  {
   "cell_type": "code",
   "execution_count": 8,
   "id": "65e068bb",
   "metadata": {
    "scrolled": true
   },
   "outputs": [
    {
     "name": "stdout",
     "output_type": "stream",
     "text": [
      "Nodes per type:\n",
      "- CalleeExpr: 101\n",
      "- IfThenStmt: 7\n",
      "- ReturnStmt: 7\n",
      "- CallerExpr: 205\n",
      "- CXXThrowExpr: 4\n",
      "- ForStmt: 1\n",
      "- LoopIter: 1\n"
     ]
    }
   ],
   "source": [
    "print(\"Nodes per type:\")\n",
    "for k, v in unique_node_types.items():\n",
    "    print(f\"- {k}: {len(v)}\")"
   ]
  },
  {
   "cell_type": "markdown",
   "id": "37f491ae",
   "metadata": {},
   "source": [
    "We can reason about the control flow related unique node counts using the source:\n",
    "\n",
    "- The source has 7 `if` statements (`grep if src/fibonacci.cpp | wc -l`).\n",
    "    - Note: This includes `else if`.\n",
    "- The source has 7 `return` statements (`grep return src/fibonacci.cpp | wc -l`).\n",
    "- The source has 4 `throw` statements (`grep throw src/fibonacci.cpp | wc -l`).\n",
    "- The source has 1 `for` statement (`grep \"for \" src/fibonacci.cpp | wc -l`)."
   ]
  },
  {
   "cell_type": "markdown",
   "id": "89802cf6",
   "metadata": {},
   "source": [
    "## 4. Trace Summary\n",
    "\n",
    "As mentioned in Section 2, we expect 9 traces for each of the 4 exposed library functions for a total of 36 traces."
   ]
  },
  {
   "cell_type": "code",
   "execution_count": 9,
   "id": "2f8b50ca",
   "metadata": {},
   "outputs": [
    {
     "name": "stdout",
     "output_type": "stream",
     "text": [
      "Trace entry point count: 4\n"
     ]
    }
   ],
   "source": [
    "binned_trees = {}\n",
    "for tree in trees:\n",
    "    binned_trees.setdefault(tree.root.sig, []).append(tree)\n",
    "print(f\"Trace entry point count: {len(binned_trees)}\")"
   ]
  },
  {
   "cell_type": "code",
   "execution_count": 10,
   "id": "c906f7b5",
   "metadata": {},
   "outputs": [
    {
     "name": "stdout",
     "output_type": "stream",
     "text": [
      "Traces per entry point:\n",
      "- unsigned long long fibonacci::RecursiveNaive(unsigned short): 9\n",
      "- unsigned long long fibonacci::RecursiveMemo(unsigned short): 9\n",
      "- unsigned long long fibonacci::Iterative(unsigned short): 9\n",
      "- unsigned long long fibonacci::LookupTable(unsigned short): 9\n"
     ]
    }
   ],
   "source": [
    "print(\"Traces per entry point:\")\n",
    "for k, v in binned_trees.items():\n",
    "    print(f\"- {k}: {len(v)}\")"
   ]
  },
  {
   "cell_type": "markdown",
   "id": "84b9bee7",
   "metadata": {},
   "source": [
    "## 5. Trace Analysis"
   ]
  },
  {
   "cell_type": "markdown",
   "id": "1c84b3c2",
   "metadata": {},
   "source": [
    "### 5.1. Recursive (Naive)"
   ]
  },
  {
   "cell_type": "code",
   "execution_count": 11,
   "id": "0a65db40",
   "metadata": {},
   "outputs": [
    {
     "name": "stdout",
     "output_type": "stream",
     "text": [
      "Recorded calls:\n",
      "unsigned long long fibonacci::RecursiveNaive(unsigned short): (0)\n",
      "unsigned long long fibonacci::RecursiveNaive(unsigned short): (1)\n",
      "unsigned long long fibonacci::RecursiveNaive(unsigned short): (2)\n",
      "unsigned long long fibonacci::RecursiveNaive(unsigned short): (3)\n",
      "unsigned long long fibonacci::RecursiveNaive(unsigned short): (4)\n",
      "unsigned long long fibonacci::RecursiveNaive(unsigned short): (5)\n",
      "unsigned long long fibonacci::RecursiveNaive(unsigned short): (6)\n",
      "unsigned long long fibonacci::RecursiveNaive(unsigned short): (7)\n",
      "unsigned long long fibonacci::RecursiveNaive(unsigned short): (94)\n"
     ]
    }
   ],
   "source": [
    "rec_naive_sig = f\"unsigned long long fibonacci::RecursiveNaive(unsigned short)\"\n",
    "rec_naive_trees = binned_trees[rec_naive_sig]\n",
    "\n",
    "def to_params_str(params):\n",
    "    #return \", \".join([f\"{param['name']}={param['value']}\" for param in params])\n",
    "    return \", \".join([f\"{param['value']}\" for param in params])\n",
    "\n",
    "def to_call_str(node):\n",
    "    return f\"{node.sig}: ({to_params_str(node.params)})\"\n",
    "\n",
    "print(\"Recorded calls:\")\n",
    "for tree in rec_naive_trees:\n",
    "    print(f\"{to_call_str(tree.root)}\")"
   ]
  },
  {
   "cell_type": "code",
   "execution_count": 12,
   "id": "31f2ab2e",
   "metadata": {},
   "outputs": [
    {
     "name": "stdout",
     "output_type": "stream",
     "text": [
      "(2106190) unsigned long long fibonacci::RecursiveNaive(unsigned short): (0)\n",
      "└── (2106009) IfThenStmt: n < 2\n",
      "    └── (2106007) ReturnStmt: return n\n",
      "\n",
      "(2106190) unsigned long long fibonacci::RecursiveNaive(unsigned short): (2)\n",
      "└── (2106188) ReturnStmt: return RecursiveNaive(n - 1) + RecursiveNaive(n - 2)\n",
      "    ├── (2106190) unsigned long long fibonacci::RecursiveNaive(unsigned short): (1)\n",
      "    │   └── (2106009) IfThenStmt: n < 2\n",
      "    │       └── (2106007) ReturnStmt: return n\n",
      "    ├── (2106190) unsigned long long fibonacci::RecursiveNaive(unsigned short): (0)\n",
      "    │   └── (2106009) IfThenStmt: n < 2\n",
      "    │       └── (2106007) ReturnStmt: return n\n",
      "    └── (2106184) unsigned long long operator+(unsigned long long, unsigned long long): (1, 0)\n",
      "        └── (2106117) int operator-(unsigned short, int): (2, 1)\n",
      "            ├── (2106190) unsigned long long fibonacci::RecursiveNaive(unsigned short): (1)\n",
      "            │   └── (2106009) IfThenStmt: n < 2\n",
      "            │       └── (2106007) ReturnStmt: return n\n",
      "            └── (2106165) int operator-(unsigned short, int): (2, 2)\n",
      "                └── (2106190) unsigned long long fibonacci::RecursiveNaive(unsigned short): (0)\n",
      "                    └── (2106009) IfThenStmt: n < 2\n",
      "                        └── (2106007) ReturnStmt: return n\n",
      "\n",
      "(2106190) unsigned long long fibonacci::RecursiveNaive(unsigned short): (94)\n",
      "└── (2106081) IfThenStmt: n > 93\n",
      "    └── (2106075) CXXThrowExpr: throw std::overflow_error(\"n must be less than 94\")\n",
      "\n"
     ]
    }
   ],
   "source": [
    "# Peek at select traces that we know take differing paths.\n",
    "def to_simple_node_view(node):\n",
    "    sym = \"sym @ \" if hasattr(node, \"target\") else \"\"\n",
    "    if paptree.Node.is_call_type(node.type):\n",
    "        desc = f\" {to_call_str(node)}\"\n",
    "    else:\n",
    "        desc = f\" {node.type}: {node.desc}\"\n",
    "    return f\"({sym}{node.name}){desc}\"\n",
    "\n",
    "for tree in operator.itemgetter(0, 2, 8)(rec_naive_trees):\n",
    "    for pre, _, node in anytree.RenderTree(tree.root):\n",
    "        print(f\"{pre}{to_simple_node_view(node)}\")\n",
    "    print()"
   ]
  },
  {
   "cell_type": "code",
   "execution_count": 13,
   "id": "868a9dae",
   "metadata": {},
   "outputs": [
    {
     "name": "stdout",
     "output_type": "stream",
     "text": [
      "Path count: 4 \n",
      "\n",
      "Traces per path:\n",
      "- (2106009, 2106007): 1\n",
      "- (2106188, 2106009, 2106007, 2106009, 2106007, 2106009, 2106007, 2106009, 2106007): 1\n",
      "- (2106188, 2106188, 2106009, 2106007, 2106009, 2106007, 2106009, 2106007, 2106009, 2106007, 2106009, 2106007, 2106188, 2106009, 2106007, 2106009, 2106007, 2106009, 2106007, 2106009, 2106007, 2106009, 2106007): 1\n",
      "- (2106081, 2106075): 1\n"
     ]
    }
   ],
   "source": [
    "def is_cf_node(node):\n",
    "    return node.type in [\"IfThenStmt\", \"ReturnStmt\", \"CXXThrowExpr\", \"ForStmt\", \"LoopIter\"]\n",
    "\n",
    "# NOTE: We currently do not need to account for the context of calls made inside the trace\n",
    "# because we have not \"squashed\" those call nodes. If we did \"squash\" call nodes, then we\n",
    "# would need to query the path for that call to be able to correctly form partitions.\n",
    "fn_paths = {}\n",
    "for tree in operator.itemgetter(0, 2, 3, 8)(rec_naive_trees):\n",
    "    #print(f\"\\n{fn_name}({to_params_str(tree.root.params)})\")\n",
    "    cf_nodes = [node.name for node in anytree.PreOrderIter(tree.root, filter_=is_cf_node)]\n",
    "    fn_paths.setdefault(tuple(cf_nodes), []).append(tree)\n",
    "    #print(anytree.RenderTree(tree), \"\\n\")\n",
    "\n",
    "# Q. What do we expect here?\n",
    "#\n",
    "# A1. We expect 3 paths. Each trace in n > 1 =< 93 takes Path 2. Maximum of 3 paths.\n",
    "# Path 1: n <= 1\n",
    "# Path 2: n > 1 =< 93\n",
    "# Path 3: n > 93\n",
    "#\n",
    "# A2. We expect 4 paths. Each trace in n > 1 =< 93 takes its own Path. Maximum of 94 paths.\n",
    "# Path 1: n <= 1\n",
    "# Path 2: n == 2\n",
    "# Path 3: n > 93\n",
    "# \n",
    "# Clearly A1 is preferable to A2, but our current code produces A2.\n",
    "\n",
    "print(f\"Path count: {len(fn_paths)}\", \"\\n\")\n",
    "print(\"Traces per path:\")\n",
    "for k, v in fn_paths.items():\n",
    "    print(f\"- {k}: {len(v)}\")"
   ]
  },
  {
   "cell_type": "code",
   "execution_count": 14,
   "id": "da9314a8",
   "metadata": {},
   "outputs": [
    {
     "name": "stdout",
     "output_type": "stream",
     "text": [
      "(2106190) unsigned long long fibonacci::RecursiveNaive(unsigned short): (0)\n",
      "└── (2106009) IfThenStmt: n < 2\n",
      "    └── (2106007) ReturnStmt: return n\n",
      "\n",
      "(2106190) unsigned long long fibonacci::RecursiveNaive(unsigned short): (2)\n",
      "└── (2106188) ReturnStmt: return RecursiveNaive(n - 1) + RecursiveNaive(n - 2)\n",
      "    ├── (sym @ 2106190) unsigned long long fibonacci::RecursiveNaive(unsigned short): (1)\n",
      "    ├── (sym @ 2106190) unsigned long long fibonacci::RecursiveNaive(unsigned short): (0)\n",
      "    └── (2106184) unsigned long long operator+(unsigned long long, unsigned long long): (1, 0)\n",
      "        └── (2106117) int operator-(unsigned short, int): (2, 1)\n",
      "            ├── (sym @ 2106190) unsigned long long fibonacci::RecursiveNaive(unsigned short): (1)\n",
      "            └── (2106165) int operator-(unsigned short, int): (2, 2)\n",
      "                └── (sym @ 2106190) unsigned long long fibonacci::RecursiveNaive(unsigned short): (0)\n",
      "\n",
      "(2106190) unsigned long long fibonacci::RecursiveNaive(unsigned short): (94)\n",
      "└── (2106081) IfThenStmt: n > 93\n",
      "    └── (2106075) CXXThrowExpr: throw std::overflow_error(\"n must be less than 94\")\n",
      "\n"
     ]
    }
   ],
   "source": [
    "# Getting to A2.\n",
    "#\n",
    "# 1. First thing we can do is \"squash\" calls so that recursion does not result in differing paths.\n",
    "# 2. Next, we can use the expression for the \"squashed\" calls to differentiate between calls to different paths.\n",
    "# 2a. For now, we can just fake an expression for the \"squashed\" calls.\n",
    "# 2b. In practice, we will need to solve for the squashed calls using symbolic regression.\n",
    "\n",
    "# STEP 1\n",
    "# Let's start by putting our trace root nodes in a container that allows us\n",
    "# to lookup the trace by context.\n",
    "# NOTE: This does not account for complete non-root traces (e.g., RecursiveMemoImpl).\n",
    "trace_roots = {}\n",
    "for tree in trees:\n",
    "    call_str = to_call_str(tree.root)\n",
    "    if call_str not in trace_roots:\n",
    "        trace_roots[call_str] = tree.root\n",
    "    else:\n",
    "        if tree.root != trace_roots[call_str]:\n",
    "            raise RuntimeError(\n",
    "                \"Unhandled scenario: 2 traces with the same context have differing trees.\")\n",
    "            \n",
    "# Now we walk the trees looking for child nodes that can be substituted with a\n",
    "# trace root node.\n",
    "for tree in trees:\n",
    "    for node in anytree.PreOrderIter(tree.root):\n",
    "        if node.is_root:\n",
    "            continue\n",
    "        replace_children = False\n",
    "        new_children = []\n",
    "        for child in node.children:\n",
    "            if child.type == \"CalleeExpr\":\n",
    "                child_call_str = to_call_str(child)\n",
    "                if child_call_str in trace_roots:\n",
    "                    replace_children = True\n",
    "                    child = anytree.SymlinkNode(child)\n",
    "            new_children.append(child)\n",
    "        if replace_children:\n",
    "            node.children = tuple(new_children)\n",
    "            \n",
    "# Peek again at the select traces now that calls have been \"squashed\".\n",
    "for tree in operator.itemgetter(0, 2, 8)(rec_naive_trees):\n",
    "    for pre, _, node in anytree.RenderTree(tree.root):\n",
    "        print(f\"{pre}{to_simple_node_view(node)}\")\n",
    "    print()"
   ]
  },
  {
   "cell_type": "code",
   "execution_count": 15,
   "id": "ae83f858",
   "metadata": {},
   "outputs": [
    {
     "name": "stdout",
     "output_type": "stream",
     "text": [
      "Path count: 3 \n",
      "\n",
      "Traces per path:\n",
      "- (2106009, 2106007): 2\n",
      "- (2106188,): 6\n",
      "- (2106081, 2106075): 1\n"
     ]
    }
   ],
   "source": [
    "# Let's group by path again. We expect to have a path count of 3.\n",
    "fn_paths = {}\n",
    "for tree in rec_naive_trees:\n",
    "    cf_nodes = [node.name for node in anytree.PreOrderIter(tree.root, filter_=is_cf_node)]\n",
    "    fn_paths.setdefault(tuple(cf_nodes), []).append(tree)\n",
    "\n",
    "print(f\"Path count: {len(fn_paths)}\", \"\\n\")\n",
    "print(\"Traces per path:\")\n",
    "for k, v in fn_paths.items():\n",
    "    print(f\"- {k}: {len(v)}\")"
   ]
  },
  {
   "cell_type": "code",
   "execution_count": 16,
   "id": "fd577c8a",
   "metadata": {},
   "outputs": [
    {
     "name": "stdout",
     "output_type": "stream",
     "text": [
      "\n",
      "Eval Order:\n",
      "unsigned long long fibonacci::RecursiveNaive(unsigned short): (94)\n",
      "unsigned long long fibonacci::RecursiveNaive(unsigned short): (1)\n",
      "unsigned long long fibonacci::RecursiveNaive(unsigned short): (0)\n",
      "unsigned long long fibonacci::RecursiveNaive(unsigned short): (2)\n",
      "unsigned long long fibonacci::RecursiveNaive(unsigned short): (3)\n",
      "unsigned long long fibonacci::RecursiveNaive(unsigned short): (4)\n",
      "unsigned long long fibonacci::RecursiveNaive(unsigned short): (5)\n",
      "unsigned long long fibonacci::RecursiveNaive(unsigned short): (6)\n",
      "unsigned long long fibonacci::RecursiveNaive(unsigned short): (7)\n",
      "root\n"
     ]
    }
   ],
   "source": [
    "# STEP 2\n",
    "#\n",
    "# At this point we've only performed partial path partitioning. For example, RecursiveNaive(2)\n",
    "# and RecursiveNaive(3) seem to take the same path, but we don't know until we've solved for\n",
    "# the complexity of their recursive calls.\n",
    "# \n",
    "# RN(2) depends on both RN(1) and RN(0)\n",
    "# RN(3) depends on both RN(2) and RN(1)\n",
    "#\n",
    "# This means these relationships can be modeled by the dependency tree:\n",
    "# RN(3)\n",
    "# + RN(2)\n",
    "#   + RN(1)\n",
    "#   + RN(0)\n",
    "#\n",
    "# We need to generate this dependency tree using code.\n",
    "\n",
    "G = nx.DiGraph()\n",
    "G.add_node(\"root\")\n",
    "for tree in rec_naive_trees:\n",
    "    nodes = [node for node in anytree.PreOrderIter(tree.root, filter_=lambda n: hasattr(n, \"target\"))]\n",
    "    target_str = to_call_str(tree.root)\n",
    "    if not nodes:\n",
    "        G.add_edge(target_str, \"root\")\n",
    "    else:\n",
    "        for node in nodes:\n",
    "            prereq_str = to_call_str(node)\n",
    "            G.add_edge(prereq_str, target_str)\n",
    "\n",
    "dfs_postorder = [node for node in nx.dfs_postorder_nodes(G)]\n",
    "eval_order = dfs_postorder[::-1]\n",
    "\n",
    "print(\"\\nEval Order:\")\n",
    "for x in eval_order:\n",
    "    print(x)"
   ]
  },
  {
   "cell_type": "code",
   "execution_count": 17,
   "id": "9735f7de",
   "metadata": {},
   "outputs": [
    {
     "name": "stdout",
     "output_type": "stream",
     "text": [
      "dict_keys([0, 1, 2])\n"
     ]
    }
   ],
   "source": [
    "# Convert path tuples to IDs.\n",
    "# We store an ID->trees mapping so that we can easily query trees for a path ID.\n",
    "path_ids = {}\n",
    "id_paths = {}\n",
    "for path_tuple, trees in fn_paths.items():\n",
    "    path_id = path_ids.setdefault(path_tuple, len(path_ids))\n",
    "    id_paths[path_id] = trees\n",
    "\n",
    "print(id_paths.keys())"
   ]
  },
  {
   "cell_type": "code",
   "execution_count": 33,
   "id": "106d45c6",
   "metadata": {
    "scrolled": true
   },
   "outputs": [
    {
     "name": "stdout",
     "output_type": "stream",
     "text": [
      "\n",
      "PATH 0\n",
      "unsigned long long fibonacci::RecursiveNaive(unsigned short): (0): C_P0\n",
      "unsigned long long fibonacci::RecursiveNaive(unsigned short): (1): C_P0\n",
      "\n",
      "PATH 1\n",
      "unsigned long long fibonacci::RecursiveNaive(unsigned short): (2): 2*C_OP_1 + C_OP_2 + 4*C_P0 + C_P1\n",
      "unsigned long long fibonacci::RecursiveNaive(unsigned short): (3): 6*C_OP_1 + 3*C_OP_2 + 10*C_P0 + 3*C_P1\n",
      "unsigned long long fibonacci::RecursiveNaive(unsigned short): (4): 18*C_OP_1 + 9*C_OP_2 + 28*C_P0 + 9*C_P1\n",
      "unsigned long long fibonacci::RecursiveNaive(unsigned short): (5): 50*C_OP_1 + 25*C_OP_2 + 76*C_P0 + 25*C_P1\n",
      "unsigned long long fibonacci::RecursiveNaive(unsigned short): (6): 138*C_OP_1 + 69*C_OP_2 + 208*C_P0 + 69*C_P1\n",
      "unsigned long long fibonacci::RecursiveNaive(unsigned short): (7): 378*C_OP_1 + 189*C_OP_2 + 568*C_P0 + 189*C_P1\n",
      "\n",
      "PATH 2\n",
      "unsigned long long fibonacci::RecursiveNaive(unsigned short): (94): C_P2\n"
     ]
    }
   ],
   "source": [
    "# Let's structure traces for the solver.\n",
    "# We start with Path 0 (constant time).\n",
    "\n",
    "# It is expected that we start with some known values.\n",
    "# NOTE: This currently uses signatures to generalize (i.e., it is not accounting for context).\n",
    "known = {\n",
    "    \"int operator-(unsigned short, int)\": [\"C_OP_1\"], \n",
    "    \"unsigned long long operator+(unsigned long long, unsigned long long)\": [\"C_OP_2\"],\n",
    "}\n",
    "exprs = {}\n",
    "call_path_ids = {}\n",
    "sympy_exprs = {}\n",
    "\n",
    "def to_expr(node, level=0):\n",
    "    subexpr = []\n",
    "    for child in node.children:\n",
    "        subexpr.extend(to_expr(child, level+1))\n",
    "    if node.is_root:\n",
    "        subexpr.append(f\"C_P{call_path_ids[to_call_str(node)]}\")\n",
    "    elif paptree.Node.is_call_type(node.type):\n",
    "        #print(f\"{' ' * 2 * level}including node {to_simple_node_view(node)}\")\n",
    "        if node.sig in known:\n",
    "            subexpr.extend(known[node.sig])\n",
    "        else:\n",
    "            subexpr.extend(exprs[to_call_str(node)])\n",
    "    else:\n",
    "        #print(f\"{' ' * 2 * level}excluding node {to_simple_node_view(node)}\")\n",
    "        pass\n",
    "    return subexpr\n",
    "\n",
    "for path_id, path_trees in id_paths.items():\n",
    "    print(f\"\\nPATH {path_id}\")\n",
    "    path_exprs = {}\n",
    "    for tree in path_trees:\n",
    "        call_path_ids[to_call_str(tree.root)] = path_id\n",
    "        expr = to_expr(tree.root)\n",
    "        exprs[to_call_str(tree.root)] = expr\n",
    "        path_exprs[to_call_str(tree.root)] = expr # This is just used for printing.\n",
    "    for k, v in path_exprs.items():\n",
    "        sympy_expr = sympy.sympify(' + '.join(v))\n",
    "        sympy_exprs[to_call_str(tree.root)] = sympy_expr\n",
    "        print(f\"{k}: {sympy_expr}\")"
   ]
  },
  {
   "cell_type": "markdown",
   "id": "df8689a5",
   "metadata": {},
   "source": [
    "### 5.2. Recursive (Memoized)"
   ]
  },
  {
   "cell_type": "code",
   "execution_count": 19,
   "id": "31a0d81d",
   "metadata": {},
   "outputs": [
    {
     "name": "stdout",
     "output_type": "stream",
     "text": [
      "Recorded calls:\n",
      "unsigned long long fibonacci::RecursiveMemo(unsigned short): (0)\n",
      "unsigned long long fibonacci::RecursiveMemo(unsigned short): (1)\n",
      "unsigned long long fibonacci::RecursiveMemo(unsigned short): (2)\n",
      "unsigned long long fibonacci::RecursiveMemo(unsigned short): (3)\n",
      "unsigned long long fibonacci::RecursiveMemo(unsigned short): (4)\n",
      "unsigned long long fibonacci::RecursiveMemo(unsigned short): (5)\n",
      "unsigned long long fibonacci::RecursiveMemo(unsigned short): (6)\n",
      "unsigned long long fibonacci::RecursiveMemo(unsigned short): (7)\n",
      "unsigned long long fibonacci::RecursiveMemo(unsigned short): (94)\n"
     ]
    }
   ],
   "source": [
    "rec_memo_sig = f\"unsigned long long fibonacci::RecursiveMemo(unsigned short)\"\n",
    "rec_memo_trees = binned_trees[rec_memo_sig]\n",
    "\n",
    "print(\"Recorded calls:\")\n",
    "for tree in rec_memo_trees:\n",
    "    print(f\"{to_call_str(tree.root)}\")"
   ]
  },
  {
   "cell_type": "code",
   "execution_count": 20,
   "id": "3bb0b573",
   "metadata": {},
   "outputs": [
    {
     "name": "stdout",
     "output_type": "stream",
     "text": [
      "(2109686) unsigned long long fibonacci::RecursiveMemo(unsigned short): (0)\n",
      "├── (2106382) int operator+(unsigned short, int): (0, 1)\n",
      "├── (2109647) value_type operator=(value_type, int): (0, 1)\n",
      "│   └── (2109633) reference std::vector<unsigned long long>::operator[](size_type): ({ 0 }, 1)\n",
      "└── (2109684) ReturnStmt: return RecursiveMemoImpl(n, memo)\n",
      "    └── (2105928) unsigned long long fibonacci::(anonymous namespace)::RecursiveMemoImpl(unsigned short, std::vector<unsigned long long> &): (0, { 0 })\n",
      "        └── (2105926) ReturnStmt: return memo[n]\n",
      "            └── (2105916) reference std::vector<unsigned long long>::operator[](size_type): ({ 0 }, 0)\n",
      "\n",
      "(2109686) unsigned long long fibonacci::RecursiveMemo(unsigned short): (2)\n",
      "├── (2106382) int operator+(unsigned short, int): (2, 1)\n",
      "├── (2109647) value_type operator=(value_type, int): (0, 1)\n",
      "│   └── (2109633) reference std::vector<unsigned long long>::operator[](size_type): ({ 0, 0, 0 }, 1)\n",
      "└── (2109684) ReturnStmt: return RecursiveMemoImpl(n, memo)\n",
      "    └── (2105928) unsigned long long fibonacci::(anonymous namespace)::RecursiveMemoImpl(unsigned short, std::vector<unsigned long long> &): (2, { 0, 1, 0 })\n",
      "        ├── (2105616) reference std::vector<unsigned long long>::operator[](size_type): ({ 0, 1, 0 }, 2)\n",
      "        ├── (2105888) IfThenStmt: n > 1 && memo[n] == 0\n",
      "        │   ├── (2105928) unsigned long long fibonacci::(anonymous namespace)::RecursiveMemoImpl(unsigned short, std::vector<unsigned long long> &): (0, { 0, 1, 0 })\n",
      "        │   │   └── (2105926) ReturnStmt: return memo[n]\n",
      "        │   │       └── (2105916) reference std::vector<unsigned long long>::operator[](size_type): ({ 0, 1, 0 }, 0)\n",
      "        │   ├── (2105928) unsigned long long fibonacci::(anonymous namespace)::RecursiveMemoImpl(unsigned short, std::vector<unsigned long long> &): (1, { 0, 1, 0 })\n",
      "        │   │   └── (2105926) ReturnStmt: return memo[n]\n",
      "        │   │       └── (2105916) reference std::vector<unsigned long long>::operator[](size_type): ({ 0, 1, 0 }, 1)\n",
      "        │   └── (2105884) value_type operator=(value_type, unsigned long long): (0, 1)\n",
      "        │       ├── (2105928) unsigned long long fibonacci::(anonymous namespace)::RecursiveMemoImpl(unsigned short, std::vector<unsigned long long> &): (0, { 0, 1, 0 })\n",
      "        │       │   └── (2105926) ReturnStmt: return memo[n]\n",
      "        │       │       └── (2105916) reference std::vector<unsigned long long>::operator[](size_type): ({ 0, 1, 0 }, 0)\n",
      "        │       ├── (2105928) unsigned long long fibonacci::(anonymous namespace)::RecursiveMemoImpl(unsigned short, std::vector<unsigned long long> &): (1, { 0, 1, 0 })\n",
      "        │       │   └── (2105926) ReturnStmt: return memo[n]\n",
      "        │       │       └── (2105916) reference std::vector<unsigned long long>::operator[](size_type): ({ 0, 1, 0 }, 1)\n",
      "        │       └── (2105880) unsigned long long operator+(unsigned long long, unsigned long long): (0, 1)\n",
      "        │           └── (2105798) int operator-(unsigned short, int): (2, 2)\n",
      "        │               ├── (2105928) unsigned long long fibonacci::(anonymous namespace)::RecursiveMemoImpl(unsigned short, std::vector<unsigned long long> &): (0, { 0, 1, 0 })\n",
      "        │               │   └── (2105926) ReturnStmt: return memo[n]\n",
      "        │               │       └── (2105916) reference std::vector<unsigned long long>::operator[](size_type): ({ 0, 1, 0 }, 0)\n",
      "        │               └── (2105856) int operator-(unsigned short, int): (2, 1)\n",
      "        │                   ├── (2105928) unsigned long long fibonacci::(anonymous namespace)::RecursiveMemoImpl(unsigned short, std::vector<unsigned long long> &): (1, { 0, 1, 0 })\n",
      "        │                   │   └── (2105926) ReturnStmt: return memo[n]\n",
      "        │                   │       └── (2105916) reference std::vector<unsigned long long>::operator[](size_type): ({ 0, 1, 0 }, 1)\n",
      "        │                   └── (2105768) reference std::vector<unsigned long long>::operator[](size_type): ({ 0, 1, 0 }, 2)\n",
      "        └── (2105926) ReturnStmt: return memo[n]\n",
      "            └── (2105916) reference std::vector<unsigned long long>::operator[](size_type): ({ 0, 1, 1 }, 2)\n",
      "\n",
      "(2109686) unsigned long long fibonacci::RecursiveMemo(unsigned short): (94)\n",
      "└── (2106296) IfThenStmt: n > 93\n",
      "    └── (2106290) CXXThrowExpr: throw std::overflow_error(\"n must be less than 94\")\n",
      "\n"
     ]
    }
   ],
   "source": [
    "# Peek at select traces that we know take differing paths.\n",
    "for tree in operator.itemgetter(0, 2, 8)(rec_memo_trees):\n",
    "    for pre, _, node in anytree.RenderTree(tree.root):\n",
    "        print(f\"{pre}{to_simple_node_view(node)}\")\n",
    "    print()"
   ]
  },
  {
   "cell_type": "code",
   "execution_count": null,
   "id": "7c393c7e",
   "metadata": {},
   "outputs": [],
   "source": []
  },
  {
   "cell_type": "code",
   "execution_count": null,
   "id": "6f71bb9e",
   "metadata": {},
   "outputs": [],
   "source": []
  },
  {
   "cell_type": "code",
   "execution_count": null,
   "id": "98cb069e",
   "metadata": {},
   "outputs": [],
   "source": []
  },
  {
   "cell_type": "markdown",
   "id": "9a9b5c9f",
   "metadata": {},
   "source": [
    "### 5.3. Iterative"
   ]
  },
  {
   "cell_type": "code",
   "execution_count": 21,
   "id": "683498e4",
   "metadata": {
    "scrolled": true
   },
   "outputs": [
    {
     "name": "stdout",
     "output_type": "stream",
     "text": [
      "Recorded calls:\n",
      "unsigned long long fibonacci::Iterative(unsigned short): (0)\n",
      "unsigned long long fibonacci::Iterative(unsigned short): (1)\n",
      "unsigned long long fibonacci::Iterative(unsigned short): (2)\n",
      "unsigned long long fibonacci::Iterative(unsigned short): (3)\n",
      "unsigned long long fibonacci::Iterative(unsigned short): (4)\n",
      "unsigned long long fibonacci::Iterative(unsigned short): (5)\n",
      "unsigned long long fibonacci::Iterative(unsigned short): (6)\n",
      "unsigned long long fibonacci::Iterative(unsigned short): (7)\n",
      "unsigned long long fibonacci::Iterative(unsigned short): (94)\n"
     ]
    }
   ],
   "source": [
    "iter_sig = f\"unsigned long long fibonacci::Iterative(unsigned short)\"\n",
    "iter_trees = binned_trees[iter_sig]\n",
    "\n",
    "print(\"Recorded calls:\")\n",
    "for tree in iter_trees:\n",
    "    print(f\"{to_call_str(tree.root)}\")"
   ]
  },
  {
   "cell_type": "code",
   "execution_count": 22,
   "id": "d412a072",
   "metadata": {},
   "outputs": [
    {
     "name": "stdout",
     "output_type": "stream",
     "text": [
      "(2110045) unsigned long long fibonacci::Iterative(unsigned short): (0)\n",
      "└── (2109766) IfThenStmt: n < 2\n",
      "    └── (2109764) ReturnStmt: return n\n",
      "\n",
      "(2110045) unsigned long long fibonacci::Iterative(unsigned short): (2)\n",
      "├── (2110029) ForStmt: for (unsigned short i = 2; i <= n; ++i)\n",
      "│   └── (2110029) LoopIter: LoopIter\n",
      "│       ├── (2109990) unsigned long long operator=(unsigned long long, unsigned long long): (105553123975920, 1)\n",
      "│       │   └── (2109986) unsigned long long operator+(unsigned long long, unsigned long long): (0, 1)\n",
      "│       ├── (2110005) unsigned long long operator=(unsigned long long, unsigned long long): (0, 1)\n",
      "│       └── (2110020) unsigned long long operator=(unsigned long long, unsigned long long): (1, 1)\n",
      "└── (2110043) ReturnStmt: return fib\n",
      "\n",
      "(2110045) unsigned long long fibonacci::Iterative(unsigned short): (94)\n",
      "└── (2109827) IfThenStmt: n > 93\n",
      "    └── (2109821) CXXThrowExpr: throw std::overflow_error(\"n must be less than 94\")\n",
      "\n"
     ]
    }
   ],
   "source": [
    "# Peek at select traces that we know take differing paths.\n",
    "for tree in operator.itemgetter(0, 2, 8)(iter_trees):\n",
    "    for pre, _, node in anytree.RenderTree(tree.root):\n",
    "        print(f\"{pre}{to_simple_node_view(node)}\")\n",
    "    print()"
   ]
  },
  {
   "cell_type": "code",
   "execution_count": null,
   "id": "38b7b7fa",
   "metadata": {},
   "outputs": [],
   "source": []
  },
  {
   "cell_type": "code",
   "execution_count": null,
   "id": "bd392ced",
   "metadata": {},
   "outputs": [],
   "source": []
  },
  {
   "cell_type": "code",
   "execution_count": null,
   "id": "c5090a61",
   "metadata": {},
   "outputs": [],
   "source": []
  },
  {
   "cell_type": "markdown",
   "id": "a375c309",
   "metadata": {},
   "source": [
    "### 5.4. Lookup Table"
   ]
  },
  {
   "cell_type": "code",
   "execution_count": 23,
   "id": "379b7dee",
   "metadata": {
    "scrolled": true
   },
   "outputs": [
    {
     "name": "stdout",
     "output_type": "stream",
     "text": [
      "Recorded calls:\n",
      "unsigned long long fibonacci::Iterative(unsigned short): (0)\n",
      "unsigned long long fibonacci::Iterative(unsigned short): (1)\n",
      "unsigned long long fibonacci::Iterative(unsigned short): (2)\n",
      "unsigned long long fibonacci::Iterative(unsigned short): (3)\n",
      "unsigned long long fibonacci::Iterative(unsigned short): (4)\n",
      "unsigned long long fibonacci::Iterative(unsigned short): (5)\n",
      "unsigned long long fibonacci::Iterative(unsigned short): (6)\n",
      "unsigned long long fibonacci::Iterative(unsigned short): (7)\n",
      "unsigned long long fibonacci::Iterative(unsigned short): (94)\n"
     ]
    }
   ],
   "source": [
    "lookup_sig = f\"unsigned long long fibonacci::Iterative(unsigned short)\"\n",
    "lookup_trees = binned_trees[lookup_sig]\n",
    "\n",
    "print(\"Recorded calls:\")\n",
    "for tree in lookup_trees:\n",
    "    print(f\"{to_call_str(tree.root)}\")"
   ]
  },
  {
   "cell_type": "code",
   "execution_count": 24,
   "id": "44450aa2",
   "metadata": {},
   "outputs": [
    {
     "name": "stdout",
     "output_type": "stream",
     "text": [
      "(2110045) unsigned long long fibonacci::Iterative(unsigned short): (0)\n",
      "└── (2109766) IfThenStmt: n < 2\n",
      "    └── (2109764) ReturnStmt: return n\n",
      "\n",
      "(2110045) unsigned long long fibonacci::Iterative(unsigned short): (2)\n",
      "├── (2110029) ForStmt: for (unsigned short i = 2; i <= n; ++i)\n",
      "│   └── (2110029) LoopIter: LoopIter\n",
      "│       ├── (2109990) unsigned long long operator=(unsigned long long, unsigned long long): (105553123975920, 1)\n",
      "│       │   └── (2109986) unsigned long long operator+(unsigned long long, unsigned long long): (0, 1)\n",
      "│       ├── (2110005) unsigned long long operator=(unsigned long long, unsigned long long): (0, 1)\n",
      "│       └── (2110020) unsigned long long operator=(unsigned long long, unsigned long long): (1, 1)\n",
      "└── (2110043) ReturnStmt: return fib\n",
      "\n",
      "(2110045) unsigned long long fibonacci::Iterative(unsigned short): (94)\n",
      "└── (2109827) IfThenStmt: n > 93\n",
      "    └── (2109821) CXXThrowExpr: throw std::overflow_error(\"n must be less than 94\")\n",
      "\n"
     ]
    }
   ],
   "source": [
    "# Peek at select traces that we know take differing paths.\n",
    "# Note: Unlike preview implementations, calls for number 0 and 2 take the same path.\n",
    "for tree in operator.itemgetter(0, 2, 8)(lookup_trees):\n",
    "    for pre, _, node in anytree.RenderTree(tree.root):\n",
    "        print(f\"{pre}{to_simple_node_view(node)}\")\n",
    "    print()"
   ]
  },
  {
   "cell_type": "code",
   "execution_count": null,
   "id": "94336807",
   "metadata": {},
   "outputs": [],
   "source": []
  },
  {
   "cell_type": "code",
   "execution_count": null,
   "id": "43c6ef58",
   "metadata": {},
   "outputs": [],
   "source": []
  },
  {
   "cell_type": "markdown",
   "id": "8ebbe20c",
   "metadata": {},
   "source": [
    "# OLD CODE BELOW"
   ]
  },
  {
   "cell_type": "markdown",
   "id": "5829c4f9",
   "metadata": {},
   "source": [
    "## 3. Extract Call Nodes"
   ]
  },
  {
   "cell_type": "code",
   "execution_count": 25,
   "id": "af43fe54",
   "metadata": {},
   "outputs": [
    {
     "name": "stdout",
     "output_type": "stream",
     "text": [
      "Number of call nodes: 1\n"
     ]
    }
   ],
   "source": [
    "call_nodes = []\n",
    "for tree in trees:\n",
    "    call_nodes.extend(\n",
    "        anytree.findall(tree.root, filter_=lambda n: isinstance(n, paptree.CallNode)))\n",
    "\n",
    "print(f\"Number of call nodes: {len(call_nodes)}\")"
   ]
  },
  {
   "cell_type": "code",
   "execution_count": 26,
   "id": "6a704270",
   "metadata": {
    "scrolled": true
   },
   "outputs": [
    {
     "name": "stdout",
     "output_type": "stream",
     "text": [
      "Unique call nodes: 1\n"
     ]
    }
   ],
   "source": [
    "print(f\"Unique call nodes: {len(set([str(n) for n in call_nodes]))}\")"
   ]
  },
  {
   "cell_type": "code",
   "execution_count": 27,
   "id": "0c84871b",
   "metadata": {
    "scrolled": false
   },
   "outputs": [
    {
     "name": "stdout",
     "output_type": "stream",
     "text": [
      "Number of unique signatures: 1\n"
     ]
    },
    {
     "data": {
      "text/plain": [
       "{'unsigned long long fibonacci::RecursiveNaive(unsigned short)'}"
      ]
     },
     "metadata": {},
     "output_type": "display_data"
    }
   ],
   "source": [
    "sigs = set([node.sig for node in call_nodes])\n",
    "print(f\"Number of unique signatures: {len(sigs)}\")\n",
    "display(sigs)"
   ]
  },
  {
   "cell_type": "markdown",
   "id": "e3a8c8e9",
   "metadata": {},
   "source": [
    "### 3.1. Caller Nodes\n",
    "\n",
    "Caller nodes represent a call to an uninstrumented function. The complexity of these nodes must be provided by the user since there is no trace data to analyze."
   ]
  },
  {
   "cell_type": "code",
   "execution_count": 28,
   "id": "c568d4b2",
   "metadata": {},
   "outputs": [
    {
     "name": "stdout",
     "output_type": "stream",
     "text": [
      "Number of caller nodes: 0\n",
      "Number of unique caller sigs: 0\n",
      "Unique caller node sigs:\n",
      "\n"
     ]
    }
   ],
   "source": [
    "caller_nodes = [node for node in call_nodes if node.type == \"CallerExpr\"]\n",
    "print(f\"Number of caller nodes: {len(caller_nodes)}\")\n",
    "\n",
    "caller_node_sigs = set([node.sig for node in caller_nodes])\n",
    "print(f\"Number of unique caller sigs: {len(caller_node_sigs)}\")\n",
    "print(\"Unique caller node sigs:\")\n",
    "print(\"\\n\".join(caller_node_sigs))"
   ]
  },
  {
   "cell_type": "markdown",
   "id": "15892616",
   "metadata": {},
   "source": [
    "### 3.2. Callee Nodes\n",
    "\n",
    "Callee nodes represent a call to an instrumented function. The complexity of these nodes can be deduced from the collected trace data, assuming that a user has provided the complexity for any dependent caller nodes."
   ]
  },
  {
   "cell_type": "code",
   "execution_count": 29,
   "id": "966cdb75",
   "metadata": {},
   "outputs": [
    {
     "name": "stdout",
     "output_type": "stream",
     "text": [
      "Number of callee nodes: 1\n",
      "Number of unique callee sigs: 1\n",
      "Unique callee node sigs:\n",
      "unsigned long long fibonacci::RecursiveNaive(unsigned short)\n"
     ]
    }
   ],
   "source": [
    "callee_nodes = [node for node in call_nodes if node.type == \"CalleeExpr\"]\n",
    "print(f\"Number of callee nodes: {len(callee_nodes)}\")\n",
    "\n",
    "callee_node_sigs = set([node.sig for node in callee_nodes])\n",
    "print(f\"Number of unique callee sigs: {len(callee_node_sigs)}\")\n",
    "print(\"Unique callee node sigs:\")\n",
    "print(\"\\n\".join(callee_node_sigs))"
   ]
  },
  {
   "cell_type": "code",
   "execution_count": 30,
   "id": "4aab93ad",
   "metadata": {},
   "outputs": [],
   "source": [
    "# Convert operator nodes to CallNodes.\n",
    "for tree in trees:\n",
    "    for node in anytree.PreOrderIter(tree.root):\n",
    "        if node.type in [\"operator=\", \"operator+\", \"operator-\", \"operator++\"]:\n",
    "            \n",
    "            print(node)\n",
    "\n",
    "\n",
    "for tree in trees[18:22]:\n",
    "    print(anytree.RenderTree(tree), \"\\n\")"
   ]
  }
 ],
 "metadata": {
  "kernelspec": {
   "display_name": "Python 3 (ipykernel)",
   "language": "python",
   "name": "python3"
  },
  "language_info": {
   "codemirror_mode": {
    "name": "ipython",
    "version": 3
   },
   "file_extension": ".py",
   "mimetype": "text/x-python",
   "name": "python",
   "nbconvert_exporter": "python",
   "pygments_lexer": "ipython3",
   "version": "3.11.4"
  }
 },
 "nbformat": 4,
 "nbformat_minor": 5
}
