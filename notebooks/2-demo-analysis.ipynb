{
 "cells": [
  {
   "cell_type": "markdown",
   "id": "db0d15f7",
   "metadata": {},
   "source": [
    "# Demo Analysis"
   ]
  },
  {
   "cell_type": "markdown",
   "id": "0701ed7b",
   "metadata": {},
   "source": [
    "## 1. Setup Workspace"
   ]
  },
  {
   "cell_type": "code",
   "execution_count": 1,
   "id": "ed777ad5",
   "metadata": {},
   "outputs": [],
   "source": [
    "import json\n",
    "import pathlib\n",
    "import copy\n",
    "import operator\n",
    "import pathlib\n",
    "import os\n",
    "\n",
    "import anytree\n",
    "import networkx as nx\n",
    "import sympy\n",
    "\n",
    "import paptree"
   ]
  },
  {
   "cell_type": "code",
   "execution_count": 2,
   "id": "0d33d030",
   "metadata": {},
   "outputs": [
    {
     "name": "stdout",
     "output_type": "stream",
     "text": [
      "Loaded 16 traces.\n"
     ]
    }
   ],
   "source": [
    "data_dir = pathlib.Path.cwd().parent / \"experiments/demo/data\"\n",
    "trace_file = data_dir / \"paptrace.darwin-arm64-clang.json\"\n",
    "trees = paptree.utils.from_file(trace_file)\n",
    "print(f\"Loaded {len(trees)} traces.\")"
   ]
  }
 ],
 "metadata": {
  "kernelspec": {
   "display_name": "Python 3 (ipykernel)",
   "language": "python",
   "name": "python3"
  },
  "language_info": {
   "codemirror_mode": {
    "name": "ipython",
    "version": 3
   },
   "file_extension": ".py",
   "mimetype": "text/x-python",
   "name": "python",
   "nbconvert_exporter": "python",
   "pygments_lexer": "ipython3",
   "version": "3.11.4"
  }
 },
 "nbformat": 4,
 "nbformat_minor": 5
}
