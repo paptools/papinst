{
 "cells": [
  {
   "cell_type": "markdown",
   "id": "db0d15f7",
   "metadata": {},
   "source": [
    "# Demo Analysis"
   ]
  },
  {
   "cell_type": "markdown",
   "id": "0701ed7b",
   "metadata": {},
   "source": [
    "## 1. Setup Workspace"
   ]
  },
  {
   "cell_type": "code",
   "execution_count": 1,
   "id": "ed777ad5",
   "metadata": {},
   "outputs": [],
   "source": [
    "import json\n",
    "import pathlib\n",
    "import copy\n",
    "import operator\n",
    "import pathlib\n",
    "import os\n",
    "\n",
    "import anytree\n",
    "import networkx as nx\n",
    "import sympy\n",
    "\n",
    "import paptree"
   ]
  },
  {
   "cell_type": "markdown",
   "id": "fc5383ce",
   "metadata": {},
   "source": [
    "## 2. Load Data"
   ]
  },
  {
   "cell_type": "code",
   "execution_count": 2,
   "id": "0d33d030",
   "metadata": {},
   "outputs": [
    {
     "name": "stdout",
     "output_type": "stream",
     "text": [
      "Loaded 16 traces.\n"
     ]
    }
   ],
   "source": [
    "data_dir = pathlib.Path.cwd().parent / \"experiments/demo/data\"\n",
    "trace_file = data_dir / \"paptrace.darwin-arm64-clang.json\"\n",
    "trees = paptree.utils.from_file(trace_file)\n",
    "print(f\"Loaded {len(trees)} traces.\")"
   ]
  },
  {
   "cell_type": "code",
   "execution_count": 3,
   "id": "895e10e9",
   "metadata": {},
   "outputs": [
    {
     "name": "stdout",
     "output_type": "stream",
     "text": [
      "Loaded 1 known expressions.\n",
      "{\n",
      "  \"int operator*=(int, int)\": \"C_OP_MUL_ASSIGN_INT_INT\"\n",
      "}\n"
     ]
    }
   ],
   "source": [
    "known_file = data_dir / \"known_exprs.json\"\n",
    "with open(known_file, \"r\") as f_in:\n",
    "    known_exprs = json.loads(f_in.read())\n",
    "print(f\"Loaded {len(known_exprs)} known expressions.\")\n",
    "print(json.dumps(known_exprs, indent=2))"
   ]
  },
  {
   "cell_type": "markdown",
   "id": "a5669e89",
   "metadata": {},
   "source": [
    "## 3. Node Summary"
   ]
  },
  {
   "cell_type": "markdown",
   "id": "ffacef55",
   "metadata": {},
   "source": [
    "### 3.1. Unfiltered Nodes"
   ]
  },
  {
   "cell_type": "code",
   "execution_count": 4,
   "id": "6a942ff4",
   "metadata": {},
   "outputs": [
    {
     "name": "stdout",
     "output_type": "stream",
     "text": [
      "Node count: 163\n"
     ]
    }
   ],
   "source": [
    "nodes = []\n",
    "for tree in trees:\n",
    "    nodes.extend(anytree.PreOrderIter(tree.root))\n",
    "print(f\"Node count: {len(nodes)}\")"
   ]
  },
  {
   "cell_type": "code",
   "execution_count": 5,
   "id": "66299809",
   "metadata": {},
   "outputs": [
    {
     "name": "stdout",
     "output_type": "stream",
     "text": [
      "Node type count: 6\n"
     ]
    }
   ],
   "source": [
    "node_types = {}\n",
    "for node in nodes:\n",
    "    node_types.setdefault(node.type, []).append(node)\n",
    "print(f\"Node type count: {len(node_types)}\")"
   ]
  },
  {
   "cell_type": "code",
   "execution_count": 6,
   "id": "225439fe",
   "metadata": {},
   "outputs": [
    {
     "name": "stdout",
     "output_type": "stream",
     "text": [
      "Nodes per type:\n",
      "- CalleeExpr: 16\n",
      "- ReturnStmt: 16\n",
      "- IfThenStmt: 2\n",
      "- ForStmt: 6\n",
      "- LoopIter: 41\n",
      "- OpExpr: 82\n"
     ]
    }
   ],
   "source": [
    "print(\"Nodes per type:\")\n",
    "for k, v in node_types.items():\n",
    "    print(f\"- {k}: {len(v)}\")"
   ]
  },
  {
   "cell_type": "markdown",
   "id": "48306b46",
   "metadata": {},
   "source": [
    "### 3.2. Unique Nodes"
   ]
  },
  {
   "cell_type": "code",
   "execution_count": 7,
   "id": "b199301c",
   "metadata": {},
   "outputs": [
    {
     "name": "stdout",
     "output_type": "stream",
     "text": [
      "Unique node count: 24\n"
     ]
    }
   ],
   "source": [
    "unique_nodes = []\n",
    "for node in nodes:\n",
    "    if node not in unique_nodes:\n",
    "        unique_nodes.append(node)\n",
    "print(f\"Unique node count: {len(unique_nodes)}\")"
   ]
  },
  {
   "cell_type": "code",
   "execution_count": 8,
   "id": "f5eabe14",
   "metadata": {},
   "outputs": [
    {
     "name": "stdout",
     "output_type": "stream",
     "text": [
      "Node type count: 6\n"
     ]
    }
   ],
   "source": [
    "# We expect this count to match the unfiltered node type count.\n",
    "unique_node_types = {}\n",
    "for node in unique_nodes:\n",
    "    unique_node_types.setdefault(node.type, []).append(node)\n",
    "print(f\"Node type count: {len(unique_node_types)}\")"
   ]
  },
  {
   "cell_type": "code",
   "execution_count": 9,
   "id": "c0c2bbbc",
   "metadata": {},
   "outputs": [
    {
     "name": "stdout",
     "output_type": "stream",
     "text": [
      "Nodes per type:\n",
      "- CalleeExpr: 16\n",
      "- ReturnStmt: 3\n",
      "- IfThenStmt: 1\n",
      "- ForStmt: 1\n",
      "- LoopIter: 1\n",
      "- OpExpr: 2\n"
     ]
    }
   ],
   "source": [
    "print(\"Nodes per type:\")\n",
    "for k, v in unique_node_types.items():\n",
    "    print(f\"- {k}: {len(v)}\")"
   ]
  },
  {
   "cell_type": "markdown",
   "id": "3b647377",
   "metadata": {},
   "source": [
    "## 4. Trace Summary"
   ]
  },
  {
   "cell_type": "code",
   "execution_count": 10,
   "id": "d93d104c",
   "metadata": {},
   "outputs": [
    {
     "name": "stdout",
     "output_type": "stream",
     "text": [
      "Trace entry point count: 2\n"
     ]
    }
   ],
   "source": [
    "binned_trees = {}\n",
    "for tree in trees:\n",
    "    binned_trees.setdefault(tree.root.sig, []).append(tree)\n",
    "print(f\"Trace entry point count: {len(binned_trees)}\")"
   ]
  },
  {
   "cell_type": "code",
   "execution_count": 11,
   "id": "59994aa3",
   "metadata": {},
   "outputs": [
    {
     "name": "stdout",
     "output_type": "stream",
     "text": [
      "Traces per entry point:\n",
      "- _Bool demo::IsEven(int): 8\n",
      "- int demo::Factorial(int): 8\n"
     ]
    }
   ],
   "source": [
    "print(\"Traces per entry point:\")\n",
    "for k, v in binned_trees.items():\n",
    "    print(f\"- {k}: {len(v)}\")"
   ]
  },
  {
   "cell_type": "markdown",
   "id": "9b934807",
   "metadata": {},
   "source": [
    "## 5. Trace Analysis"
   ]
  },
  {
   "cell_type": "markdown",
   "id": "0bf8b5cd",
   "metadata": {},
   "source": [
    "### 5.1. IsEven"
   ]
  },
  {
   "cell_type": "code",
   "execution_count": 12,
   "id": "c0bc275d",
   "metadata": {},
   "outputs": [
    {
     "name": "stdout",
     "output_type": "stream",
     "text": [
      "(1474) [CallNode] CalleeExpr: _Bool demo::IsEven(int): (0)\n",
      "└── (1472) [StmtNode] ReturnStmt: return value % 2 == 0\n",
      "\n",
      "(1474) [CallNode] CalleeExpr: _Bool demo::IsEven(int): (2)\n",
      "└── (1472) [StmtNode] ReturnStmt: return value % 2 == 0\n",
      "\n",
      "(1474) [CallNode] CalleeExpr: _Bool demo::IsEven(int): (4)\n",
      "└── (1472) [StmtNode] ReturnStmt: return value % 2 == 0\n",
      "\n"
     ]
    }
   ],
   "source": [
    "trees_subset = binned_trees[\"_Bool demo::IsEven(int)\"]\n",
    "\n",
    "def to_params_str(params):\n",
    "    #return \", \".join([f\"{param['name']}={param['value']}\" for param in params])\n",
    "    return \", \".join([f\"{param['value']}\" for param in params])\n",
    "\n",
    "def to_call_str(node):\n",
    "    return f\"{node.sig}: ({to_params_str(node.params)})\"\n",
    "\n",
    "def to_simple_node_view(node):\n",
    "    sym = \"sym @ \" if hasattr(node, \"target\") else \"\"\n",
    "    if node.is_call_node():\n",
    "        node_type = type(node).__name__\n",
    "        desc = f\"{node.type}: {to_call_str(node)}\"\n",
    "    else:\n",
    "        node_type = type(node).__name__\n",
    "        desc = f\"{node.type}: {node.desc}\"\n",
    "    return f\"({sym}{node.name}) [{node_type}] {desc}\"\n",
    "\n",
    "for tree in operator.itemgetter(0, 1, 2)(trees_subset):\n",
    "    for pre, _, node in anytree.RenderTree(tree.root):\n",
    "        print(f\"{pre}{to_simple_node_view(node)}\")\n",
    "    print()"
   ]
  },
  {
   "cell_type": "code",
   "execution_count": 13,
   "id": "bab2d97c",
   "metadata": {},
   "outputs": [
    {
     "name": "stdout",
     "output_type": "stream",
     "text": [
      "Path summary:\n",
      "- _Bool demo::IsEven(int): 1 paths\n",
      "  - [path_0] (1472,): 8 traces\n",
      "\n",
      "Finding general expr. for: _Bool demo::IsEven(int): (0)\n",
      "  Found expr.: C_1474\n",
      "\n",
      "Results:\n",
      "{\n",
      "  \"sigs\": {\n",
      "    \"_Bool demo::IsEven(int)\": \"sig_0\"\n",
      "  },\n",
      "  \"ctxs\": {\n",
      "    \"sig_0\": {\n",
      "      \"_Bool demo::IsEven(int): (0)\": 0,\n",
      "      \"_Bool demo::IsEven(int): (2)\": 0,\n",
      "      \"_Bool demo::IsEven(int): (4)\": 0,\n",
      "      \"_Bool demo::IsEven(int): (1)\": 0,\n",
      "      \"_Bool demo::IsEven(int): (3)\": 0,\n",
      "      \"_Bool demo::IsEven(int): (5)\": 0,\n",
      "      \"_Bool demo::IsEven(int): (-2147483648)\": 0,\n",
      "      \"_Bool demo::IsEven(int): (2147483647)\": 0\n",
      "    }\n",
      "  },\n",
      "  \"exprs\": {\n",
      "    \"sig_0\": {\n",
      "      \"0\": \"Symbol('C_1474')\"\n",
      "    }\n",
      "  }\n",
      "}\n"
     ]
    }
   ],
   "source": [
    "results = paptree.analyze.analyze(known_exprs, trees_subset)\n",
    "print(\"\\nResults:\")\n",
    "print(json.dumps(results, indent=2))"
   ]
  },
  {
   "cell_type": "markdown",
   "id": "659cccb7",
   "metadata": {},
   "source": [
    "### 5.2. Factorial"
   ]
  },
  {
   "cell_type": "code",
   "execution_count": 14,
   "id": "8bf982e7",
   "metadata": {},
   "outputs": [
    {
     "name": "stdout",
     "output_type": "stream",
     "text": [
      "(1678) [CallNode] CalleeExpr: int demo::Factorial(int): (-1)\n",
      "└── (1564) [StmtNode] IfThenStmt: value < 0 || value > 31\n",
      "    └── (1562) [StmtNode] ReturnStmt: return -1\n",
      "\n",
      "(1678) [CallNode] CalleeExpr: int demo::Factorial(int): (0)\n",
      "├── (1662) [LoopNode] ForStmt: for (int i = 1; i <= value; ++i)\n",
      "└── (1676) [StmtNode] ReturnStmt: return result\n",
      "\n",
      "(1678) [CallNode] CalleeExpr: int demo::Factorial(int): (1)\n",
      "├── (1662) [LoopNode] ForStmt: for (int i = 1; i <= value; ++i)\n",
      "│   ├── (1662) [StmtNode] LoopIter: LoopIter\n",
      "│   │   └── (1653) [StmtNode] OpExpr: int operator*=(int, int)\n",
      "│   └── (1639) [StmtNode] OpExpr: int operator++\n",
      "└── (1676) [StmtNode] ReturnStmt: return result\n",
      "\n",
      "(1678) [CallNode] CalleeExpr: int demo::Factorial(int): (2)\n",
      "├── (1662) [LoopNode] ForStmt: for (int i = 1; i <= value; ++i)\n",
      "│   ├── (1662) [StmtNode] LoopIter: LoopIter\n",
      "│   │   └── (1653) [StmtNode] OpExpr: int operator*=(int, int)\n",
      "│   ├── (1639) [StmtNode] OpExpr: int operator++\n",
      "│   ├── (1662) [StmtNode] LoopIter: LoopIter\n",
      "│   │   └── (1653) [StmtNode] OpExpr: int operator*=(int, int)\n",
      "│   └── (1639) [StmtNode] OpExpr: int operator++\n",
      "└── (1676) [StmtNode] ReturnStmt: return result\n",
      "\n"
     ]
    }
   ],
   "source": [
    "trees_subset = binned_trees[\"int demo::Factorial(int)\"]\n",
    "for tree in operator.itemgetter(0, 2, 3, 4)(trees_subset):\n",
    "    for pre, _, node in anytree.RenderTree(tree.root):\n",
    "        print(f\"{pre}{to_simple_node_view(node)}\")\n",
    "    print()"
   ]
  },
  {
   "cell_type": "code",
   "execution_count": 15,
   "id": "0d34a7cb",
   "metadata": {},
   "outputs": [
    {
     "name": "stdout",
     "output_type": "stream",
     "text": [
      "Path summary:\n",
      "- int demo::Factorial(int): 3 paths\n",
      "  - [path_0] (1564, 1562): 2 traces\n",
      "  - [path_1] (1662, 1676): 1 traces\n",
      "  - [path_2] (1662, 1662, 1676): 5 traces\n",
      "\n",
      "Finding general expr. for: int demo::Factorial(int): (0)\n",
      "  Found expr.: C_1678\n",
      "\n",
      "Finding general expr. for: int demo::Factorial(int): (1)\n",
      "  Found expr.: C_1678\n",
      "\n",
      "Finding general expr. for: int demo::Factorial(int): (2)\n",
      "    |   Population Average    |             Best Individual              |\n",
      "---- ------------------------- ------------------------------------------ ----------\n",
      " Gen   Length          Fitness   Length          Fitness      OOB Fitness  Time Left\n",
      "   0    15.72      4.67996e+06        4                0                0     21.69s\n",
      "  Found loop expr.: sqrt(X0**2)\n",
      "Found established loop expr: sqrt(X0**2)\n",
      "  Found expr.: C_1678 + (C_OP_MUL_ASSIGN_INT_INT + T_1639)*sqrt(X0**2)\n",
      "\n",
      "Results:\n",
      "{\n",
      "  \"sigs\": {\n",
      "    \"int demo::Factorial(int)\": \"sig_0\"\n",
      "  },\n",
      "  \"ctxs\": {\n",
      "    \"sig_0\": {\n",
      "      \"int demo::Factorial(int): (-1)\": 0,\n",
      "      \"int demo::Factorial(int): (32)\": 0,\n",
      "      \"int demo::Factorial(int): (0)\": 1,\n",
      "      \"int demo::Factorial(int): (1)\": 2,\n",
      "      \"int demo::Factorial(int): (2)\": 2,\n",
      "      \"int demo::Factorial(int): (3)\": 2,\n",
      "      \"int demo::Factorial(int): (4)\": 2,\n",
      "      \"int demo::Factorial(int): (31)\": 2\n",
      "    }\n",
      "  },\n",
      "  \"exprs\": {\n",
      "    \"sig_0\": {\n",
      "      \"0\": \"Symbol('C_1678')\",\n",
      "      \"1\": \"Symbol('C_1678')\",\n",
      "      \"2\": \"Add(Symbol('C_1678'), Mul(Add(Symbol('C_OP_MUL_ASSIGN_INT_INT'), Symbol('T_1639')), Pow(Pow(Symbol('X0'), Integer(2)), Rational(1, 2))))\"\n",
      "    }\n",
      "  }\n",
      "}\n"
     ]
    }
   ],
   "source": [
    "results = paptree.analyze.analyze(known_exprs, trees_subset)\n",
    "print(\"\\nResults:\")\n",
    "print(json.dumps(results, indent=2))"
   ]
  },
  {
   "cell_type": "code",
   "execution_count": null,
   "id": "99363b94",
   "metadata": {},
   "outputs": [],
   "source": []
  },
  {
   "cell_type": "code",
   "execution_count": null,
   "id": "477701a0",
   "metadata": {},
   "outputs": [],
   "source": []
  },
  {
   "cell_type": "code",
   "execution_count": null,
   "id": "f71c36b9",
   "metadata": {},
   "outputs": [],
   "source": []
  },
  {
   "cell_type": "code",
   "execution_count": null,
   "id": "918d9f99",
   "metadata": {},
   "outputs": [],
   "source": []
  }
 ],
 "metadata": {
  "kernelspec": {
   "display_name": "Python 3 (ipykernel)",
   "language": "python",
   "name": "python3"
  },
  "language_info": {
   "codemirror_mode": {
    "name": "ipython",
    "version": 3
   },
   "file_extension": ".py",
   "mimetype": "text/x-python",
   "name": "python",
   "nbconvert_exporter": "python",
   "pygments_lexer": "ipython3",
   "version": "3.11.4"
  }
 },
 "nbformat": 4,
 "nbformat_minor": 5
}
