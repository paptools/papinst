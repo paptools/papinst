{
  "cells": [
  {
   "cell_type": "markdown",
   "id": "db0d15f7",
   "metadata": {},
   "source": [
    "# Demo Analysis"
   ]
  },
  {
   "cell_type": "markdown",
   "id": "0701ed7b",
   "metadata": {},
   "source": [
    "## 1. Setup Workspace"
   ]
  },
  {
   "cell_type": "code",
   "execution_count": 1,
   "id": "ed777ad5",
   "metadata": {},
   "outputs": [],
   "source": [
    "import json\n",
    "import pathlib\n",
    "import copy\n",
    "import operator\n",
    "import pathlib\n",
    "import os\n",
    "\n",
    "import anytree\n",
    "import networkx as nx\n",
    "import sympy\n",
    "\n",
    "import papan"
   ]
  },
  {
   "cell_type": "markdown",
   "id": "fc5383ce",
   "metadata": {},
   "source": [
    "## 2. Load Data"
   ]
  },
  {
   "cell_type": "code",
   "execution_count": 2,
   "id": "0d33d030",
   "metadata": {},
   "outputs": [
    {
     "name": "stdout",
     "output_type": "stream",
     "text": [
      "Loaded 79 traces.\n"
     ]
    }
   ],
   "source": [
    "data_dir = pathlib.Path.cwd().parent / \"experiments/demo/data\"\n",
    "raw_data_dir = data_dir / \"raw\"\n",
    "trace_file = raw_data_dir / \"paptrace.darwin-arm64-clang.json\"\n",
    "trees = papan.utils.from_file(trace_file)\n",
    "print(f\"Loaded {len(trees)} traces.\")"
   ]
  },
  {
   "cell_type": "code",
   "execution_count": 3,
   "id": "e1150cb6",
   "metadata": {},
   "outputs": [
    {
     "name": "stdout",
     "output_type": "stream",
     "text": [
      "Loaded 1 known expressions.\n",
      "{\n",
      "  \"int operator*=(int, int)\": \"C_OP_MUL_ASSIGN_INT_INT\"\n",
      "}\n"
     ]
    }
   ],
   "source": [
    "known_file = raw_data_dir / \"known_exprs.json\"\n",
    "with open(known_file, \"r\") as f_in:\n",
    "    known_exprs = json.loads(f_in.read())\n",
    "print(f\"Loaded {len(known_exprs)} known expressions.\")\n",
    "print(json.dumps(known_exprs, indent=2))"
   ]
  },
  {
   "cell_type": "markdown",
   "id": "a5669e89",
   "metadata": {},
   "source": [
    "## 3. Node Summary"
   ]
  },
  {
   "cell_type": "markdown",
   "id": "ffacef55",
   "metadata": {},
   "source": [
    "### 3.1. Unfiltered Nodes"
   ]
  },
  {
   "cell_type": "code",
   "execution_count": 4,
   "id": "6a942ff4",
   "metadata": {},
   "outputs": [
    {
     "name": "stdout",
     "output_type": "stream",
     "text": [
      "Node count: 32682\n"
     ]
    }
   ],
   "source": [
    "nodes = []\n",
    "for tree in trees:\n",
    "    nodes.extend(anytree.PreOrderIter(tree.root))\n",
    "print(f\"Node count: {len(nodes)}\")"
   ]
  },
  {
   "cell_type": "code",
   "execution_count": 5,
   "id": "66299809",
   "metadata": {},
   "outputs": [
    {
     "name": "stdout",
     "output_type": "stream",
     "text": [
      "Node type count: 8\n"
     ]
    }
   ],
   "source": [
    "node_types = {}\n",
    "for node in nodes:\n",
    "    node_types.setdefault(node.type, []).append(node)\n",
    "print(f\"Node type count: {len(node_types)}\")"
   ]
  },
  {
   "cell_type": "code",
   "execution_count": 6,
   "id": "225439fe",
   "metadata": {},
   "outputs": [
    {
     "name": "stdout",
     "output_type": "stream",
     "text": [
      "Nodes per type:\n",
      "- CalleeExpr: 79\n",
      "- ReturnStmt: 79\n",
      "- ForStmt: 963\n",
      "- CallerExpr: 119\n",
      "- LoopIter: 10811\n",
      "- OpExpr: 20601\n",
      "- IfThenStmt: 22\n",
      "- WhileStmt: 8\n"
     ]
    }
   ],
   "source": [
    "print(\"Nodes per type:\")\n",
    "for k, v in node_types.items():\n",
    "    print(f\"- {k}: {len(v)}\")"
   ]
  },
  {
   "cell_type": "markdown",
   "id": "48306b46",
   "metadata": {},
   "source": [
    "### 3.2. Unique Nodes"
   ]
  },
  {
   "cell_type": "code",
   "execution_count": 7,
   "id": "b199301c",
   "metadata": {},
   "outputs": [],
   "source": [
    "# Notice: Disabled due to poor performance.\n",
    "\n",
    "# unique_nodes = []\n",
    "# for node in nodes:\n",
    "#     if node not in unique_nodes:\n",
    "#         unique_nodes.append(node)\n",
    "# print(f\"Unique node count: {len(unique_nodes)}\")"
   ]
  },
  {
   "cell_type": "code",
   "execution_count": 8,
   "id": "f5eabe14",
   "metadata": {},
   "outputs": [],
   "source": [
    "# Notice: Disabled due to poor performance.\n",
    "\n",
    "# # We expect this count to match the unfiltered node type count.\n",
    "# unique_node_types = {}\n",
    "# for node in unique_nodes:\n",
    "#     unique_node_types.setdefault(node.type, []).append(node)\n",
    "# print(f\"Node type count: {len(unique_node_types)}\")"
   ]
  },
  {
   "cell_type": "code",
   "execution_count": 9,
   "id": "c0c2bbbc",
   "metadata": {},
   "outputs": [],
   "source": [
    "# Notice: Disabled due to poor performance.\n",
    "\n",
    "# print(\"Nodes per type:\")\n",
    "# for k, v in unique_node_types.items():\n",
    "#     print(f\"- {k}: {len(v)}\")"
   ]
  },
  {
   "cell_type": "markdown",
   "id": "3b647377",
   "metadata": {},
   "source": [
    "## 4. Trace Summary"
   ]
  },
  {
   "cell_type": "code",
   "execution_count": 10,
   "id": "d93d104c",
   "metadata": {},
   "outputs": [
    {
     "name": "stdout",
     "output_type": "stream",
     "text": [
      "Trace entry point count: 6\n"
     ]
    }
   ],
   "source": [
    "binned_trees = {}\n",
    "for tree in trees:\n",
    "    binned_trees.setdefault(tree.root.sig, []).append(tree)\n",
    "print(f\"Trace entry point count: {len(binned_trees)}\")"
   ]
  },
  {
   "cell_type": "code",
   "execution_count": 11,
   "id": "59994aa3",
   "metadata": {},
   "outputs": [
    {
     "name": "stdout",
     "output_type": "stream",
     "text": [
      "Traces per entry point:\n",
      "- _Bool demo::IsEven(int): 8\n",
      "- _Bool demo::IsPrime(int): 40\n",
      "- int demo::ShiftsToZero(int): 8\n",
      "- int demo::Factorial(int): 8\n",
      "- int demo::NByNIncrements(int): 8\n",
      "- int demo::NByNByNIncrements(int): 7\n"
     ]
    }
   ],
   "source": [
    "print(\"Traces per entry point:\")\n",
    "for k, v in binned_trees.items():\n",
    "    print(f\"- {k}: {len(v)}\")"
   ]
  },
  {
   "cell_type": "markdown",
   "id": "9b934807",
   "metadata": {},
   "source": [
    "## 5. Trace Analysis"
   ]
  },
  {
   "cell_type": "markdown",
   "id": "0bf8b5cd",
   "metadata": {},
   "source": [
    "### 5.1. IsEven"
   ]
  },
  {
   "cell_type": "code",
   "execution_count": 12,
   "id": "c0bc275d",
   "metadata": {},
   "outputs": [
    {
     "name": "stdout",
     "output_type": "stream",
     "text": [
      "(2080301) [CallNode] CalleeExpr: _Bool demo::IsEven(int): (0)\n",
      "└── (2080299) [StmtNode] ReturnStmt: return value % 2 == 0\n",
      "\n",
      "(2080301) [CallNode] CalleeExpr: _Bool demo::IsEven(int): (2)\n",
      "└── (2080299) [StmtNode] ReturnStmt: return value % 2 == 0\n",
      "\n",
      "(2080301) [CallNode] CalleeExpr: _Bool demo::IsEven(int): (4)\n",
      "└── (2080299) [StmtNode] ReturnStmt: return value % 2 == 0\n",
      "\n"
     ]
    }
   ],
   "source": [
    "trees_subset = binned_trees[\"_Bool demo::IsEven(int)\"]\n",
    "\n",
    "def to_params_str(params):\n",
    "    #return \", \".join([f\"{param['name']}={param['value']}\" for param in params])\n",
    "    return \", \".join([f\"{param['value']}\" for param in params])\n",
    "\n",
    "def to_call_str(node):\n",
    "    return f\"{node.sig}: ({to_params_str(node.params)})\"\n",
    "\n",
    "def to_simple_node_view(node):\n",
    "    sym = \"sym @ \" if hasattr(node, \"target\") else \"\"\n",
    "    if node.is_call_node():\n",
    "        node_type = type(node).__name__\n",
    "        desc = f\"{node.type}: {to_call_str(node)}\"\n",
    "    else:\n",
    "        node_type = type(node).__name__\n",
    "        desc = f\"{node.type}: {node.desc}\"\n",
    "    return f\"({sym}{node.name}) [{node_type}] {desc}\"\n",
    "\n",
    "for tree in operator.itemgetter(0, 1, 2)(trees_subset):\n",
    "    for pre, _, node in anytree.RenderTree(tree.root):\n",
    "        print(f\"{pre}{to_simple_node_view(node)}\")\n",
    "    print()"
   ]
  },
  {
   "cell_type": "code",
   "execution_count": 13,
   "id": "bab2d97c",
   "metadata": {},
   "outputs": [
    {
     "name": "stdout",
     "output_type": "stream",
     "text": [
      "Path summary:\n",
      "- _Bool demo::IsEven(int): 1 paths\n",
      "  - [path_0] (2080299,): 8 traces\n",
      "\n",
      "Finding general expr. for: _Bool demo::IsEven(int): (0)\n",
      "  Path is constant.\n",
      "  Found expr.: C_2080301\n",
      "\n",
      "Results:\n",
      "{\n",
      "  \"sigs\": {\n",
      "    \"_Bool demo::IsEven(int)\": \"sig_0\"\n",
      "  },\n",
      "  \"ctxs\": {\n",
      "    \"sig_0\": {\n",
      "      \"0\": \"path_0\",\n",
      "      \"2\": \"path_0\",\n",
      "      \"4\": \"path_0\",\n",
      "      \"1\": \"path_0\",\n",
      "      \"3\": \"path_0\",\n",
      "      \"5\": \"path_0\",\n",
      "      \"-2147483648\": \"path_0\",\n",
      "      \"2147483647\": \"path_0\"\n",
      "    }\n",
      "  },\n",
      "  \"exprs\": {\n",
      "    \"sig_0\": {\n",
      "      \"path_0\": \"C_2080301\"\n",
      "    }\n",
      "  }\n",
      "}\n"
     ]
    }
   ],
   "source": [
    "results = papan.analyze.analyze(known_exprs, trees_subset)\n",
    "print(\"\\nResults:\")\n",
    "print(json.dumps(results, indent=2))"
   ]
  },
  {
   "cell_type": "markdown",
   "id": "659cccb7",
   "metadata": {},
   "source": [
    "### 5.2. Factorial"
   ]
  },
  {
   "cell_type": "code",
   "execution_count": 14,
   "id": "8bf982e7",
   "metadata": {},
   "outputs": [
    {
     "name": "stdout",
     "output_type": "stream",
     "text": [
      "(2081318) [CallNode] CalleeExpr: int demo::Factorial(int): (-1)\n",
      "└── (2081204) [StmtNode] IfThenStmt: n < 0 || n > 31\n",
      "    └── (2081202) [StmtNode] ReturnStmt: return -1\n",
      "\n",
      "(2081318) [CallNode] CalleeExpr: int demo::Factorial(int): (0)\n",
      "├── (2081302) [LoopNode] ForStmt: for (int i = 1; i <= n; ++i)\n",
      "└── (2081316) [StmtNode] ReturnStmt: return result\n",
      "\n",
      "(2081318) [CallNode] CalleeExpr: int demo::Factorial(int): (1)\n",
      "├── (2081302) [LoopNode] ForStmt: for (int i = 1; i <= n; ++i)\n",
      "│   ├── (2081299) [StmtNode] LoopIter: LoopIter\n",
      "│   │   └── (2081293) [StmtNode] OpExpr: int operator*=(int, int)\n",
      "│   └── (2081279) [StmtNode] OpExpr: int operator++\n",
      "└── (2081316) [StmtNode] ReturnStmt: return result\n",
      "\n",
      "(2081318) [CallNode] CalleeExpr: int demo::Factorial(int): (2)\n",
      "├── (2081302) [LoopNode] ForStmt: for (int i = 1; i <= n; ++i)\n",
      "│   ├── (2081299) [StmtNode] LoopIter: LoopIter\n",
      "│   │   └── (2081293) [StmtNode] OpExpr: int operator*=(int, int)\n",
      "│   ├── (2081279) [StmtNode] OpExpr: int operator++\n",
      "│   ├── (2081299) [StmtNode] LoopIter: LoopIter\n",
      "│   │   └── (2081293) [StmtNode] OpExpr: int operator*=(int, int)\n",
      "│   └── (2081279) [StmtNode] OpExpr: int operator++\n",
      "└── (2081316) [StmtNode] ReturnStmt: return result\n",
      "\n"
     ]
    }
   ],
   "source": [
    "trees_subset = binned_trees[\"int demo::Factorial(int)\"]\n",
    "for tree in operator.itemgetter(0, 2, 3, 4)(trees_subset):\n",
    "    for pre, _, node in anytree.RenderTree(tree.root):\n",
    "        print(f\"{pre}{to_simple_node_view(node)}\")\n",
    "    print()"
   ]
  },
  {
   "cell_type": "code",
   "execution_count": 15,
   "id": "0d34a7cb",
   "metadata": {},
   "outputs": [
    {
     "name": "stdout",
     "output_type": "stream",
     "text": [
      "Path summary:\n",
      "- int demo::Factorial(int): 3 paths\n",
      "  - [path_0] (2081204, 2081202): 2 traces\n",
      "  - [path_1] (2081302, 2081316): 1 traces\n",
      "  - [path_2] (2081302, 2081299, 2081316): 5 traces\n",
      "\n",
      "Finding general expr. for: int demo::Factorial(int): (0)\n",
      "  Path is constant.\n",
      "  Found expr.: C_2081318\n",
      "\n",
      "Finding general expr. for: int demo::Factorial(int): (1)\n",
      "  Path is constant.\n",
      "  Found expr.: C_2081318\n",
      "\n",
      "Finding general expr. for: int demo::Factorial(int): (2)\n",
      "  Solving for loop expr for node: 2081302\n",
      "    Loop iteration has perfect linear correlation.\n",
      "    Setting loop expr for 6434789456 to 1.0*X0\n",
      "  Found expr.: C_2081318 + 1.0*X0*(C_OP_MUL_ASSIGN_INT_INT + T_2081279)\n",
      "\n",
      "Results:\n",
      "{\n",
      "  \"sigs\": {\n",
      "    \"int demo::Factorial(int)\": \"sig_0\"\n",
      "  },\n",
      "  \"ctxs\": {\n",
      "    \"sig_0\": {\n",
      "      \"-1\": \"path_0\",\n",
      "      \"32\": \"path_0\",\n",
      "      \"0\": \"path_1\",\n",
      "      \"1\": \"path_2\",\n",
      "      \"2\": \"path_2\",\n",
      "      \"3\": \"path_2\",\n",
      "      \"4\": \"path_2\",\n",
      "      \"31\": \"path_2\"\n",
      "    }\n",
      "  },\n",
      "  \"exprs\": {\n",
      "    \"sig_0\": {\n",
      "      \"path_0\": \"C_2081318\",\n",
      "      \"path_1\": \"C_2081318\",\n",
      "      \"path_2\": \"C_2081318 + 1.0*X0*(C_OP_MUL_ASSIGN_INT_INT + T_2081279)\"\n",
      "    }\n",
      "  }\n",
      "}\n"
     ]
    }
   ],
   "source": [
    "results = papan.analyze.analyze(known_exprs, trees_subset)\n",
    "print(\"\\nResults:\")\n",
    "print(json.dumps(results, indent=2))"
   ]
  },
  {
   "cell_type": "markdown",
   "id": "daeff85c",
   "metadata": {},
   "source": [
    "### 5.3. IsPrime"
   ]
  },
  {
   "cell_type": "code",
   "execution_count": 16,
   "id": "f71c36b9",
   "metadata": {},
   "outputs": [
    {
     "name": "stdout",
     "output_type": "stream",
     "text": [
      "Path summary:\n",
      "- _Bool demo::IsPrime(int): 5 paths\n",
      "  - [path_0] (2081101, 2081110): 2 traces\n",
      "  - [path_1] (2081101, 2081098, 2081110): 18 traces\n",
      "  - [path_2] (2080494, 2080492): 2 traces\n",
      "  - [path_3] (2081101, 2081098, 2081091, 2081089): 16 traces\n",
      "  - [path_4] (2081101, 2081098, 2081098, 2081091, 2081089): 2 traces\n",
      "\n",
      "Finding general expr. for: _Bool demo::IsPrime(int): (0)\n",
      "  Path is constant.\n",
      "  Found expr.: C_2081112\n",
      "\n",
      "Finding general expr. for: _Bool demo::IsPrime(int): (1)\n",
      "  Solving for loop expr for node: 2081101\n",
      "    Performing symbolic regression.\n",
      "   \t      \t                           fitness                            \t                      size                     \n",
      "   \t      \t--------------------------------------------------------------\t-----------------------------------------------\n",
      "gen\tnevals\tavg    \tgen\tmax        \tmin     \tnevals\tstd   \tavg\tgen\tmax\tmin\tnevals\tstd    \n",
      "0  \t300   \t17715.3\t0  \t5.25475e+06\t0.617277\t300   \t302867\t3.3\t0  \t7  \t2  \t300   \t1.33292\n",
      "1  \t183   \t4.90107\t1  \t348.056    \t0.617277\t183   \t24.273\t2.27333\t1  \t6  \t1  \t183   \t0.710837\n",
      "2  \t156   \t7.01048\t2  \t1662.17    \t0.617277\t156   \t95.8049\t2.21667\t2  \t5  \t1  \t156   \t0.645282\n",
      "3  \t169   \t1.79749\t3  \t66.2778    \t0.617277\t169   \t4.92657\t2.75   \t3  \t6  \t1  \t169   \t1.11692 \n",
      "4  \t174   \t1.33904\t4  \t7.16667    \t0.512835\t174   \t1.03408\t3.91333\t4  \t6  \t1  \t174   \t1.131   \n",
      "5  \t137   \t1.34969\t5  \t31.0556    \t0.480393\t137   \t2.01931\t3.95   \t5  \t8  \t1  \t137   \t1.08359 \n",
      "6  \t163   \t1.67132\t6  \t31.0556    \t0.480393\t163   \t2.96213\t4.05   \t6  \t8  \t1  \t163   \t1.26787 \n",
      "7  \t162   \t1.45498\t7  \t31.0556    \t0.480393\t162   \t2.66766\t4.91667\t7  \t10 \t1  \t162   \t1.58841 \n",
      "8  \t164   \t2.37066\t8  \t242.389    \t0.469492\t164   \t14.1895\t5.72667\t8  \t12 \t1  \t164   \t1.85255 \n",
      "9  \t172   \t1.54816\t9  \t31.0556    \t0.469492\t172   \t2.71799\t5.72   \t9  \t10 \t1  \t172   \t1.83891 \n",
      "10 \t171   \t1.54034\t10 \t31.0556    \t0.469492\t171   \t3.16254\t5.86667\t10 \t11 \t1  \t171   \t1.83182 \n",
      "11 \t167   \t1.58622\t11 \t66.2778    \t0.469492\t167   \t4.58936\t5.80333\t11 \t10 \t1  \t167   \t1.9021  \n",
      "12 \t190   \t7.04623\t12 \t1662.17    \t0.469492\t190   \t95.7464\t5.77   \t12 \t10 \t1  \t190   \t2.00094 \n",
      "13 \t151   \t6.73832\t13 \t1662.17    \t0.469492\t151   \t95.7574\t5.83333\t13 \t10 \t1  \t151   \t1.57868 \n",
      "14 \t159   \t7.25862\t14 \t1662.17    \t0.469492\t159   \t95.8377\t5.84667\t14 \t12 \t1  \t159   \t1.72525 \n",
      "15 \t161   \t1.35723\t15 \t36.0556    \t0.469492\t161   \t2.37198\t5.79   \t15 \t10 \t2  \t161   \t1.67906 \n",
      "16 \t177   \t1.43918\t16 \t30.6789    \t0.469492\t177   \t2.05687\t5.83667\t16 \t10 \t2  \t177   \t1.74642 \n",
      "17 \t150   \t1.61174\t17 \t76.1667    \t0.469492\t150   \t4.66765\t5.84667\t17 \t10 \t2  \t150   \t1.87878 \n",
      "18 \t165   \t1.27294\t18 \t5.14592    \t0.469492\t165   \t1.17215\t5.9    \t18 \t12 \t2  \t165   \t1.70392 \n",
      "19 \t158   \t1.6967 \t19 \t74.1667    \t0.469492\t158   \t5.225  \t5.81667\t19 \t10 \t1  \t158   \t1.48427 \n",
      "20 \t163   \t1.2891 \t20 \t11.7537    \t0.469492\t163   \t1.39326\t5.85667\t20 \t10 \t1  \t163   \t1.76147 \n",
      "21 \t157   \t1.21053\t21 \t9.32004    \t0.469492\t157   \t1.17404\t5.80667\t21 \t10 \t1  \t157   \t1.85183 \n",
      "22 \t175   \t1.31158\t22 \t31.0556    \t0.469492\t175   \t2.02737\t5.86333\t22 \t10 \t1  \t175   \t1.93511 \n",
      "23 \t165   \t1.37123\t23 \t30.6789    \t0.469492\t165   \t2.09511\t5.81667\t23 \t10 \t2  \t165   \t1.70579 \n",
      "24 \t170   \t1.52765\t24 \t31.0556    \t0.469492\t170   \t3.16906\t5.74   \t24 \t10 \t1  \t170   \t1.8688  \n",
      "25 \t172   \t2.83435\t25 \t321.167    \t0.469492\t172   \t18.8342\t5.81333\t25 \t12 \t1  \t172   \t1.8597  \n",
      "26 \t178   \t7.11218\t26 \t1662.17    \t0.469492\t178   \t95.7519\t5.82333\t26 \t10 \t1  \t178   \t1.78852 \n",
      "27 \t184   \t1.34753\t27 \t4.83333    \t0.469492\t184   \t1.17412\t5.77667\t27 \t10 \t1  \t184   \t1.79075 \n",
      "28 \t152   \t1.25712\t28 \t31.0556    \t0.469492\t152   \t2.05095\t5.81333\t28 \t10 \t1  \t152   \t1.65282 \n",
      "29 \t160   \t1.18786\t29 \t5.14592    \t0.469492\t160   \t1.09853\t5.83   \t29 \t10 \t2  \t160   \t1.81873 \n",
      "30 \t148   \t6.98485\t30 \t1662.17    \t0.469492\t148   \t95.7629\t5.8    \t30 \t12 \t1  \t148   \t1.8868  \n",
      "31 \t171   \t1.55409\t31 \t101.5      \t0.469492\t171   \t5.92401\t5.87   \t31 \t10 \t1  \t171   \t1.68911 \n",
      "32 \t182   \t1.52997\t32 \t29.0556    \t0.469492\t182   \t2.09531\t5.82667\t32 \t10 \t1  \t182   \t1.8859  \n",
      "33 \t171   \t1.31091\t33 \t3.79353    \t0.469492\t171   \t1.16765\t5.78333\t33 \t12 \t2  \t171   \t1.77475 \n",
      "34 \t149   \t6.96747\t34 \t1662.17    \t0.469492\t149   \t95.7629\t5.71333\t34 \t10 \t1  \t149   \t1.79197 \n",
      "35 \t182   \t1.54533\t35 \t36.0556    \t0.469492\t182   \t2.86857\t5.72   \t35 \t10 \t1  \t182   \t1.91875 \n",
      "36 \t181   \t1.56762\t36 \t66.2778    \t0.469492\t181   \t3.96528\t5.70667\t36 \t10 \t1  \t181   \t1.80941 \n",
      "37 \t164   \t1.53087\t37 \t31.0556    \t0.469492\t164   \t2.67745\t5.78333\t37 \t10 \t1  \t164   \t1.71553 \n",
      "38 \t169   \t1.60683\t38 \t31.0556    \t0.469492\t169   \t2.8028 \t5.86333\t38 \t12 \t1  \t169   \t1.95055 \n",
      "39 \t179   \t1.44185\t39 \t31.0556    \t0.469492\t179   \t2.62828\t5.77667\t39 \t10 \t1  \t179   \t1.85476 \n",
      "40 \t172   \t1.30086\t40 \t11.4948    \t0.469492\t172   \t1.28443\t5.79   \t40 \t10 \t2  \t172   \t1.82371 \n",
      "    Setting loop expr for 6434563536 to sqrt(X0 - 14)\n",
      "  Found expr.: C_2081112 + T_2081036 + (T_2081036 + T_2081058)*sqrt(X0 - 14)\n",
      "\n",
      "Finding general expr. for: _Bool demo::IsPrime(int): (2)\n",
      "  Path is constant.\n",
      "  Found expr.: C_2081112\n",
      "\n",
      "Finding general expr. for: _Bool demo::IsPrime(int): (3)\n",
      "  Solving for loop expr for node: 2081101\n",
      "    Loop iteration is constant.\n",
      "    Setting loop expr for 6434690384 to 1.00000000000000\n",
      "  Found expr.: C_2081112 + 1.0*T_2081036\n",
      "\n",
      "Finding general expr. for: _Bool demo::IsPrime(int): (4)\n",
      "  Solving for loop expr for node: 2081101\n",
      "    Loop iteration is constant.\n",
      "    Setting loop expr for 6434699152 to 3.00000000000000\n",
      "  Found expr.: C_2081112 + 4.0*T_2081036 + 3.0*T_2081058\n",
      "\n",
      "Results:\n",
      "{\n",
      "  \"sigs\": {\n",
      "    \"_Bool demo::IsPrime(int)\": \"sig_0\"\n",
      "  },\n",
      "  \"ctxs\": {\n",
      "    \"sig_0\": {\n",
      "      \"2\": \"path_0\",\n",
      "      \"3\": \"path_0\",\n",
      "      \"5\": \"path_1\",\n",
      "      \"7\": \"path_1\",\n",
      "      \"11\": \"path_1\",\n",
      "      \"13\": \"path_1\",\n",
      "      \"17\": \"path_1\",\n",
      "      \"19\": \"path_1\",\n",
      "      \"23\": \"path_1\",\n",
      "      \"29\": \"path_1\",\n",
      "      \"31\": \"path_1\",\n",
      "      \"37\": \"path_1\",\n",
      "      \"41\": \"path_1\",\n",
      "      \"43\": \"path_1\",\n",
      "      \"47\": \"path_1\",\n",
      "      \"53\": \"path_1\",\n",
      "      \"59\": \"path_1\",\n",
      "      \"61\": \"path_1\",\n",
      "      \"67\": \"path_1\",\n",
      "      \"71\": \"path_1\",\n",
      "      \"0\": \"path_2\",\n",
      "      \"1\": \"path_2\",\n",
      "      \"4\": \"path_3\",\n",
      "      \"6\": \"path_3\",\n",
      "      \"10\": \"path_3\",\n",
      "      \"16\": \"path_3\",\n",
      "      \"18\": \"path_3\",\n",
      "      \"20\": \"path_3\",\n",
      "      \"30\": \"path_3\",\n",
      "      \"32\": \"path_3\",\n",
      "      \"36\": \"path_3\",\n",
      "      \"42\": \"path_3\",\n",
      "      \"44\": \"path_3\",\n",
      "      \"48\": \"path_3\",\n",
      "      \"60\": \"path_3\",\n",
      "      \"64\": \"path_3\",\n",
      "      \"68\": \"path_3\",\n",
      "      \"72\": \"path_3\",\n",
      "      \"25\": \"path_4\",\n",
      "      \"55\": \"path_4\"\n",
      "    }\n",
      "  },\n",
      "  \"exprs\": {\n",
      "    \"sig_0\": {\n",
      "      \"path_0\": \"C_2081112\",\n",
      "      \"path_1\": \"C_2081112 + T_2081036 + (T_2081036 + T_2081058)*sqrt(X0 - 14)\",\n",
      "      \"path_2\": \"C_2081112\",\n",
      "      \"path_3\": \"C_2081112 + 1.0*T_2081036\",\n",
      "      \"path_4\": \"C_2081112 + 4.0*T_2081036 + 3.0*T_2081058\"\n",
      "    }\n",
      "  }\n",
      "}\n"
     ]
    }
   ],
   "source": [
    "trees_subset = binned_trees[\"_Bool demo::IsPrime(int)\"]\n",
    "results = papan.analyze.analyze(known_exprs, trees_subset)\n",
    "print(\"\\nResults:\")\n",
    "print(json.dumps(results, indent=2))"
   ]
  },
  {
   "cell_type": "code",
   "execution_count": 17,
   "id": "4fe8a457",
   "metadata": {},
   "outputs": [
    {
     "name": "stdout",
     "output_type": "stream",
     "text": [
      "CallNode(name=2081112, params=[{'name': 'n', 'value': '4'}], sig='_Bool demo::IsPrime(int)', type='CalleeExpr')\n",
      "└── LoopNode(desc='for (int i = 2; i <= std::sqrt(n); ++i)', iter_block=[CallNode(name=2081036, params=[{'name': 'n', 'value': '4'}], sig='typename std::enable_if<std::is_integral<int>::value, double>::type sqrt(int)', type='CallerExpr'), StmtNode(desc='LoopIter', name=2081098, type='LoopIter')], iter_count=1, name=2081101, trailing_iter_block=None, type='ForStmt')\n",
      "    ├── CallNode(name=2081036, params=[{'name': 'n', 'value': '4'}], sig='typename std::enable_if<std::is_integral<int>::value, double>::type sqrt(int)', type='CallerExpr')\n",
      "    └── StmtNode(desc='LoopIter', name=2081098, type='LoopIter')\n",
      "        └── StmtNode(desc='n % i == 0', name=2081091, type='IfThenStmt')\n",
      "            └── StmtNode(desc='return false', name=2081089, type='ReturnStmt')\n",
      "[2081101, 2081098, 2081091, 2081089]\n",
      "\n",
      "CallNode(name=2081112, params=[{'name': 'n', 'value': '6'}], sig='_Bool demo::IsPrime(int)', type='CalleeExpr')\n",
      "└── LoopNode(desc='for (int i = 2; i <= std::sqrt(n); ++i)', iter_block=[CallNode(name=2081036, params=[{'name': 'n', 'value': '6'}], sig='typename std::enable_if<std::is_integral<int>::value, double>::type sqrt(int)', type='CallerExpr'), StmtNode(desc='LoopIter', name=2081098, type='LoopIter')], iter_count=1, name=2081101, trailing_iter_block=None, type='ForStmt')\n",
      "    ├── CallNode(name=2081036, params=[{'name': 'n', 'value': '6'}], sig='typename std::enable_if<std::is_integral<int>::value, double>::type sqrt(int)', type='CallerExpr')\n",
      "    └── StmtNode(desc='LoopIter', name=2081098, type='LoopIter')\n",
      "        └── StmtNode(desc='n % i == 0', name=2081091, type='IfThenStmt')\n",
      "            └── StmtNode(desc='return false', name=2081089, type='ReturnStmt')\n",
      "[2081101, 2081098, 2081091, 2081089]\n",
      "\n",
      "CallNode(name=2081112, params=[{'name': 'n', 'value': '10'}], sig='_Bool demo::IsPrime(int)', type='CalleeExpr')\n",
      "└── LoopNode(desc='for (int i = 2; i <= std::sqrt(n); ++i)', iter_block=[CallNode(name=2081036, params=[{'name': 'n', 'value': '10'}], sig='typename std::enable_if<std::is_integral<int>::value, double>::type sqrt(int)', type='CallerExpr'), StmtNode(desc='LoopIter', name=2081098, type='LoopIter')], iter_count=1, name=2081101, trailing_iter_block=None, type='ForStmt')\n",
      "    ├── CallNode(name=2081036, params=[{'name': 'n', 'value': '10'}], sig='typename std::enable_if<std::is_integral<int>::value, double>::type sqrt(int)', type='CallerExpr')\n",
      "    └── StmtNode(desc='LoopIter', name=2081098, type='LoopIter')\n",
      "        └── StmtNode(desc='n % i == 0', name=2081091, type='IfThenStmt')\n",
      "            └── StmtNode(desc='return false', name=2081089, type='ReturnStmt')\n",
      "[2081101, 2081098, 2081091, 2081089]\n",
      "\n",
      "CallNode(name=2081112, params=[{'name': 'n', 'value': '16'}], sig='_Bool demo::IsPrime(int)', type='CalleeExpr')\n",
      "└── LoopNode(desc='for (int i = 2; i <= std::sqrt(n); ++i)', iter_block=[CallNode(name=2081036, params=[{'name': 'n', 'value': '16'}], sig='typename std::enable_if<std::is_integral<int>::value, double>::type sqrt(int)', type='CallerExpr'), StmtNode(desc='LoopIter', name=2081098, type='LoopIter')], iter_count=1, name=2081101, trailing_iter_block=None, type='ForStmt')\n",
      "    ├── CallNode(name=2081036, params=[{'name': 'n', 'value': '16'}], sig='typename std::enable_if<std::is_integral<int>::value, double>::type sqrt(int)', type='CallerExpr')\n",
      "    └── StmtNode(desc='LoopIter', name=2081098, type='LoopIter')\n",
      "        └── StmtNode(desc='n % i == 0', name=2081091, type='IfThenStmt')\n",
      "            └── StmtNode(desc='return false', name=2081089, type='ReturnStmt')\n",
      "[2081101, 2081098, 2081091, 2081089]\n",
      "\n"
     ]
    }
   ],
   "source": [
    "for tree in trees_subset:\n",
    "    if tree.root.params[0][\"value\"] not in [\"4\", \"6\", \"10\", \"16\"]:\n",
    "        continue\n",
    "    #for pre, _, node in anytree.RenderTree(tree.root):\n",
    "    #    print(f\"{pre}{to_simple_node_view(node)}\")\n",
    "    print(anytree.RenderTree(tree.root))\n",
    "    print(tree.get_cf_nodes())\n",
    "    print()"
   ]
  },
  {
   "cell_type": "markdown",
   "id": "307eb288",
   "metadata": {},
   "source": [
    "## 5.4. ShiftsToZero"
   ]
  },
  {
   "cell_type": "code",
   "execution_count": 18,
   "id": "986141e6",
   "metadata": {},
   "outputs": [
    {
     "name": "stdout",
     "output_type": "stream",
     "text": [
      "Path summary:\n",
      "- int demo::ShiftsToZero(int): 2 paths\n",
      "  - [path_0] (2080414, 2080425): 1 traces\n",
      "  - [path_1] (2080414, 2080410, 2080425): 7 traces\n",
      "\n",
      "Finding general expr. for: int demo::ShiftsToZero(int): (0)\n",
      "  Path is constant.\n",
      "  Found expr.: C_2080427\n",
      "\n",
      "Finding general expr. for: int demo::ShiftsToZero(int): (1)\n",
      "  Solving for loop expr for node: 2080414\n",
      "    Performing symbolic regression.\n",
      "   \t      \t                        fitness                        \t                      size                     \n",
      "   \t      \t-------------------------------------------------------\t-----------------------------------------------\n",
      "gen\tnevals\tavg    \tgen\tmax   \tmin     \tnevals\tstd    \tavg    \tgen\tmax\tmin\tnevals\tstd    \n",
      "0  \t300   \t4726.53\t0  \t666272\t0.400807\t300   \t54219.8\t3.26667\t0  \t7  \t2  \t300   \t1.36951\n",
      "1  \t152   \t12.2559\t1  \t3045  \t0.402364\t152   \t175.481\t2.19333\t1  \t5  \t1  \t152   \t0.62925\n",
      "2  \t161   \t3.34874\t2  \t348.857\t0.402364\t161   \t20.7364\t2.12   \t2  \t4  \t1  \t161   \t0.540617\n",
      "3  \t183   \t11.3513\t3  \t3045   \t0.402364\t183   \t175.442\t2.35333\t3  \t6  \t1  \t183   \t0.792773\n",
      "4  \t181   \t1.25702\t4  \t31.2857\t0.402364\t181   \t2.54398\t3      \t4  \t6  \t1  \t181   \t1.14018 \n",
      "5  \t159   \t2.14286\t5  \t243    \t0.303894\t159   \t14.6864\t3.94333\t5  \t7  \t1  \t159   \t1.13142 \n",
      "6  \t152   \t1.25268\t6  \t66.5714\t0.303894\t152   \t4.24818\t3.95333\t6  \t9  \t1  \t152   \t1.07911 \n",
      "7  \t167   \t1.05177\t7  \t31.2857\t0.303894\t167   \t2.10731\t3.93667\t7  \t8  \t2  \t167   \t1.06739 \n",
      "8  \t164   \t0.93991\t8  \t3      \t0.303894\t164   \t0.815415\t3.95333\t8  \t8  \t2  \t164   \t1.00556 \n",
      "9  \t155   \t11.384 \t9  \t3045   \t0.303894\t155   \t175.481 \t3.91333\t9  \t6  \t1  \t155   \t1.04841 \n",
      "10 \t152   \t0.998106\t10 \t13     \t0.303894\t152   \t1.28612 \t3.89333\t10 \t7  \t1  \t152   \t1.03374 \n",
      "11 \t173   \t1.12605 \t11 \t31.2857\t0.303894\t173   \t1.93555 \t3.91   \t11 \t7  \t1  \t173   \t1.02725 \n",
      "12 \t165   \t0.996043\t12 \t12     \t0.303894\t165   \t1.07183 \t3.89667\t12 \t7  \t1  \t165   \t1.08903 \n",
      "13 \t168   \t1.21172 \t13 \t31.2857\t0.303894\t168   \t2.64337 \t3.81   \t13 \t6  \t1  \t168   \t1.1375  \n",
      "14 \t177   \t1.08774 \t14 \t31.2857\t0.388223\t177   \t1.92615 \t3.90333\t14 \t7  \t1  \t177   \t1.01357 \n",
      "15 \t185   \t1.2216  \t15 \t31.2857\t0.303894\t185   \t1.99915 \t3.91667\t15 \t8  \t1  \t185   \t1.13272 \n",
      "16 \t148   \t1.07647 \t16 \t31.2857\t0.388223\t148   \t1.95263 \t3.87333\t16 \t6  \t1  \t148   \t0.961226\n",
      "17 \t159   \t12.1306 \t17 \t3045   \t0.303894\t159   \t176.321 \t3.94333\t17 \t6  \t2  \t159   \t0.920211\n",
      "18 \t173   \t2.19218 \t18 \t278.286\t0.388223\t173   \t16.1227 \t3.85333\t18 \t7  \t1  \t173   \t1.14825 \n",
      "19 \t147   \t1.00173 \t19 \t13     \t0.303894\t147   \t1.227   \t3.85667\t19 \t6  \t1  \t147   \t1.04057 \n",
      "20 \t167   \t1.14453 \t20 \t31.2857\t0.303894\t167   \t2.03947 \t3.91333\t20 \t6  \t1  \t167   \t1.09506 \n",
      "21 \t162   \t1.06434 \t21 \t3      \t0.303894\t162   \t0.889   \t3.92667\t21 \t7  \t2  \t162   \t1.02695 \n",
      "22 \t171   \t1.16249 \t22 \t31.2857\t0.303894\t171   \t2.60586 \t3.90667\t22 \t7  \t1  \t171   \t1.07918 \n",
      "23 \t180   \t1.87761 \t23 \t207.714\t0.303894\t180   \t12.1826 \t3.91333\t23 \t7  \t1  \t180   \t1.1601  \n",
      "24 \t169   \t1.07475 \t24 \t36.2857\t0.303894\t169   \t2.20176 \t3.96   \t24 \t7  \t1  \t169   \t1.05439 \n",
      "25 \t166   \t1.30452 \t25 \t31.2857\t0.303894\t166   \t3.20929 \t4.20667\t25 \t8  \t1  \t166   \t1.2612  \n",
      "26 \t171   \t0.99843 \t26 \t31.2857\t0.303894\t171   \t1.91702 \t4.51333\t26 \t8  \t1  \t171   \t1.37713 \n",
      "27 \t164   \t0.918256\t27 \t31.2857\t0.303894\t164   \t2.04219 \t4.81   \t27 \t9  \t1  \t164   \t1.42147 \n",
      "28 \t182   \t1.24158 \t28 \t66.5714\t0.303894\t182   \t4.23054 \t4.87333\t28 \t8  \t1  \t182   \t1.51348 \n",
      "29 \t140   \t0.822421\t29 \t4.07452\t0.303894\t140   \t0.837366\t4.92333\t29 \t9  \t2  \t140   \t1.20172 \n",
      "30 \t168   \t0.983079\t30 \t38.2857\t0.231701\t168   \t2.32015 \t4.90667\t30 \t10 \t1  \t168   \t1.41349 \n",
      "31 \t163   \t0.85102 \t31 \t31.2857\t0.303894\t163   \t1.90124 \t4.91   \t31 \t10 \t1  \t163   \t1.3983  \n",
      "32 \t165   \t0.929954\t32 \t31.2857\t0.303894\t165   \t1.92859 \t4.9    \t32 \t8  \t1  \t165   \t1.33542 \n",
      "33 \t172   \t1.00631 \t33 \t37.2857\t0.303894\t172   \t2.83544 \t4.80333\t33 \t8  \t1  \t172   \t1.38491 \n",
      "34 \t174   \t1.07695 \t34 \t31.2857\t0.303894\t174   \t3.03734 \t4.87667\t34 \t8  \t1  \t174   \t1.35946 \n",
      "35 \t181   \t0.969499\t35 \t31.2857\t0.303894\t181   \t2.04754 \t4.85   \t35 \t8  \t1  \t181   \t1.35677 \n",
      "36 \t175   \t1.00471 \t36 \t31.2857\t0.303894\t175   \t1.97469 \t4.87333\t36 \t8  \t1  \t175   \t1.432   \n",
      "37 \t156   \t11.6319 \t37 \t3045   \t0.303894\t156   \t175.74  \t4.88667\t37 \t8  \t1  \t156   \t1.364   \n",
      "38 \t152   \t1.02525 \t38 \t101.857\t0.303894\t152   \t5.87455 \t4.89   \t38 \t8  \t2  \t152   \t1.09144 \n",
      "39 \t152   \t1.08896 \t39 \t66.5714\t0.303894\t152   \t4.36206 \t4.91667\t39 \t10 \t2  \t152   \t1.19292 \n",
      "40 \t161   \t0.846307\t40 \t7      \t0.303894\t161   \t0.824514\t4.79667\t40 \t8  \t1  \t161   \t1.33491 \n",
      "    Setting loop expr for 6434733712 to log(X0*sqrt(X0 + 7))\n",
      "  Found expr.: C_2080427 + (T_2080397 + T_2080407)*log(X0*sqrt(X0 + 7))\n",
      "\n",
      "Results:\n",
      "{\n",
      "  \"sigs\": {\n",
      "    \"int demo::ShiftsToZero(int)\": \"sig_0\"\n",
      "  },\n",
      "  \"ctxs\": {\n",
      "    \"sig_0\": {\n",
      "      \"0\": \"path_0\",\n",
      "      \"1\": \"path_1\",\n",
      "      \"3\": \"path_1\",\n",
      "      \"7\": \"path_1\",\n",
      "      \"15\": \"path_1\",\n",
      "      \"31\": \"path_1\",\n",
      "      \"63\": \"path_1\",\n",
      "      \"127\": \"path_1\"\n",
      "    }\n",
      "  },\n",
      "  \"exprs\": {\n",
      "    \"sig_0\": {\n",
      "      \"path_0\": \"C_2080427\",\n",
      "      \"path_1\": \"C_2080427 + (T_2080397 + T_2080407)*log(X0*sqrt(X0 + 7))\"\n",
      "    }\n",
      "  }\n",
      "}\n"
     ]
    }
   ],
   "source": [
    "trees_subset = binned_trees[\"int demo::ShiftsToZero(int)\"]\n",
    "results = papan.analyze.analyze(known_exprs, trees_subset)\n",
    "print(\"\\nResults:\")\n",
    "print(json.dumps(results, indent=2))"
   ]
  },
  {
   "cell_type": "code",
   "execution_count": 19,
   "id": "10f6906d",
   "metadata": {},
   "outputs": [
    {
     "name": "stdout",
     "output_type": "stream",
     "text": [
      "(2080427) [CallNode] CalleeExpr: int demo::ShiftsToZero(int): (0)\n",
      "├── (2080414) [LoopNode] WhileStmt: while (n > 0)\n",
      "└── (2080425) [StmtNode] ReturnStmt: return cnt\n",
      "\n",
      "(2080427) [CallNode] CalleeExpr: int demo::ShiftsToZero(int): (1)\n",
      "├── (2080414) [LoopNode] WhileStmt: while (n > 0)\n",
      "│   └── (2080410) [StmtNode] LoopIter: LoopIter\n",
      "│       ├── (2080397) [StmtNode] OpExpr: int operator>>=(int, int)\n",
      "│       └── (2080407) [StmtNode] OpExpr: int operator++\n",
      "└── (2080425) [StmtNode] ReturnStmt: return cnt\n",
      "\n",
      "(2080427) [CallNode] CalleeExpr: int demo::ShiftsToZero(int): (3)\n",
      "├── (2080414) [LoopNode] WhileStmt: while (n > 0)\n",
      "│   ├── (2080410) [StmtNode] LoopIter: LoopIter\n",
      "│   │   ├── (2080397) [StmtNode] OpExpr: int operator>>=(int, int)\n",
      "│   │   └── (2080407) [StmtNode] OpExpr: int operator++\n",
      "│   └── (2080410) [StmtNode] LoopIter: LoopIter\n",
      "│       ├── (2080397) [StmtNode] OpExpr: int operator>>=(int, int)\n",
      "│       └── (2080407) [StmtNode] OpExpr: int operator++\n",
      "└── (2080425) [StmtNode] ReturnStmt: return cnt\n",
      "\n",
      "(2080427) [CallNode] CalleeExpr: int demo::ShiftsToZero(int): (7)\n",
      "├── (2080414) [LoopNode] WhileStmt: while (n > 0)\n",
      "│   ├── (2080410) [StmtNode] LoopIter: LoopIter\n",
      "│   │   ├── (2080397) [StmtNode] OpExpr: int operator>>=(int, int)\n",
      "│   │   └── (2080407) [StmtNode] OpExpr: int operator++\n",
      "│   ├── (2080410) [StmtNode] LoopIter: LoopIter\n",
      "│   │   ├── (2080397) [StmtNode] OpExpr: int operator>>=(int, int)\n",
      "│   │   └── (2080407) [StmtNode] OpExpr: int operator++\n",
      "│   └── (2080410) [StmtNode] LoopIter: LoopIter\n",
      "│       ├── (2080397) [StmtNode] OpExpr: int operator>>=(int, int)\n",
      "│       └── (2080407) [StmtNode] OpExpr: int operator++\n",
      "└── (2080425) [StmtNode] ReturnStmt: return cnt\n",
      "\n",
      "(2080427) [CallNode] CalleeExpr: int demo::ShiftsToZero(int): (15)\n",
      "├── (2080414) [LoopNode] WhileStmt: while (n > 0)\n",
      "│   ├── (2080410) [StmtNode] LoopIter: LoopIter\n",
      "│   │   ├── (2080397) [StmtNode] OpExpr: int operator>>=(int, int)\n",
      "│   │   └── (2080407) [StmtNode] OpExpr: int operator++\n",
      "│   ├── (2080410) [StmtNode] LoopIter: LoopIter\n",
      "│   │   ├── (2080397) [StmtNode] OpExpr: int operator>>=(int, int)\n",
      "│   │   └── (2080407) [StmtNode] OpExpr: int operator++\n",
      "│   ├── (2080410) [StmtNode] LoopIter: LoopIter\n",
      "│   │   ├── (2080397) [StmtNode] OpExpr: int operator>>=(int, int)\n",
      "│   │   └── (2080407) [StmtNode] OpExpr: int operator++\n",
      "│   └── (2080410) [StmtNode] LoopIter: LoopIter\n",
      "│       ├── (2080397) [StmtNode] OpExpr: int operator>>=(int, int)\n",
      "│       └── (2080407) [StmtNode] OpExpr: int operator++\n",
      "└── (2080425) [StmtNode] ReturnStmt: return cnt\n",
      "\n",
      "(2080427) [CallNode] CalleeExpr: int demo::ShiftsToZero(int): (31)\n",
      "├── (2080414) [LoopNode] WhileStmt: while (n > 0)\n",
      "│   ├── (2080410) [StmtNode] LoopIter: LoopIter\n",
      "│   │   ├── (2080397) [StmtNode] OpExpr: int operator>>=(int, int)\n",
      "│   │   └── (2080407) [StmtNode] OpExpr: int operator++\n",
      "│   ├── (2080410) [StmtNode] LoopIter: LoopIter\n",
      "│   │   ├── (2080397) [StmtNode] OpExpr: int operator>>=(int, int)\n",
      "│   │   └── (2080407) [StmtNode] OpExpr: int operator++\n",
      "│   ├── (2080410) [StmtNode] LoopIter: LoopIter\n",
      "│   │   ├── (2080397) [StmtNode] OpExpr: int operator>>=(int, int)\n",
      "│   │   └── (2080407) [StmtNode] OpExpr: int operator++\n",
      "│   ├── (2080410) [StmtNode] LoopIter: LoopIter\n",
      "│   │   ├── (2080397) [StmtNode] OpExpr: int operator>>=(int, int)\n",
      "│   │   └── (2080407) [StmtNode] OpExpr: int operator++\n",
      "│   └── (2080410) [StmtNode] LoopIter: LoopIter\n",
      "│       ├── (2080397) [StmtNode] OpExpr: int operator>>=(int, int)\n",
      "│       └── (2080407) [StmtNode] OpExpr: int operator++\n",
      "└── (2080425) [StmtNode] ReturnStmt: return cnt\n",
      "\n",
      "(2080427) [CallNode] CalleeExpr: int demo::ShiftsToZero(int): (63)\n",
      "├── (2080414) [LoopNode] WhileStmt: while (n > 0)\n",
      "│   ├── (2080410) [StmtNode] LoopIter: LoopIter\n",
      "│   │   ├── (2080397) [StmtNode] OpExpr: int operator>>=(int, int)\n",
      "│   │   └── (2080407) [StmtNode] OpExpr: int operator++\n",
      "│   ├── (2080410) [StmtNode] LoopIter: LoopIter\n",
      "│   │   ├── (2080397) [StmtNode] OpExpr: int operator>>=(int, int)\n",
      "│   │   └── (2080407) [StmtNode] OpExpr: int operator++\n",
      "│   ├── (2080410) [StmtNode] LoopIter: LoopIter\n",
      "│   │   ├── (2080397) [StmtNode] OpExpr: int operator>>=(int, int)\n",
      "│   │   └── (2080407) [StmtNode] OpExpr: int operator++\n",
      "│   ├── (2080410) [StmtNode] LoopIter: LoopIter\n",
      "│   │   ├── (2080397) [StmtNode] OpExpr: int operator>>=(int, int)\n",
      "│   │   └── (2080407) [StmtNode] OpExpr: int operator++\n",
      "│   ├── (2080410) [StmtNode] LoopIter: LoopIter\n",
      "│   │   ├── (2080397) [StmtNode] OpExpr: int operator>>=(int, int)\n",
      "│   │   └── (2080407) [StmtNode] OpExpr: int operator++\n",
      "│   └── (2080410) [StmtNode] LoopIter: LoopIter\n",
      "│       ├── (2080397) [StmtNode] OpExpr: int operator>>=(int, int)\n",
      "│       └── (2080407) [StmtNode] OpExpr: int operator++\n",
      "└── (2080425) [StmtNode] ReturnStmt: return cnt\n",
      "\n",
      "(2080427) [CallNode] CalleeExpr: int demo::ShiftsToZero(int): (127)\n",
      "├── (2080414) [LoopNode] WhileStmt: while (n > 0)\n",
      "│   ├── (2080410) [StmtNode] LoopIter: LoopIter\n",
      "│   │   ├── (2080397) [StmtNode] OpExpr: int operator>>=(int, int)\n",
      "│   │   └── (2080407) [StmtNode] OpExpr: int operator++\n",
      "│   ├── (2080410) [StmtNode] LoopIter: LoopIter\n",
      "│   │   ├── (2080397) [StmtNode] OpExpr: int operator>>=(int, int)\n",
      "│   │   └── (2080407) [StmtNode] OpExpr: int operator++\n",
      "│   ├── (2080410) [StmtNode] LoopIter: LoopIter\n",
      "│   │   ├── (2080397) [StmtNode] OpExpr: int operator>>=(int, int)\n",
      "│   │   └── (2080407) [StmtNode] OpExpr: int operator++\n",
      "│   ├── (2080410) [StmtNode] LoopIter: LoopIter\n",
      "│   │   ├── (2080397) [StmtNode] OpExpr: int operator>>=(int, int)\n",
      "│   │   └── (2080407) [StmtNode] OpExpr: int operator++\n",
      "│   ├── (2080410) [StmtNode] LoopIter: LoopIter\n",
      "│   │   ├── (2080397) [StmtNode] OpExpr: int operator>>=(int, int)\n",
      "│   │   └── (2080407) [StmtNode] OpExpr: int operator++\n",
      "│   ├── (2080410) [StmtNode] LoopIter: LoopIter\n",
      "│   │   ├── (2080397) [StmtNode] OpExpr: int operator>>=(int, int)\n",
      "│   │   └── (2080407) [StmtNode] OpExpr: int operator++\n",
      "│   └── (2080410) [StmtNode] LoopIter: LoopIter\n",
      "│       ├── (2080397) [StmtNode] OpExpr: int operator>>=(int, int)\n",
      "│       └── (2080407) [StmtNode] OpExpr: int operator++\n",
      "└── (2080425) [StmtNode] ReturnStmt: return cnt\n",
      "\n"
     ]
    }
   ],
   "source": [
    "for tree in trees_subset:\n",
    "    for pre, _, node in anytree.RenderTree(tree.root):\n",
    "        print(f\"{pre}{to_simple_node_view(node)}\")\n",
    "    print()"
   ]
  },
  {
   "cell_type": "code",
   "execution_count": null,
   "id": "e0a04822",
   "metadata": {},
   "outputs": [],
   "source": []
  }
 ],
 "metadata": {
  "kernelspec": {
   "display_name": "Python 3 (ipykernel)",
   "language": "python",
   "name": "python3"
  },
  "language_info": {
   "codemirror_mode": {
    "name": "ipython",
    "version": 3
   },
   "file_extension": ".py",
   "mimetype": "text/x-python",
   "name": "python",
   "nbconvert_exporter": "python",
   "pygments_lexer": "ipython3",
   "version": "3.11.4"
  }
 },
 "nbformat": 4,
 "nbformat_minor": 5
}
