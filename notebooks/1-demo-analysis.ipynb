{
 "cells": [
  {
   "cell_type": "markdown",
   "id": "db0d15f7",
   "metadata": {},
   "source": [
    "# Demo Analysis"
   ]
  },
  {
   "cell_type": "markdown",
   "id": "0701ed7b",
   "metadata": {},
   "source": [
    "## 1. Setup Workspace"
   ]
  },
  {
   "cell_type": "code",
   "execution_count": 1,
   "id": "ed777ad5",
   "metadata": {},
   "outputs": [],
   "source": [
    "import json\n",
    "import pathlib\n",
    "import copy\n",
    "import operator\n",
    "import pathlib\n",
    "import os\n",
    "\n",
    "import anytree\n",
    "import networkx as nx\n",
    "import sympy\n",
    "\n",
    "import paptree"
   ]
  },
  {
   "cell_type": "markdown",
   "id": "fc5383ce",
   "metadata": {},
   "source": [
    "## 2. Load Data"
   ]
  },
  {
   "cell_type": "code",
   "execution_count": 2,
   "id": "0d33d030",
   "metadata": {},
   "outputs": [
    {
     "name": "stdout",
     "output_type": "stream",
     "text": [
      "Loaded 84 traces.\n"
     ]
    }
   ],
   "source": [
    "data_dir = pathlib.Path.cwd().parent / \"experiments/demo/data\"\n",
    "raw_data_dir = data_dir / \"raw\"\n",
    "trace_file = raw_data_dir / \"paptrace.darwin-arm64-clang.json\"\n",
    "trees = paptree.utils.from_file(trace_file)\n",
    "print(f\"Loaded {len(trees)} traces.\")"
   ]
  },
  {
   "cell_type": "code",
   "execution_count": 3,
   "id": "e1150cb6",
   "metadata": {},
   "outputs": [
    {
     "name": "stdout",
     "output_type": "stream",
     "text": [
      "Loaded 1 known expressions.\n",
      "{\n",
      "  \"int operator*=(int, int)\": \"C_OP_MUL_ASSIGN_INT_INT\"\n",
      "}\n"
     ]
    }
   ],
   "source": [
    "known_file = raw_data_dir / \"known_exprs.json\"\n",
    "with open(known_file, \"r\") as f_in:\n",
    "    known_exprs = json.loads(f_in.read())\n",
    "print(f\"Loaded {len(known_exprs)} known expressions.\")\n",
    "print(json.dumps(known_exprs, indent=2))"
   ]
  },
  {
   "cell_type": "markdown",
   "id": "a5669e89",
   "metadata": {},
   "source": [
    "## 3. Node Summary"
   ]
  },
  {
   "cell_type": "markdown",
   "id": "ffacef55",
   "metadata": {},
   "source": [
    "### 3.1. Unfiltered Nodes"
   ]
  },
  {
   "cell_type": "code",
   "execution_count": 4,
   "id": "6a942ff4",
   "metadata": {},
   "outputs": [
    {
     "name": "stdout",
     "output_type": "stream",
     "text": [
      "Node count: 3513\n"
     ]
    }
   ],
   "source": [
    "nodes = []\n",
    "for tree in trees:\n",
    "    nodes.extend(anytree.PreOrderIter(tree.root))\n",
    "print(f\"Node count: {len(nodes)}\")"
   ]
  },
  {
   "cell_type": "code",
   "execution_count": 5,
   "id": "66299809",
   "metadata": {},
   "outputs": [
    {
     "name": "stdout",
     "output_type": "stream",
     "text": [
      "Node type count: 8\n"
     ]
    }
   ],
   "source": [
    "node_types = {}\n",
    "for node in nodes:\n",
    "    node_types.setdefault(node.type, []).append(node)\n",
    "print(f\"Node type count: {len(node_types)}\")"
   ]
  },
  {
   "cell_type": "code",
   "execution_count": 6,
   "id": "225439fe",
   "metadata": {},
   "outputs": [
    {
     "name": "stdout",
     "output_type": "stream",
     "text": [
      "Nodes per type:\n",
      "- CalleeExpr: 84\n",
      "- ReturnStmt: 84\n",
      "- WhileStmt: 8\n",
      "- LoopIter: 1083\n",
      "- OpExpr: 1794\n",
      "- IfThenStmt: 22\n",
      "- ForStmt: 319\n",
      "- CallerExpr: 119\n"
     ]
    }
   ],
   "source": [
    "print(\"Nodes per type:\")\n",
    "for k, v in node_types.items():\n",
    "    print(f\"- {k}: {len(v)}\")"
   ]
  },
  {
   "cell_type": "markdown",
   "id": "48306b46",
   "metadata": {},
   "source": [
    "### 3.2. Unique Nodes"
   ]
  },
  {
   "cell_type": "code",
   "execution_count": 7,
   "id": "b199301c",
   "metadata": {},
   "outputs": [
    {
     "name": "stdout",
     "output_type": "stream",
     "text": [
      "Unique node count: 252\n"
     ]
    }
   ],
   "source": [
    "unique_nodes = []\n",
    "for node in nodes:\n",
    "    if node not in unique_nodes:\n",
    "        unique_nodes.append(node)\n",
    "print(f\"Unique node count: {len(unique_nodes)}\")"
   ]
  },
  {
   "cell_type": "code",
   "execution_count": 8,
   "id": "f5eabe14",
   "metadata": {},
   "outputs": [
    {
     "name": "stdout",
     "output_type": "stream",
     "text": [
      "Node type count: 8\n"
     ]
    }
   ],
   "source": [
    "# We expect this count to match the unfiltered node type count.\n",
    "unique_node_types = {}\n",
    "for node in unique_nodes:\n",
    "    unique_node_types.setdefault(node.type, []).append(node)\n",
    "print(f\"Node type count: {len(unique_node_types)}\")"
   ]
  },
  {
   "cell_type": "code",
   "execution_count": 9,
   "id": "c0c2bbbc",
   "metadata": {},
   "outputs": [
    {
     "name": "stdout",
     "output_type": "stream",
     "text": [
      "Nodes per type:\n",
      "- CalleeExpr: 84\n",
      "- ReturnStmt: 9\n",
      "- WhileStmt: 8\n",
      "- LoopIter: 8\n",
      "- OpExpr: 12\n",
      "- IfThenStmt: 3\n",
      "- ForStmt: 90\n",
      "- CallerExpr: 38\n"
     ]
    }
   ],
   "source": [
    "print(\"Nodes per type:\")\n",
    "for k, v in unique_node_types.items():\n",
    "    print(f\"- {k}: {len(v)}\")"
   ]
  },
  {
   "cell_type": "markdown",
   "id": "3b647377",
   "metadata": {},
   "source": [
    "## 4. Trace Summary"
   ]
  },
  {
   "cell_type": "code",
   "execution_count": 10,
   "id": "d93d104c",
   "metadata": {},
   "outputs": [
    {
     "name": "stdout",
     "output_type": "stream",
     "text": [
      "Trace entry point count: 6\n"
     ]
    }
   ],
   "source": [
    "binned_trees = {}\n",
    "for tree in trees:\n",
    "    binned_trees.setdefault(tree.root.sig, []).append(tree)\n",
    "print(f\"Trace entry point count: {len(binned_trees)}\")"
   ]
  },
  {
   "cell_type": "code",
   "execution_count": 11,
   "id": "59994aa3",
   "metadata": {},
   "outputs": [
    {
     "name": "stdout",
     "output_type": "stream",
     "text": [
      "Traces per entry point:\n",
      "- _Bool demo::IsEven(int): 8\n",
      "- int demo::ShiftsToZero(int): 8\n",
      "- int demo::Factorial(int): 8\n",
      "- _Bool demo::IsPrime(int): 40\n",
      "- int demo::NByNIncrements(int): 10\n",
      "- int demo::NByNByNIncrements(int): 10\n"
     ]
    }
   ],
   "source": [
    "print(\"Traces per entry point:\")\n",
    "for k, v in binned_trees.items():\n",
    "    print(f\"- {k}: {len(v)}\")"
   ]
  },
  {
   "cell_type": "markdown",
   "id": "9b934807",
   "metadata": {},
   "source": [
    "## 5. Trace Analysis"
   ]
  },
  {
   "cell_type": "markdown",
   "id": "0bf8b5cd",
   "metadata": {},
   "source": [
    "### 5.1. IsEven"
   ]
  },
  {
   "cell_type": "code",
   "execution_count": 12,
   "id": "c0bc275d",
   "metadata": {},
   "outputs": [
    {
     "name": "stdout",
     "output_type": "stream",
     "text": [
      "(2080301) [CallNode] CalleeExpr: _Bool demo::IsEven(int): (0)\n",
      "└── (2080299) [StmtNode] ReturnStmt: return value % 2 == 0\n",
      "\n",
      "(2080301) [CallNode] CalleeExpr: _Bool demo::IsEven(int): (2)\n",
      "└── (2080299) [StmtNode] ReturnStmt: return value % 2 == 0\n",
      "\n",
      "(2080301) [CallNode] CalleeExpr: _Bool demo::IsEven(int): (4)\n",
      "└── (2080299) [StmtNode] ReturnStmt: return value % 2 == 0\n",
      "\n"
     ]
    }
   ],
   "source": [
    "trees_subset = binned_trees[\"_Bool demo::IsEven(int)\"]\n",
    "\n",
    "def to_params_str(params):\n",
    "    #return \", \".join([f\"{param['name']}={param['value']}\" for param in params])\n",
    "    return \", \".join([f\"{param['value']}\" for param in params])\n",
    "\n",
    "def to_call_str(node):\n",
    "    return f\"{node.sig}: ({to_params_str(node.params)})\"\n",
    "\n",
    "def to_simple_node_view(node):\n",
    "    sym = \"sym @ \" if hasattr(node, \"target\") else \"\"\n",
    "    if node.is_call_node():\n",
    "        node_type = type(node).__name__\n",
    "        desc = f\"{node.type}: {to_call_str(node)}\"\n",
    "    else:\n",
    "        node_type = type(node).__name__\n",
    "        desc = f\"{node.type}: {node.desc}\"\n",
    "    return f\"({sym}{node.name}) [{node_type}] {desc}\"\n",
    "\n",
    "for tree in operator.itemgetter(0, 1, 2)(trees_subset):\n",
    "    for pre, _, node in anytree.RenderTree(tree.root):\n",
    "        print(f\"{pre}{to_simple_node_view(node)}\")\n",
    "    print()"
   ]
  },
  {
   "cell_type": "code",
   "execution_count": 13,
   "id": "bab2d97c",
   "metadata": {},
   "outputs": [
    {
     "name": "stdout",
     "output_type": "stream",
     "text": [
      "Path summary:\n",
      "- _Bool demo::IsEven(int): 1 paths\n",
      "  - [path_0] (2080299,): 8 traces\n",
      "\n",
      "Finding general expr. for: _Bool demo::IsEven(int): (0)\n",
      "  Path is constant.\n",
      "  Found expr.: C_2080301\n",
      "\n",
      "Results:\n",
      "{\n",
      "  \"sigs\": {\n",
      "    \"_Bool demo::IsEven(int)\": \"sig_0\"\n",
      "  },\n",
      "  \"ctxs\": {\n",
      "    \"sig_0\": {\n",
      "      \"0\": \"path_0\",\n",
      "      \"2\": \"path_0\",\n",
      "      \"4\": \"path_0\",\n",
      "      \"1\": \"path_0\",\n",
      "      \"3\": \"path_0\",\n",
      "      \"5\": \"path_0\",\n",
      "      \"-2147483648\": \"path_0\",\n",
      "      \"2147483647\": \"path_0\"\n",
      "    }\n",
      "  },\n",
      "  \"exprs\": {\n",
      "    \"sig_0\": {\n",
      "      \"path_0\": \"C_2080301\"\n",
      "    }\n",
      "  }\n",
      "}\n"
     ]
    }
   ],
   "source": [
    "results = paptree.analyze.analyze(known_exprs, trees_subset)\n",
    "print(\"\\nResults:\")\n",
    "print(json.dumps(results, indent=2))"
   ]
  },
  {
   "cell_type": "markdown",
   "id": "659cccb7",
   "metadata": {},
   "source": [
    "### 5.2. Factorial"
   ]
  },
  {
   "cell_type": "code",
   "execution_count": 14,
   "id": "8bf982e7",
   "metadata": {},
   "outputs": [
    {
     "name": "stdout",
     "output_type": "stream",
     "text": [
      "(2080633) [CallNode] CalleeExpr: int demo::Factorial(int): (-1)\n",
      "└── (2080519) [StmtNode] IfThenStmt: n < 0 || n > 31\n",
      "    └── (2080517) [StmtNode] ReturnStmt: return -1\n",
      "\n",
      "(2080633) [CallNode] CalleeExpr: int demo::Factorial(int): (0)\n",
      "├── (2080617) [LoopNode] ForStmt: for (int i = 1; i <= n; ++i)\n",
      "└── (2080631) [StmtNode] ReturnStmt: return result\n",
      "\n",
      "(2080633) [CallNode] CalleeExpr: int demo::Factorial(int): (1)\n",
      "├── (2080617) [LoopNode] ForStmt: for (int i = 1; i <= n; ++i)\n",
      "│   ├── (2080614) [StmtNode] LoopIter: LoopIter\n",
      "│   │   └── (2080608) [StmtNode] OpExpr: int operator*=(int, int)\n",
      "│   └── (2080594) [StmtNode] OpExpr: int operator++\n",
      "└── (2080631) [StmtNode] ReturnStmt: return result\n",
      "\n",
      "(2080633) [CallNode] CalleeExpr: int demo::Factorial(int): (2)\n",
      "├── (2080617) [LoopNode] ForStmt: for (int i = 1; i <= n; ++i)\n",
      "│   ├── (2080614) [StmtNode] LoopIter: LoopIter\n",
      "│   │   └── (2080608) [StmtNode] OpExpr: int operator*=(int, int)\n",
      "│   ├── (2080594) [StmtNode] OpExpr: int operator++\n",
      "│   ├── (2080614) [StmtNode] LoopIter: LoopIter\n",
      "│   │   └── (2080608) [StmtNode] OpExpr: int operator*=(int, int)\n",
      "│   └── (2080594) [StmtNode] OpExpr: int operator++\n",
      "└── (2080631) [StmtNode] ReturnStmt: return result\n",
      "\n"
     ]
    }
   ],
   "source": [
    "trees_subset = binned_trees[\"int demo::Factorial(int)\"]\n",
    "for tree in operator.itemgetter(0, 2, 3, 4)(trees_subset):\n",
    "    for pre, _, node in anytree.RenderTree(tree.root):\n",
    "        print(f\"{pre}{to_simple_node_view(node)}\")\n",
    "    print()"
   ]
  },
  {
   "cell_type": "code",
   "execution_count": 15,
   "id": "0d34a7cb",
   "metadata": {},
   "outputs": [
    {
     "name": "stdout",
     "output_type": "stream",
     "text": [
      "Path summary:\n",
      "- int demo::Factorial(int): 3 paths\n",
      "  - [path_0] (2080519, 2080517): 2 traces\n",
      "  - [path_1] (2080617, 2080631): 1 traces\n",
      "  - [path_2] (2080617, 2080614, 2080631): 5 traces\n",
      "\n",
      "Finding general expr. for: int demo::Factorial(int): (0)\n",
      "  Path is constant.\n",
      "  Found expr.: C_2080633\n",
      "\n",
      "Finding general expr. for: int demo::Factorial(int): (1)\n",
      "  Path is constant.\n",
      "  Found expr.: C_2080633\n",
      "\n",
      "Finding general expr. for: int demo::Factorial(int): (2)\n",
      "  Solving for loop expr for node: 2080617\n",
      "X0 + 3.56423889223083\n",
      "X0 + 3.6\n",
      "    Setting loop expr for 5221007184 to X0 + 3.6\n",
      "  Found expr.: C_2080633 + (C_OP_MUL_ASSIGN_INT_INT + T_2080594)*(X0 + 3.6)\n",
      "\n",
      "Results:\n",
      "{\n",
      "  \"sigs\": {\n",
      "    \"int demo::Factorial(int)\": \"sig_0\"\n",
      "  },\n",
      "  \"ctxs\": {\n",
      "    \"sig_0\": {\n",
      "      \"-1\": \"path_0\",\n",
      "      \"32\": \"path_0\",\n",
      "      \"0\": \"path_1\",\n",
      "      \"1\": \"path_2\",\n",
      "      \"2\": \"path_2\",\n",
      "      \"3\": \"path_2\",\n",
      "      \"4\": \"path_2\",\n",
      "      \"31\": \"path_2\"\n",
      "    }\n",
      "  },\n",
      "  \"exprs\": {\n",
      "    \"sig_0\": {\n",
      "      \"path_0\": \"C_2080633\",\n",
      "      \"path_1\": \"C_2080633\",\n",
      "      \"path_2\": \"C_2080633 + (C_OP_MUL_ASSIGN_INT_INT + T_2080594)*(X0 + 3.6)\"\n",
      "    }\n",
      "  }\n",
      "}\n"
     ]
    }
   ],
   "source": [
    "results = paptree.analyze.analyze(known_exprs, trees_subset)\n",
    "print(\"\\nResults:\")\n",
    "print(json.dumps(results, indent=2))"
   ]
  },
  {
   "cell_type": "markdown",
   "id": "daeff85c",
   "metadata": {},
   "source": [
    "### 5.3. IsPrime"
   ]
  },
  {
   "cell_type": "code",
   "execution_count": 21,
   "id": "f71c36b9",
   "metadata": {},
   "outputs": [
    {
     "name": "stdout",
     "output_type": "stream",
     "text": [
      "Path summary:\n",
      "- _Bool demo::IsPrime(int): 5 paths\n",
      "  - [path_0] (2081307, 2081316): 2 traces\n",
      "  - [path_1] (2081307, 2081304, 2081316): 18 traces\n",
      "  - [path_2] (2080701, 2080699): 2 traces\n",
      "  - [path_3] (2081307, 2081304, 2081297, 2081295): 16 traces\n",
      "  - [path_4] (2081307, 2081304, 2081304, 2081297, 2081295): 2 traces\n",
      "\n",
      "Finding general expr. for: _Bool demo::IsPrime(int): (0)\n",
      "  Path is constant.\n",
      "  Found expr.: C_2081318\n",
      "\n",
      "Finding general expr. for: _Bool demo::IsPrime(int): (1)\n",
      "  Solving for loop expr for node: 2081307\n",
      "sqrt(X0 + 0.831075692060685) + sqrt(X0 + 0.85811278734734)\n",
      "sqrt(X0 + 0.8) + sqrt(X0 + 0.9)\n",
      "    Setting loop expr for 5221053840 to sqrt(X0 + 0.8) + sqrt(X0 + 0.9)\n",
      "  Found expr.: C_2081318 + T_2081242 + (T_2081242 + T_2081264)*(sqrt(X0 + 0.8) + sqrt(X0 + 0.9))\n",
      "\n",
      "Finding general expr. for: _Bool demo::IsPrime(int): (2)\n",
      "  Path is constant.\n",
      "  Found expr.: C_2081318\n",
      "\n",
      "Finding general expr. for: _Bool demo::IsPrime(int): (3)\n",
      "  Solving for loop expr for node: 2081307\n",
      "6.19118622306427\n",
      "6.2\n",
      "    Setting loop expr for 5221195152 to 6.2\n",
      "  Found expr.: C_2081318 + 6.2*T_2081242\n",
      "\n",
      "Finding general expr. for: _Bool demo::IsPrime(int): (4)\n",
      "  Solving for loop expr for node: 2081307\n",
      "1.94350031653994 - 4.29648611705469*X0\n",
      "1.9 - 4.3*X0\n",
      "    Setting loop expr for 5221220432 to 1.9 - 4.3*X0\n",
      "  Found expr.: C_2081318 + T_2081242 + (1.9 - 4.3*X0)*(T_2081242 + T_2081264)\n",
      "\n",
      "Results:\n",
      "{\n",
      "  \"sigs\": {\n",
      "    \"_Bool demo::IsPrime(int)\": \"sig_0\"\n",
      "  },\n",
      "  \"ctxs\": {\n",
      "    \"sig_0\": {\n",
      "      \"2\": \"path_0\",\n",
      "      \"3\": \"path_0\",\n",
      "      \"5\": \"path_1\",\n",
      "      \"7\": \"path_1\",\n",
      "      \"11\": \"path_1\",\n",
      "      \"13\": \"path_1\",\n",
      "      \"17\": \"path_1\",\n",
      "      \"19\": \"path_1\",\n",
      "      \"23\": \"path_1\",\n",
      "      \"29\": \"path_1\",\n",
      "      \"31\": \"path_1\",\n",
      "      \"37\": \"path_1\",\n",
      "      \"41\": \"path_1\",\n",
      "      \"43\": \"path_1\",\n",
      "      \"47\": \"path_1\",\n",
      "      \"53\": \"path_1\",\n",
      "      \"59\": \"path_1\",\n",
      "      \"61\": \"path_1\",\n",
      "      \"67\": \"path_1\",\n",
      "      \"71\": \"path_1\",\n",
      "      \"0\": \"path_2\",\n",
      "      \"1\": \"path_2\",\n",
      "      \"4\": \"path_3\",\n",
      "      \"6\": \"path_3\",\n",
      "      \"10\": \"path_3\",\n",
      "      \"16\": \"path_3\",\n",
      "      \"18\": \"path_3\",\n",
      "      \"20\": \"path_3\",\n",
      "      \"30\": \"path_3\",\n",
      "      \"32\": \"path_3\",\n",
      "      \"36\": \"path_3\",\n",
      "      \"42\": \"path_3\",\n",
      "      \"44\": \"path_3\",\n",
      "      \"48\": \"path_3\",\n",
      "      \"60\": \"path_3\",\n",
      "      \"64\": \"path_3\",\n",
      "      \"68\": \"path_3\",\n",
      "      \"72\": \"path_3\",\n",
      "      \"25\": \"path_4\",\n",
      "      \"55\": \"path_4\"\n",
      "    }\n",
      "  },\n",
      "  \"exprs\": {\n",
      "    \"sig_0\": {\n",
      "      \"path_0\": \"C_2081318\",\n",
      "      \"path_1\": \"C_2081318 + T_2081242 + (T_2081242 + T_2081264)*(sqrt(X0 + 0.8) + sqrt(X0 + 0.9))\",\n",
      "      \"path_2\": \"C_2081318\",\n",
      "      \"path_3\": \"C_2081318 + 6.2*T_2081242\",\n",
      "      \"path_4\": \"C_2081318 + T_2081242 + (1.9 - 4.3*X0)*(T_2081242 + T_2081264)\"\n",
      "    }\n",
      "  }\n",
      "}\n"
     ]
    }
   ],
   "source": [
    "trees_subset = binned_trees[\"_Bool demo::IsPrime(int)\"]\n",
    "results = paptree.analyze.analyze(known_exprs, trees_subset)\n",
    "print(\"\\nResults:\")\n",
    "print(json.dumps(results, indent=2))"
   ]
  },
  {
   "cell_type": "code",
   "execution_count": 29,
   "id": "4fe8a457",
   "metadata": {},
   "outputs": [
    {
     "name": "stdout",
     "output_type": "stream",
     "text": [
      "CallNode(name=2081318, params=[{'name': 'n', 'value': '25'}], sig='_Bool demo::IsPrime(int)', type='CalleeExpr')\n",
      "└── LoopNode(desc='for (int i = 2; i <= std::sqrt(n); ++i)', iter_block=[CallNode(name=2081242, params=[{'name': 'n', 'value': '25'}], sig='typename std::enable_if<std::is_integral<int>::value, double>::type sqrt(int)', type='CallerExpr'), StmtNode(desc='LoopIter', name=2081304, type='LoopIter'), StmtNode(desc='int operator++', name=2081264, type='OpExpr')], iter_count=3, name=2081307, trailing_iter_block=[CallNode(name=2081242, params=[{'name': 'n', 'value': '25'}], sig='typename std::enable_if<std::is_integral<int>::value, double>::type sqrt(int)', type='CallerExpr'), StmtNode(desc='LoopIter', name=2081304, type='LoopIter')], type='ForStmt')\n",
      "    ├── CallNode(name=2081242, params=[{'name': 'n', 'value': '25'}], sig='typename std::enable_if<std::is_integral<int>::value, double>::type sqrt(int)', type='CallerExpr')\n",
      "    ├── StmtNode(desc='LoopIter', name=2081304, type='LoopIter')\n",
      "    ├── StmtNode(desc='int operator++', name=2081264, type='OpExpr')\n",
      "    ├── CallNode(name=2081242, params=[{'name': 'n', 'value': '25'}], sig='typename std::enable_if<std::is_integral<int>::value, double>::type sqrt(int)', type='CallerExpr')\n",
      "    ├── StmtNode(desc='LoopIter', name=2081304, type='LoopIter')\n",
      "    ├── StmtNode(desc='int operator++', name=2081264, type='OpExpr')\n",
      "    ├── CallNode(name=2081242, params=[{'name': 'n', 'value': '25'}], sig='typename std::enable_if<std::is_integral<int>::value, double>::type sqrt(int)', type='CallerExpr')\n",
      "    ├── StmtNode(desc='LoopIter', name=2081304, type='LoopIter')\n",
      "    ├── StmtNode(desc='int operator++', name=2081264, type='OpExpr')\n",
      "    ├── CallNode(name=2081242, params=[{'name': 'n', 'value': '25'}], sig='typename std::enable_if<std::is_integral<int>::value, double>::type sqrt(int)', type='CallerExpr')\n",
      "    └── StmtNode(desc='LoopIter', name=2081304, type='LoopIter')\n",
      "        └── StmtNode(desc='n % i == 0', name=2081297, type='IfThenStmt')\n",
      "            └── StmtNode(desc='return false', name=2081295, type='ReturnStmt')\n",
      "[2081307, 2081304, 2081304, 2081297, 2081295]\n",
      "\n",
      "CallNode(name=2081318, params=[{'name': 'n', 'value': '30'}], sig='_Bool demo::IsPrime(int)', type='CalleeExpr')\n",
      "└── LoopNode(desc='for (int i = 2; i <= std::sqrt(n); ++i)', iter_block=[CallNode(name=2081242, params=[{'name': 'n', 'value': '30'}], sig='typename std::enable_if<std::is_integral<int>::value, double>::type sqrt(int)', type='CallerExpr'), StmtNode(desc='LoopIter', name=2081304, type='LoopIter')], iter_count=1, name=2081307, trailing_iter_block=None, type='ForStmt')\n",
      "    ├── CallNode(name=2081242, params=[{'name': 'n', 'value': '30'}], sig='typename std::enable_if<std::is_integral<int>::value, double>::type sqrt(int)', type='CallerExpr')\n",
      "    └── StmtNode(desc='LoopIter', name=2081304, type='LoopIter')\n",
      "        └── StmtNode(desc='n % i == 0', name=2081297, type='IfThenStmt')\n",
      "            └── StmtNode(desc='return false', name=2081295, type='ReturnStmt')\n",
      "[2081307, 2081304, 2081297, 2081295]\n",
      "\n",
      "CallNode(name=2081318, params=[{'name': 'n', 'value': '36'}], sig='_Bool demo::IsPrime(int)', type='CalleeExpr')\n",
      "└── LoopNode(desc='for (int i = 2; i <= std::sqrt(n); ++i)', iter_block=[CallNode(name=2081242, params=[{'name': 'n', 'value': '36'}], sig='typename std::enable_if<std::is_integral<int>::value, double>::type sqrt(int)', type='CallerExpr'), StmtNode(desc='LoopIter', name=2081304, type='LoopIter')], iter_count=1, name=2081307, trailing_iter_block=None, type='ForStmt')\n",
      "    ├── CallNode(name=2081242, params=[{'name': 'n', 'value': '36'}], sig='typename std::enable_if<std::is_integral<int>::value, double>::type sqrt(int)', type='CallerExpr')\n",
      "    └── StmtNode(desc='LoopIter', name=2081304, type='LoopIter')\n",
      "        └── StmtNode(desc='n % i == 0', name=2081297, type='IfThenStmt')\n",
      "            └── StmtNode(desc='return false', name=2081295, type='ReturnStmt')\n",
      "[2081307, 2081304, 2081297, 2081295]\n",
      "\n",
      "CallNode(name=2081318, params=[{'name': 'n', 'value': '55'}], sig='_Bool demo::IsPrime(int)', type='CalleeExpr')\n",
      "└── LoopNode(desc='for (int i = 2; i <= std::sqrt(n); ++i)', iter_block=[CallNode(name=2081242, params=[{'name': 'n', 'value': '55'}], sig='typename std::enable_if<std::is_integral<int>::value, double>::type sqrt(int)', type='CallerExpr'), StmtNode(desc='LoopIter', name=2081304, type='LoopIter'), StmtNode(desc='int operator++', name=2081264, type='OpExpr')], iter_count=3, name=2081307, trailing_iter_block=[CallNode(name=2081242, params=[{'name': 'n', 'value': '55'}], sig='typename std::enable_if<std::is_integral<int>::value, double>::type sqrt(int)', type='CallerExpr'), StmtNode(desc='LoopIter', name=2081304, type='LoopIter')], type='ForStmt')\n",
      "    ├── CallNode(name=2081242, params=[{'name': 'n', 'value': '55'}], sig='typename std::enable_if<std::is_integral<int>::value, double>::type sqrt(int)', type='CallerExpr')\n",
      "    ├── StmtNode(desc='LoopIter', name=2081304, type='LoopIter')\n",
      "    ├── StmtNode(desc='int operator++', name=2081264, type='OpExpr')\n",
      "    ├── CallNode(name=2081242, params=[{'name': 'n', 'value': '55'}], sig='typename std::enable_if<std::is_integral<int>::value, double>::type sqrt(int)', type='CallerExpr')\n",
      "    ├── StmtNode(desc='LoopIter', name=2081304, type='LoopIter')\n",
      "    ├── StmtNode(desc='int operator++', name=2081264, type='OpExpr')\n",
      "    ├── CallNode(name=2081242, params=[{'name': 'n', 'value': '55'}], sig='typename std::enable_if<std::is_integral<int>::value, double>::type sqrt(int)', type='CallerExpr')\n",
      "    ├── StmtNode(desc='LoopIter', name=2081304, type='LoopIter')\n",
      "    ├── StmtNode(desc='int operator++', name=2081264, type='OpExpr')\n",
      "    ├── CallNode(name=2081242, params=[{'name': 'n', 'value': '55'}], sig='typename std::enable_if<std::is_integral<int>::value, double>::type sqrt(int)', type='CallerExpr')\n",
      "    └── StmtNode(desc='LoopIter', name=2081304, type='LoopIter')\n",
      "        └── StmtNode(desc='n % i == 0', name=2081297, type='IfThenStmt')\n",
      "            └── StmtNode(desc='return false', name=2081295, type='ReturnStmt')\n",
      "[2081307, 2081304, 2081304, 2081297, 2081295]\n",
      "\n"
     ]
    }
   ],
   "source": [
    "for tree in trees_subset:\n",
    "    if tree.root.params[0][\"value\"] not in [\"25\", \"30\", \"36\", \"55\"]:\n",
    "        continue\n",
    "    #for pre, _, node in anytree.RenderTree(tree.root):\n",
    "    #    print(f\"{pre}{to_simple_node_view(node)}\")\n",
    "    print(anytree.RenderTree(tree.root))\n",
    "    print(tree.get_cf_nodes())\n",
    "    print()"
   ]
  },
  {
   "cell_type": "markdown",
   "id": "307eb288",
   "metadata": {},
   "source": [
    "## 5.4. ShiftsToZero"
   ]
  },
  {
   "cell_type": "code",
   "execution_count": 18,
   "id": "986141e6",
   "metadata": {},
   "outputs": [
    {
     "name": "stdout",
     "output_type": "stream",
     "text": [
      "Path summary:\n",
      "- int demo::ShiftsToZero(int): 2 paths\n",
      "  - [path_0] (2080414, 2080425): 1 traces\n",
      "  - [path_1] (2080414, 2080410, 2080425): 7 traces\n",
      "\n",
      "Finding general expr. for: int demo::ShiftsToZero(int): (0)\n",
      "  Path is constant.\n",
      "  Found expr.: C_2080427\n",
      "\n",
      "Finding general expr. for: int demo::ShiftsToZero(int): (1)\n",
      "  Solving for loop expr for node: 2080414\n",
      "log(X0 + 0.969704266233825) + log(X0 + 1.0377625950867)\n",
      "2*log(X0 + 1.0)\n",
      "    Setting loop expr for 5220951568 to 2*log(X0 + 1.0)\n",
      "  Found expr.: C_2080427 + 2*(T_2080397 + T_2080407)*log(X0 + 1.0)\n",
      "\n",
      "Results:\n",
      "{\n",
      "  \"sigs\": {\n",
      "    \"int demo::ShiftsToZero(int)\": \"sig_0\"\n",
      "  },\n",
      "  \"ctxs\": {\n",
      "    \"sig_0\": {\n",
      "      \"0\": \"path_0\",\n",
      "      \"1\": \"path_1\",\n",
      "      \"3\": \"path_1\",\n",
      "      \"7\": \"path_1\",\n",
      "      \"15\": \"path_1\",\n",
      "      \"31\": \"path_1\",\n",
      "      \"63\": \"path_1\",\n",
      "      \"127\": \"path_1\"\n",
      "    }\n",
      "  },\n",
      "  \"exprs\": {\n",
      "    \"sig_0\": {\n",
      "      \"path_0\": \"C_2080427\",\n",
      "      \"path_1\": \"C_2080427 + 2*(T_2080397 + T_2080407)*log(X0 + 1.0)\"\n",
      "    }\n",
      "  }\n",
      "}\n"
     ]
    }
   ],
   "source": [
    "trees_subset = binned_trees[\"int demo::ShiftsToZero(int)\"]\n",
    "results = paptree.analyze.analyze(known_exprs, trees_subset)\n",
    "print(\"\\nResults:\")\n",
    "print(json.dumps(results, indent=2))"
   ]
  },
  {
   "cell_type": "code",
   "execution_count": 19,
   "id": "10f6906d",
   "metadata": {},
   "outputs": [
    {
     "name": "stdout",
     "output_type": "stream",
     "text": [
      "(2080427) [CallNode] CalleeExpr: int demo::ShiftsToZero(int): (0)\n",
      "├── (2080414) [LoopNode] WhileStmt: while (n > 0)\n",
      "└── (2080425) [StmtNode] ReturnStmt: return cnt\n",
      "\n",
      "(2080427) [CallNode] CalleeExpr: int demo::ShiftsToZero(int): (1)\n",
      "├── (2080414) [LoopNode] WhileStmt: while (n > 0)\n",
      "│   └── (2080410) [StmtNode] LoopIter: LoopIter\n",
      "│       ├── (2080397) [StmtNode] OpExpr: int operator>>=(int, int)\n",
      "│       └── (2080407) [StmtNode] OpExpr: int operator++\n",
      "└── (2080425) [StmtNode] ReturnStmt: return cnt\n",
      "\n",
      "(2080427) [CallNode] CalleeExpr: int demo::ShiftsToZero(int): (3)\n",
      "├── (2080414) [LoopNode] WhileStmt: while (n > 0)\n",
      "│   ├── (2080410) [StmtNode] LoopIter: LoopIter\n",
      "│   │   ├── (2080397) [StmtNode] OpExpr: int operator>>=(int, int)\n",
      "│   │   └── (2080407) [StmtNode] OpExpr: int operator++\n",
      "│   └── (2080410) [StmtNode] LoopIter: LoopIter\n",
      "│       ├── (2080397) [StmtNode] OpExpr: int operator>>=(int, int)\n",
      "│       └── (2080407) [StmtNode] OpExpr: int operator++\n",
      "└── (2080425) [StmtNode] ReturnStmt: return cnt\n",
      "\n",
      "(2080427) [CallNode] CalleeExpr: int demo::ShiftsToZero(int): (7)\n",
      "├── (2080414) [LoopNode] WhileStmt: while (n > 0)\n",
      "│   ├── (2080410) [StmtNode] LoopIter: LoopIter\n",
      "│   │   ├── (2080397) [StmtNode] OpExpr: int operator>>=(int, int)\n",
      "│   │   └── (2080407) [StmtNode] OpExpr: int operator++\n",
      "│   ├── (2080410) [StmtNode] LoopIter: LoopIter\n",
      "│   │   ├── (2080397) [StmtNode] OpExpr: int operator>>=(int, int)\n",
      "│   │   └── (2080407) [StmtNode] OpExpr: int operator++\n",
      "│   └── (2080410) [StmtNode] LoopIter: LoopIter\n",
      "│       ├── (2080397) [StmtNode] OpExpr: int operator>>=(int, int)\n",
      "│       └── (2080407) [StmtNode] OpExpr: int operator++\n",
      "└── (2080425) [StmtNode] ReturnStmt: return cnt\n",
      "\n",
      "(2080427) [CallNode] CalleeExpr: int demo::ShiftsToZero(int): (15)\n",
      "├── (2080414) [LoopNode] WhileStmt: while (n > 0)\n",
      "│   ├── (2080410) [StmtNode] LoopIter: LoopIter\n",
      "│   │   ├── (2080397) [StmtNode] OpExpr: int operator>>=(int, int)\n",
      "│   │   └── (2080407) [StmtNode] OpExpr: int operator++\n",
      "│   ├── (2080410) [StmtNode] LoopIter: LoopIter\n",
      "│   │   ├── (2080397) [StmtNode] OpExpr: int operator>>=(int, int)\n",
      "│   │   └── (2080407) [StmtNode] OpExpr: int operator++\n",
      "│   ├── (2080410) [StmtNode] LoopIter: LoopIter\n",
      "│   │   ├── (2080397) [StmtNode] OpExpr: int operator>>=(int, int)\n",
      "│   │   └── (2080407) [StmtNode] OpExpr: int operator++\n",
      "│   └── (2080410) [StmtNode] LoopIter: LoopIter\n",
      "│       ├── (2080397) [StmtNode] OpExpr: int operator>>=(int, int)\n",
      "│       └── (2080407) [StmtNode] OpExpr: int operator++\n",
      "└── (2080425) [StmtNode] ReturnStmt: return cnt\n",
      "\n",
      "(2080427) [CallNode] CalleeExpr: int demo::ShiftsToZero(int): (31)\n",
      "├── (2080414) [LoopNode] WhileStmt: while (n > 0)\n",
      "│   ├── (2080410) [StmtNode] LoopIter: LoopIter\n",
      "│   │   ├── (2080397) [StmtNode] OpExpr: int operator>>=(int, int)\n",
      "│   │   └── (2080407) [StmtNode] OpExpr: int operator++\n",
      "│   ├── (2080410) [StmtNode] LoopIter: LoopIter\n",
      "│   │   ├── (2080397) [StmtNode] OpExpr: int operator>>=(int, int)\n",
      "│   │   └── (2080407) [StmtNode] OpExpr: int operator++\n",
      "│   ├── (2080410) [StmtNode] LoopIter: LoopIter\n",
      "│   │   ├── (2080397) [StmtNode] OpExpr: int operator>>=(int, int)\n",
      "│   │   └── (2080407) [StmtNode] OpExpr: int operator++\n",
      "│   ├── (2080410) [StmtNode] LoopIter: LoopIter\n",
      "│   │   ├── (2080397) [StmtNode] OpExpr: int operator>>=(int, int)\n",
      "│   │   └── (2080407) [StmtNode] OpExpr: int operator++\n",
      "│   └── (2080410) [StmtNode] LoopIter: LoopIter\n",
      "│       ├── (2080397) [StmtNode] OpExpr: int operator>>=(int, int)\n",
      "│       └── (2080407) [StmtNode] OpExpr: int operator++\n",
      "└── (2080425) [StmtNode] ReturnStmt: return cnt\n",
      "\n",
      "(2080427) [CallNode] CalleeExpr: int demo::ShiftsToZero(int): (63)\n",
      "├── (2080414) [LoopNode] WhileStmt: while (n > 0)\n",
      "│   ├── (2080410) [StmtNode] LoopIter: LoopIter\n",
      "│   │   ├── (2080397) [StmtNode] OpExpr: int operator>>=(int, int)\n",
      "│   │   └── (2080407) [StmtNode] OpExpr: int operator++\n",
      "│   ├── (2080410) [StmtNode] LoopIter: LoopIter\n",
      "│   │   ├── (2080397) [StmtNode] OpExpr: int operator>>=(int, int)\n",
      "│   │   └── (2080407) [StmtNode] OpExpr: int operator++\n",
      "│   ├── (2080410) [StmtNode] LoopIter: LoopIter\n",
      "│   │   ├── (2080397) [StmtNode] OpExpr: int operator>>=(int, int)\n",
      "│   │   └── (2080407) [StmtNode] OpExpr: int operator++\n",
      "│   ├── (2080410) [StmtNode] LoopIter: LoopIter\n",
      "│   │   ├── (2080397) [StmtNode] OpExpr: int operator>>=(int, int)\n",
      "│   │   └── (2080407) [StmtNode] OpExpr: int operator++\n",
      "│   ├── (2080410) [StmtNode] LoopIter: LoopIter\n",
      "│   │   ├── (2080397) [StmtNode] OpExpr: int operator>>=(int, int)\n",
      "│   │   └── (2080407) [StmtNode] OpExpr: int operator++\n",
      "│   └── (2080410) [StmtNode] LoopIter: LoopIter\n",
      "│       ├── (2080397) [StmtNode] OpExpr: int operator>>=(int, int)\n",
      "│       └── (2080407) [StmtNode] OpExpr: int operator++\n",
      "└── (2080425) [StmtNode] ReturnStmt: return cnt\n",
      "\n",
      "(2080427) [CallNode] CalleeExpr: int demo::ShiftsToZero(int): (127)\n",
      "├── (2080414) [LoopNode] WhileStmt: while (n > 0)\n",
      "│   ├── (2080410) [StmtNode] LoopIter: LoopIter\n",
      "│   │   ├── (2080397) [StmtNode] OpExpr: int operator>>=(int, int)\n",
      "│   │   └── (2080407) [StmtNode] OpExpr: int operator++\n",
      "│   ├── (2080410) [StmtNode] LoopIter: LoopIter\n",
      "│   │   ├── (2080397) [StmtNode] OpExpr: int operator>>=(int, int)\n",
      "│   │   └── (2080407) [StmtNode] OpExpr: int operator++\n",
      "│   ├── (2080410) [StmtNode] LoopIter: LoopIter\n",
      "│   │   ├── (2080397) [StmtNode] OpExpr: int operator>>=(int, int)\n",
      "│   │   └── (2080407) [StmtNode] OpExpr: int operator++\n",
      "│   ├── (2080410) [StmtNode] LoopIter: LoopIter\n",
      "│   │   ├── (2080397) [StmtNode] OpExpr: int operator>>=(int, int)\n",
      "│   │   └── (2080407) [StmtNode] OpExpr: int operator++\n",
      "│   ├── (2080410) [StmtNode] LoopIter: LoopIter\n",
      "│   │   ├── (2080397) [StmtNode] OpExpr: int operator>>=(int, int)\n",
      "│   │   └── (2080407) [StmtNode] OpExpr: int operator++\n",
      "│   ├── (2080410) [StmtNode] LoopIter: LoopIter\n",
      "│   │   ├── (2080397) [StmtNode] OpExpr: int operator>>=(int, int)\n",
      "│   │   └── (2080407) [StmtNode] OpExpr: int operator++\n",
      "│   └── (2080410) [StmtNode] LoopIter: LoopIter\n",
      "│       ├── (2080397) [StmtNode] OpExpr: int operator>>=(int, int)\n",
      "│       └── (2080407) [StmtNode] OpExpr: int operator++\n",
      "└── (2080425) [StmtNode] ReturnStmt: return cnt\n",
      "\n"
     ]
    }
   ],
   "source": [
    "for tree in trees_subset:\n",
    "    for pre, _, node in anytree.RenderTree(tree.root):\n",
    "        print(f\"{pre}{to_simple_node_view(node)}\")\n",
    "    print()"
   ]
  },
  {
   "cell_type": "code",
   "execution_count": null,
   "id": "e0a04822",
   "metadata": {},
   "outputs": [],
   "source": []
  }
 ],
 "metadata": {
  "kernelspec": {
   "display_name": "Python 3 (ipykernel)",
   "language": "python",
   "name": "python3"
  },
  "language_info": {
   "codemirror_mode": {
    "name": "ipython",
    "version": 3
   },
   "file_extension": ".py",
   "mimetype": "text/x-python",
   "name": "python",
   "nbconvert_exporter": "python",
   "pygments_lexer": "ipython3",
   "version": "3.11.4"
  }
 },
 "nbformat": 4,
 "nbformat_minor": 5
}
