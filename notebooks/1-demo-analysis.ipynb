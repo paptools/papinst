{
 "cells": [
  {
   "cell_type": "markdown",
   "id": "db0d15f7",
   "metadata": {},
   "source": [
    "# Demo Analysis"
   ]
  },
  {
   "cell_type": "markdown",
   "id": "0701ed7b",
   "metadata": {},
   "source": [
    "## 1. Setup Workspace"
   ]
  },
  {
   "cell_type": "code",
   "execution_count": 1,
   "id": "ed777ad5",
   "metadata": {},
   "outputs": [],
   "source": [
    "import json\n",
    "import pathlib\n",
    "import copy\n",
    "import operator\n",
    "import pathlib\n",
    "import os\n",
    "\n",
    "import anytree\n",
    "import networkx as nx\n",
    "import sympy\n",
    "\n",
    "import paptree"
   ]
  },
  {
   "cell_type": "markdown",
   "id": "fc5383ce",
   "metadata": {},
   "source": [
    "## 2. Load Data"
   ]
  },
  {
   "cell_type": "code",
   "execution_count": 2,
   "id": "0d33d030",
   "metadata": {},
   "outputs": [
    {
     "name": "stdout",
     "output_type": "stream",
     "text": [
      "Unique iter blocks: [[264376, 264369, 264367]]\n",
      "\n",
      "LoopNode(desc='for (int i = 2; i <= std::sqrt(n); ++i)', iter_block=[CallNode(name=264314, params=[{'name': 'n', 'value': '4'}], sig='typename std::enable_if<std::is_integral<int>::value, double>::type sqrt(int)', type='CallerExpr'), StmtNode(desc='LoopIter', name=264376, type='LoopIter')], iter_count=1, name=264379, trailing_iter_block=None, type='ForStmt')\n",
      "├── CallNode(name=264314, params=[{'name': 'n', 'value': '4'}], sig='typename std::enable_if<std::is_integral<int>::value, double>::type sqrt(int)', type='CallerExpr')\n",
      "└── StmtNode(desc='LoopIter', name=264376, type='LoopIter')\n",
      "    └── StmtNode(desc='n % i == 0', name=264369, type='IfThenStmt')\n",
      "        └── StmtNode(desc='return false', name=264367, type='ReturnStmt')\n",
      "\n",
      "Unique iter blocks: [[264376, 264369, 264367]]\n",
      "\n",
      "LoopNode(desc='for (int i = 2; i <= std::sqrt(n); ++i)', iter_block=[CallNode(name=264314, params=[{'name': 'n', 'value': '6'}], sig='typename std::enable_if<std::is_integral<int>::value, double>::type sqrt(int)', type='CallerExpr'), StmtNode(desc='LoopIter', name=264376, type='LoopIter')], iter_count=1, name=264379, trailing_iter_block=None, type='ForStmt')\n",
      "├── CallNode(name=264314, params=[{'name': 'n', 'value': '6'}], sig='typename std::enable_if<std::is_integral<int>::value, double>::type sqrt(int)', type='CallerExpr')\n",
      "└── StmtNode(desc='LoopIter', name=264376, type='LoopIter')\n",
      "    └── StmtNode(desc='n % i == 0', name=264369, type='IfThenStmt')\n",
      "        └── StmtNode(desc='return false', name=264367, type='ReturnStmt')\n",
      "\n",
      "Unique iter blocks: [[264376], [264376, 264369, 264367]]\n",
      "\n",
      "LoopNode(desc='for (int i = 2; i <= std::sqrt(n); ++i)', iter_block=[CallNode(name=264314, params=[{'name': 'n', 'value': '9'}], sig='typename std::enable_if<std::is_integral<int>::value, double>::type sqrt(int)', type='CallerExpr'), StmtNode(desc='LoopIter', name=264376, type='LoopIter'), StmtNode(desc='int operator++', name=264336, type='OpExpr')], iter_count=1, name=264379, trailing_iter_block=[CallNode(name=264314, params=[{'name': 'n', 'value': '9'}], sig='typename std::enable_if<std::is_integral<int>::value, double>::type sqrt(int)', type='CallerExpr'), StmtNode(desc='LoopIter', name=264376, type='LoopIter')], type='ForStmt')\n",
      "├── CallNode(name=264314, params=[{'name': 'n', 'value': '9'}], sig='typename std::enable_if<std::is_integral<int>::value, double>::type sqrt(int)', type='CallerExpr')\n",
      "├── StmtNode(desc='LoopIter', name=264376, type='LoopIter')\n",
      "├── StmtNode(desc='int operator++', name=264336, type='OpExpr')\n",
      "├── CallNode(name=264314, params=[{'name': 'n', 'value': '9'}], sig='typename std::enable_if<std::is_integral<int>::value, double>::type sqrt(int)', type='CallerExpr')\n",
      "└── StmtNode(desc='LoopIter', name=264376, type='LoopIter')\n",
      "    └── StmtNode(desc='n % i == 0', name=264369, type='IfThenStmt')\n",
      "        └── StmtNode(desc='return false', name=264367, type='ReturnStmt')\n",
      "\n",
      "Unique iter blocks: [[264376], [264376, 264369, 264367]]\n",
      "\n",
      "LoopNode(desc='for (int i = 2; i <= std::sqrt(n); ++i)', iter_block=[CallNode(name=264314, params=[{'name': 'n', 'value': '25'}], sig='typename std::enable_if<std::is_integral<int>::value, double>::type sqrt(int)', type='CallerExpr'), StmtNode(desc='LoopIter', name=264376, type='LoopIter'), StmtNode(desc='int operator++', name=264336, type='OpExpr')], iter_count=3, name=264379, trailing_iter_block=[CallNode(name=264314, params=[{'name': 'n', 'value': '25'}], sig='typename std::enable_if<std::is_integral<int>::value, double>::type sqrt(int)', type='CallerExpr'), StmtNode(desc='LoopIter', name=264376, type='LoopIter')], type='ForStmt')\n",
      "├── CallNode(name=264314, params=[{'name': 'n', 'value': '25'}], sig='typename std::enable_if<std::is_integral<int>::value, double>::type sqrt(int)', type='CallerExpr')\n",
      "├── StmtNode(desc='LoopIter', name=264376, type='LoopIter')\n",
      "├── StmtNode(desc='int operator++', name=264336, type='OpExpr')\n",
      "├── CallNode(name=264314, params=[{'name': 'n', 'value': '25'}], sig='typename std::enable_if<std::is_integral<int>::value, double>::type sqrt(int)', type='CallerExpr')\n",
      "├── StmtNode(desc='LoopIter', name=264376, type='LoopIter')\n",
      "├── StmtNode(desc='int operator++', name=264336, type='OpExpr')\n",
      "├── CallNode(name=264314, params=[{'name': 'n', 'value': '25'}], sig='typename std::enable_if<std::is_integral<int>::value, double>::type sqrt(int)', type='CallerExpr')\n",
      "├── StmtNode(desc='LoopIter', name=264376, type='LoopIter')\n",
      "├── StmtNode(desc='int operator++', name=264336, type='OpExpr')\n",
      "├── CallNode(name=264314, params=[{'name': 'n', 'value': '25'}], sig='typename std::enable_if<std::is_integral<int>::value, double>::type sqrt(int)', type='CallerExpr')\n",
      "└── StmtNode(desc='LoopIter', name=264376, type='LoopIter')\n",
      "    └── StmtNode(desc='n % i == 0', name=264369, type='IfThenStmt')\n",
      "        └── StmtNode(desc='return false', name=264367, type='ReturnStmt')\n",
      "\n",
      "Unique iter blocks: [[264376], [264376, 264369, 264367]]\n",
      "\n",
      "LoopNode(desc='for (int i = 2; i <= std::sqrt(n); ++i)', iter_block=[CallNode(name=264314, params=[{'name': 'n', 'value': '57'}], sig='typename std::enable_if<std::is_integral<int>::value, double>::type sqrt(int)', type='CallerExpr'), StmtNode(desc='LoopIter', name=264376, type='LoopIter'), StmtNode(desc='int operator++', name=264336, type='OpExpr')], iter_count=1, name=264379, trailing_iter_block=[CallNode(name=264314, params=[{'name': 'n', 'value': '57'}], sig='typename std::enable_if<std::is_integral<int>::value, double>::type sqrt(int)', type='CallerExpr'), StmtNode(desc='LoopIter', name=264376, type='LoopIter')], type='ForStmt')\n",
      "├── CallNode(name=264314, params=[{'name': 'n', 'value': '57'}], sig='typename std::enable_if<std::is_integral<int>::value, double>::type sqrt(int)', type='CallerExpr')\n",
      "├── StmtNode(desc='LoopIter', name=264376, type='LoopIter')\n",
      "├── StmtNode(desc='int operator++', name=264336, type='OpExpr')\n",
      "├── CallNode(name=264314, params=[{'name': 'n', 'value': '57'}], sig='typename std::enable_if<std::is_integral<int>::value, double>::type sqrt(int)', type='CallerExpr')\n",
      "└── StmtNode(desc='LoopIter', name=264376, type='LoopIter')\n",
      "    └── StmtNode(desc='n % i == 0', name=264369, type='IfThenStmt')\n",
      "        └── StmtNode(desc='return false', name=264367, type='ReturnStmt')\n",
      "\n",
      "Unique iter blocks: [[264376], [264376, 264369, 264367]]\n",
      "\n",
      "LoopNode(desc='for (int i = 2; i <= std::sqrt(n); ++i)', iter_block=[CallNode(name=264314, params=[{'name': 'n', 'value': '91'}], sig='typename std::enable_if<std::is_integral<int>::value, double>::type sqrt(int)', type='CallerExpr'), StmtNode(desc='LoopIter', name=264376, type='LoopIter'), StmtNode(desc='int operator++', name=264336, type='OpExpr')], iter_count=5, name=264379, trailing_iter_block=[CallNode(name=264314, params=[{'name': 'n', 'value': '91'}], sig='typename std::enable_if<std::is_integral<int>::value, double>::type sqrt(int)', type='CallerExpr'), StmtNode(desc='LoopIter', name=264376, type='LoopIter')], type='ForStmt')\n",
      "├── CallNode(name=264314, params=[{'name': 'n', 'value': '91'}], sig='typename std::enable_if<std::is_integral<int>::value, double>::type sqrt(int)', type='CallerExpr')\n",
      "├── StmtNode(desc='LoopIter', name=264376, type='LoopIter')\n",
      "├── StmtNode(desc='int operator++', name=264336, type='OpExpr')\n",
      "├── CallNode(name=264314, params=[{'name': 'n', 'value': '91'}], sig='typename std::enable_if<std::is_integral<int>::value, double>::type sqrt(int)', type='CallerExpr')\n",
      "├── StmtNode(desc='LoopIter', name=264376, type='LoopIter')\n",
      "├── StmtNode(desc='int operator++', name=264336, type='OpExpr')\n",
      "├── CallNode(name=264314, params=[{'name': 'n', 'value': '91'}], sig='typename std::enable_if<std::is_integral<int>::value, double>::type sqrt(int)', type='CallerExpr')\n",
      "├── StmtNode(desc='LoopIter', name=264376, type='LoopIter')\n",
      "├── StmtNode(desc='int operator++', name=264336, type='OpExpr')\n",
      "├── CallNode(name=264314, params=[{'name': 'n', 'value': '91'}], sig='typename std::enable_if<std::is_integral<int>::value, double>::type sqrt(int)', type='CallerExpr')\n",
      "├── StmtNode(desc='LoopIter', name=264376, type='LoopIter')\n",
      "├── StmtNode(desc='int operator++', name=264336, type='OpExpr')\n",
      "├── CallNode(name=264314, params=[{'name': 'n', 'value': '91'}], sig='typename std::enable_if<std::is_integral<int>::value, double>::type sqrt(int)', type='CallerExpr')\n",
      "├── StmtNode(desc='LoopIter', name=264376, type='LoopIter')\n",
      "├── StmtNode(desc='int operator++', name=264336, type='OpExpr')\n",
      "├── CallNode(name=264314, params=[{'name': 'n', 'value': '91'}], sig='typename std::enable_if<std::is_integral<int>::value, double>::type sqrt(int)', type='CallerExpr')\n",
      "└── StmtNode(desc='LoopIter', name=264376, type='LoopIter')\n",
      "    └── StmtNode(desc='n % i == 0', name=264369, type='IfThenStmt')\n",
      "        └── StmtNode(desc='return false', name=264367, type='ReturnStmt')\n",
      "\n",
      "Loaded 23 traces.\n"
     ]
    }
   ],
   "source": [
    "data_dir = pathlib.Path.cwd().parent / \"experiments/demo/data\"\n",
    "raw_data_dir = data_dir / \"raw\"\n",
    "trace_file = raw_data_dir / \"paptrace.darwin-arm64-clang.json\"\n",
    "trees = paptree.utils.from_file(trace_file)\n",
    "print(f\"Loaded {len(trees)} traces.\")"
   ]
  },
  {
   "cell_type": "code",
   "execution_count": 3,
   "id": "e1150cb6",
   "metadata": {},
   "outputs": [
    {
     "name": "stdout",
     "output_type": "stream",
     "text": [
      "Loaded 1 known expressions.\n",
      "{\n",
      "  \"int operator*=(int, int)\": \"C_OP_MUL_ASSIGN_INT_INT\"\n",
      "}\n"
     ]
    }
   ],
   "source": [
    "known_file = raw_data_dir / \"known_exprs.json\"\n",
    "with open(known_file, \"r\") as f_in:\n",
    "    known_exprs = json.loads(f_in.read())\n",
    "print(f\"Loaded {len(known_exprs)} known expressions.\")\n",
    "print(json.dumps(known_exprs, indent=2))"
   ]
  },
  {
   "cell_type": "markdown",
   "id": "a5669e89",
   "metadata": {},
   "source": [
    "## 3. Node Summary"
   ]
  },
  {
   "cell_type": "markdown",
   "id": "ffacef55",
   "metadata": {},
   "source": [
    "### 3.1. Unfiltered Nodes"
   ]
  },
  {
   "cell_type": "code",
   "execution_count": 4,
   "id": "6a942ff4",
   "metadata": {},
   "outputs": [
    {
     "name": "stdout",
     "output_type": "stream",
     "text": [
      "Node count: 232\n"
     ]
    }
   ],
   "source": [
    "nodes = []\n",
    "for tree in trees:\n",
    "    nodes.extend(anytree.PreOrderIter(tree.root))\n",
    "print(f\"Node count: {len(nodes)}\")"
   ]
  },
  {
   "cell_type": "code",
   "execution_count": 5,
   "id": "66299809",
   "metadata": {},
   "outputs": [
    {
     "name": "stdout",
     "output_type": "stream",
     "text": [
      "Node type count: 7\n"
     ]
    }
   ],
   "source": [
    "node_types = {}\n",
    "for node in nodes:\n",
    "    node_types.setdefault(node.type, []).append(node)\n",
    "print(f\"Node type count: {len(node_types)}\")"
   ]
  },
  {
   "cell_type": "code",
   "execution_count": 6,
   "id": "225439fe",
   "metadata": {},
   "outputs": [
    {
     "name": "stdout",
     "output_type": "stream",
     "text": [
      "Nodes per type:\n",
      "- CalleeExpr: 23\n",
      "- ReturnStmt: 23\n",
      "- IfThenStmt: 9\n",
      "- ForStmt: 12\n",
      "- LoopIter: 57\n",
      "- OpExpr: 92\n",
      "- CallerExpr: 16\n"
     ]
    }
   ],
   "source": [
    "print(\"Nodes per type:\")\n",
    "for k, v in node_types.items():\n",
    "    print(f\"- {k}: {len(v)}\")"
   ]
  },
  {
   "cell_type": "markdown",
   "id": "48306b46",
   "metadata": {},
   "source": [
    "### 3.2. Unique Nodes"
   ]
  },
  {
   "cell_type": "code",
   "execution_count": 7,
   "id": "b199301c",
   "metadata": {},
   "outputs": [
    {
     "name": "stdout",
     "output_type": "stream",
     "text": [
      "Unique node count: 54\n"
     ]
    }
   ],
   "source": [
    "unique_nodes = []\n",
    "for node in nodes:\n",
    "    if node not in unique_nodes:\n",
    "        unique_nodes.append(node)\n",
    "print(f\"Unique node count: {len(unique_nodes)}\")"
   ]
  },
  {
   "cell_type": "code",
   "execution_count": 8,
   "id": "f5eabe14",
   "metadata": {},
   "outputs": [
    {
     "name": "stdout",
     "output_type": "stream",
     "text": [
      "Node type count: 7\n"
     ]
    }
   ],
   "source": [
    "# We expect this count to match the unfiltered node type count.\n",
    "unique_node_types = {}\n",
    "for node in unique_nodes:\n",
    "    unique_node_types.setdefault(node.type, []).append(node)\n",
    "print(f\"Node type count: {len(unique_node_types)}\")"
   ]
  },
  {
   "cell_type": "code",
   "execution_count": 9,
   "id": "c0c2bbbc",
   "metadata": {},
   "outputs": [
    {
     "name": "stdout",
     "output_type": "stream",
     "text": [
      "Nodes per type:\n",
      "- CalleeExpr: 23\n",
      "- ReturnStmt: 5\n",
      "- IfThenStmt: 3\n",
      "- ForStmt: 12\n",
      "- LoopIter: 2\n",
      "- OpExpr: 3\n",
      "- CallerExpr: 6\n"
     ]
    }
   ],
   "source": [
    "print(\"Nodes per type:\")\n",
    "for k, v in unique_node_types.items():\n",
    "    print(f\"- {k}: {len(v)}\")"
   ]
  },
  {
   "cell_type": "markdown",
   "id": "3b647377",
   "metadata": {},
   "source": [
    "## 4. Trace Summary"
   ]
  },
  {
   "cell_type": "code",
   "execution_count": 10,
   "id": "d93d104c",
   "metadata": {},
   "outputs": [
    {
     "name": "stdout",
     "output_type": "stream",
     "text": [
      "Trace entry point count: 3\n"
     ]
    }
   ],
   "source": [
    "binned_trees = {}\n",
    "for tree in trees:\n",
    "    binned_trees.setdefault(tree.root.sig, []).append(tree)\n",
    "print(f\"Trace entry point count: {len(binned_trees)}\")"
   ]
  },
  {
   "cell_type": "code",
   "execution_count": 11,
   "id": "59994aa3",
   "metadata": {},
   "outputs": [
    {
     "name": "stdout",
     "output_type": "stream",
     "text": [
      "Traces per entry point:\n",
      "- _Bool demo::IsEven(int): 8\n",
      "- int demo::Factorial(int): 8\n",
      "- _Bool demo::IsPrime(int): 7\n"
     ]
    }
   ],
   "source": [
    "print(\"Traces per entry point:\")\n",
    "for k, v in binned_trees.items():\n",
    "    print(f\"- {k}: {len(v)}\")"
   ]
  },
  {
   "cell_type": "markdown",
   "id": "9b934807",
   "metadata": {},
   "source": [
    "## 5. Trace Analysis"
   ]
  },
  {
   "cell_type": "markdown",
   "id": "0bf8b5cd",
   "metadata": {},
   "source": [
    "### 5.1. IsEven"
   ]
  },
  {
   "cell_type": "code",
   "execution_count": 12,
   "id": "c0bc275d",
   "metadata": {},
   "outputs": [
    {
     "name": "stdout",
     "output_type": "stream",
     "text": [
      "(263487) [CallNode] CalleeExpr: _Bool demo::IsEven(int): (0)\n",
      "└── (263485) [StmtNode] ReturnStmt: return value % 2 == 0\n",
      "\n",
      "(263487) [CallNode] CalleeExpr: _Bool demo::IsEven(int): (2)\n",
      "└── (263485) [StmtNode] ReturnStmt: return value % 2 == 0\n",
      "\n",
      "(263487) [CallNode] CalleeExpr: _Bool demo::IsEven(int): (4)\n",
      "└── (263485) [StmtNode] ReturnStmt: return value % 2 == 0\n",
      "\n"
     ]
    }
   ],
   "source": [
    "trees_subset = binned_trees[\"_Bool demo::IsEven(int)\"]\n",
    "\n",
    "def to_params_str(params):\n",
    "    #return \", \".join([f\"{param['name']}={param['value']}\" for param in params])\n",
    "    return \", \".join([f\"{param['value']}\" for param in params])\n",
    "\n",
    "def to_call_str(node):\n",
    "    return f\"{node.sig}: ({to_params_str(node.params)})\"\n",
    "\n",
    "def to_simple_node_view(node):\n",
    "    sym = \"sym @ \" if hasattr(node, \"target\") else \"\"\n",
    "    if node.is_call_node():\n",
    "        node_type = type(node).__name__\n",
    "        desc = f\"{node.type}: {to_call_str(node)}\"\n",
    "    else:\n",
    "        node_type = type(node).__name__\n",
    "        desc = f\"{node.type}: {node.desc}\"\n",
    "    return f\"({sym}{node.name}) [{node_type}] {desc}\"\n",
    "\n",
    "for tree in operator.itemgetter(0, 1, 2)(trees_subset):\n",
    "    for pre, _, node in anytree.RenderTree(tree.root):\n",
    "        print(f\"{pre}{to_simple_node_view(node)}\")\n",
    "    print()"
   ]
  },
  {
   "cell_type": "code",
   "execution_count": 13,
   "id": "bab2d97c",
   "metadata": {},
   "outputs": [
    {
     "name": "stdout",
     "output_type": "stream",
     "text": [
      "Path summary:\n",
      "- _Bool demo::IsEven(int): 1 paths\n",
      "  - [path_0] (263485,): 8 traces\n",
      "\n",
      "Finding general expr. for: _Bool demo::IsEven(int): (0)\n",
      "  Path is constant.\n",
      "  Found expr.: C_263487\n",
      "\n",
      "Results:\n",
      "{\n",
      "  \"sigs\": {\n",
      "    \"_Bool demo::IsEven(int)\": \"sig_0\"\n",
      "  },\n",
      "  \"ctxs\": {\n",
      "    \"sig_0\": {\n",
      "      \"0\": \"path_0\",\n",
      "      \"2\": \"path_0\",\n",
      "      \"4\": \"path_0\",\n",
      "      \"1\": \"path_0\",\n",
      "      \"3\": \"path_0\",\n",
      "      \"5\": \"path_0\",\n",
      "      \"-2147483648\": \"path_0\",\n",
      "      \"2147483647\": \"path_0\"\n",
      "    }\n",
      "  },\n",
      "  \"exprs\": {\n",
      "    \"sig_0\": {\n",
      "      \"path_0\": \"Symbol('C_263487')\"\n",
      "    }\n",
      "  }\n",
      "}\n"
     ]
    }
   ],
   "source": [
    "results = paptree.analyze.analyze(known_exprs, trees_subset)\n",
    "print(\"\\nResults:\")\n",
    "print(json.dumps(results, indent=2))"
   ]
  },
  {
   "cell_type": "markdown",
   "id": "659cccb7",
   "metadata": {},
   "source": [
    "### 5.2. Factorial"
   ]
  },
  {
   "cell_type": "code",
   "execution_count": 14,
   "id": "8bf982e7",
   "metadata": {},
   "outputs": [
    {
     "name": "stdout",
     "output_type": "stream",
     "text": [
      "(263691) [CallNode] CalleeExpr: int demo::Factorial(int): (-1)\n",
      "└── (263577) [StmtNode] IfThenStmt: value < 0 || value > 31\n",
      "    └── (263575) [StmtNode] ReturnStmt: return -1\n",
      "\n",
      "(263691) [CallNode] CalleeExpr: int demo::Factorial(int): (0)\n",
      "├── (263675) [LoopNode] ForStmt: for (int i = 1; i <= value; ++i)\n",
      "└── (263689) [StmtNode] ReturnStmt: return result\n",
      "\n",
      "(263691) [CallNode] CalleeExpr: int demo::Factorial(int): (1)\n",
      "├── (263675) [LoopNode] ForStmt: for (int i = 1; i <= value; ++i)\n",
      "│   ├── (263672) [StmtNode] LoopIter: LoopIter\n",
      "│   │   └── (263666) [StmtNode] OpExpr: int operator*=(int, int)\n",
      "│   └── (263652) [StmtNode] OpExpr: int operator++\n",
      "└── (263689) [StmtNode] ReturnStmt: return result\n",
      "\n",
      "(263691) [CallNode] CalleeExpr: int demo::Factorial(int): (2)\n",
      "├── (263675) [LoopNode] ForStmt: for (int i = 1; i <= value; ++i)\n",
      "│   ├── (263672) [StmtNode] LoopIter: LoopIter\n",
      "│   │   └── (263666) [StmtNode] OpExpr: int operator*=(int, int)\n",
      "│   ├── (263652) [StmtNode] OpExpr: int operator++\n",
      "│   ├── (263672) [StmtNode] LoopIter: LoopIter\n",
      "│   │   └── (263666) [StmtNode] OpExpr: int operator*=(int, int)\n",
      "│   └── (263652) [StmtNode] OpExpr: int operator++\n",
      "└── (263689) [StmtNode] ReturnStmt: return result\n",
      "\n"
     ]
    }
   ],
   "source": [
    "trees_subset = binned_trees[\"int demo::Factorial(int)\"]\n",
    "for tree in operator.itemgetter(0, 2, 3, 4)(trees_subset):\n",
    "    for pre, _, node in anytree.RenderTree(tree.root):\n",
    "        print(f\"{pre}{to_simple_node_view(node)}\")\n",
    "    print()"
   ]
  },
  {
   "cell_type": "code",
   "execution_count": 15,
   "id": "0d34a7cb",
   "metadata": {},
   "outputs": [
    {
     "name": "stdout",
     "output_type": "stream",
     "text": [
      "Path summary:\n",
      "- int demo::Factorial(int): 3 paths\n",
      "  - [path_0] (263577, 263575): 2 traces\n",
      "  - [path_1] (263675, 263689): 1 traces\n",
      "  - [path_2] (263675, 263672, 263689): 5 traces\n",
      "\n",
      "Finding general expr. for: int demo::Factorial(int): (0)\n",
      "  Path is constant.\n",
      "  Found expr.: C_263691\n",
      "\n",
      "Finding general expr. for: int demo::Factorial(int): (1)\n",
      "  Path is constant.\n",
      "  Found expr.: C_263691\n",
      "\n",
      "Finding general expr. for: int demo::Factorial(int): (2)\n",
      "  Solving for loop expr for node: 263675\n",
      "    Setting loop expr for 5358415184 to sqrt(X0**2)\n",
      "  Found expr.: C_263691 + (C_OP_MUL_ASSIGN_INT_INT + T_263652)*sqrt(X0**2)\n",
      "\n",
      "Results:\n",
      "{\n",
      "  \"sigs\": {\n",
      "    \"int demo::Factorial(int)\": \"sig_0\"\n",
      "  },\n",
      "  \"ctxs\": {\n",
      "    \"sig_0\": {\n",
      "      \"-1\": \"path_0\",\n",
      "      \"32\": \"path_0\",\n",
      "      \"0\": \"path_1\",\n",
      "      \"1\": \"path_2\",\n",
      "      \"2\": \"path_2\",\n",
      "      \"3\": \"path_2\",\n",
      "      \"4\": \"path_2\",\n",
      "      \"31\": \"path_2\"\n",
      "    }\n",
      "  },\n",
      "  \"exprs\": {\n",
      "    \"sig_0\": {\n",
      "      \"path_0\": \"Symbol('C_263691')\",\n",
      "      \"path_1\": \"Symbol('C_263691')\",\n",
      "      \"path_2\": \"Add(Symbol('C_263691'), Mul(Add(Symbol('C_OP_MUL_ASSIGN_INT_INT'), Symbol('T_263652')), Pow(Pow(Symbol('X0'), Integer(2)), Rational(1, 2))))\"\n",
      "    }\n",
      "  }\n",
      "}\n"
     ]
    }
   ],
   "source": [
    "results = paptree.analyze.analyze(known_exprs, trees_subset)\n",
    "print(\"\\nResults:\")\n",
    "print(json.dumps(results, indent=2))"
   ]
  },
  {
   "cell_type": "markdown",
   "id": "daeff85c",
   "metadata": {},
   "source": [
    "### 5.3. IsPrime"
   ]
  },
  {
   "cell_type": "code",
   "execution_count": 16,
   "id": "f71c36b9",
   "metadata": {},
   "outputs": [
    {
     "name": "stdout",
     "output_type": "stream",
     "text": [
      "Getting cf nodes for CallNode(name=264314, params=[{'name': 'n', 'value': '4'}], sig='typename std::enable_if<std::is_integral<int>::value, double>::type sqrt(int)', type='CallerExpr')\n",
      "Getting cf nodes for StmtNode(desc='LoopIter', name=264376, type='LoopIter')\n",
      "\n",
      "Getting cf nodes for CallNode(name=264314, params=[{'name': 'n', 'value': '6'}], sig='typename std::enable_if<std::is_integral<int>::value, double>::type sqrt(int)', type='CallerExpr')\n",
      "Getting cf nodes for StmtNode(desc='LoopIter', name=264376, type='LoopIter')\n",
      "\n",
      "Getting cf nodes for CallNode(name=264314, params=[{'name': 'n', 'value': '9'}], sig='typename std::enable_if<std::is_integral<int>::value, double>::type sqrt(int)', type='CallerExpr')\n",
      "Getting cf nodes for StmtNode(desc='LoopIter', name=264376, type='LoopIter')\n",
      "Getting cf nodes for StmtNode(desc='int operator++', name=264336, type='OpExpr')\n",
      "\n",
      "Getting cf nodes for CallNode(name=264314, params=[{'name': 'n', 'value': '25'}], sig='typename std::enable_if<std::is_integral<int>::value, double>::type sqrt(int)', type='CallerExpr')\n",
      "Getting cf nodes for StmtNode(desc='LoopIter', name=264376, type='LoopIter')\n",
      "Getting cf nodes for StmtNode(desc='int operator++', name=264336, type='OpExpr')\n",
      "\n",
      "Getting cf nodes for CallNode(name=264314, params=[{'name': 'n', 'value': '57'}], sig='typename std::enable_if<std::is_integral<int>::value, double>::type sqrt(int)', type='CallerExpr')\n",
      "Getting cf nodes for StmtNode(desc='LoopIter', name=264376, type='LoopIter')\n",
      "Getting cf nodes for StmtNode(desc='int operator++', name=264336, type='OpExpr')\n",
      "\n",
      "Getting cf nodes for CallNode(name=264314, params=[{'name': 'n', 'value': '91'}], sig='typename std::enable_if<std::is_integral<int>::value, double>::type sqrt(int)', type='CallerExpr')\n",
      "Getting cf nodes for StmtNode(desc='LoopIter', name=264376, type='LoopIter')\n",
      "Getting cf nodes for StmtNode(desc='int operator++', name=264336, type='OpExpr')\n",
      "\n",
      "Path summary:\n",
      "- _Bool demo::IsPrime(int): 3 paths\n",
      "  - [path_0] (263759, 263757): 1 traces\n",
      "  - [path_1] (264379, 264376, 264369, 264367): 2 traces\n",
      "  - [path_2] (264379, 264376, 264376, 264369, 264367): 4 traces\n",
      "\n",
      "Finding general expr. for: _Bool demo::IsPrime(int): (0)\n",
      "  Path is constant.\n",
      "  Found expr.: C_264390\n",
      "\n",
      "Finding general expr. for: _Bool demo::IsPrime(int): (1)\n",
      "  Solving for loop expr for node: 264379\n",
      "    Setting loop expr for 5358493776 to log(sqrt(log(X0) - 0.898942093539542)*sqrt(X0**2)*log(X0)*log(X0**(1/4) + 0.333*X0**(3/2))) - log(2)\n",
      "  Found expr.: C_264390 + T_264314*(log(sqrt(log(X0) - 0.898942093539542)*sqrt(X0**2)*log(X0)*log(X0**(1/4) + 0.333*X0**(3/2))) - log(2))\n",
      "\n",
      "Finding general expr. for: _Bool demo::IsPrime(int): (2)\n",
      "  Solving for loop expr for node: 264379\n",
      "    Setting loop expr for 5358496016 to log(X0) - 0.228156093137754\n",
      "  Found expr.: C_264390 + T_264314 + (T_264314 + T_264336)*(log(X0) - 0.228156093137754)\n",
      "\n",
      "Results:\n",
      "{\n",
      "  \"sigs\": {\n",
      "    \"_Bool demo::IsPrime(int)\": \"sig_0\"\n",
      "  },\n",
      "  \"ctxs\": {\n",
      "    \"sig_0\": {\n",
      "      \"1\": \"path_0\",\n",
      "      \"4\": \"path_1\",\n",
      "      \"6\": \"path_1\",\n",
      "      \"9\": \"path_2\",\n",
      "      \"25\": \"path_2\",\n",
      "      \"57\": \"path_2\",\n",
      "      \"91\": \"path_2\"\n",
      "    }\n",
      "  },\n",
      "  \"exprs\": {\n",
      "    \"sig_0\": {\n",
      "      \"path_0\": \"Symbol('C_264390')\",\n",
      "      \"path_1\": \"Add(Symbol('C_264390'), Mul(Symbol('T_264314'), Add(log(Mul(Pow(Add(log(Symbol('X0')), Float('-0.89894209353954213', precision=53)), Rational(1, 2)), Pow(Pow(Symbol('X0'), Integer(2)), Rational(1, 2)), log(Symbol('X0')), log(Add(Pow(Symbol('X0'), Rational(1, 4)), Mul(Float('0.33300000000000002', precision=53), Pow(Symbol('X0'), Rational(3, 2))))))), Mul(Integer(-1), log(Integer(2))))))\",\n",
      "      \"path_2\": \"Add(Symbol('C_264390'), Symbol('T_264314'), Mul(Add(Symbol('T_264314'), Symbol('T_264336')), Add(log(Symbol('X0')), Float('-0.22815609313775398', precision=53))))\"\n",
      "    }\n",
      "  }\n",
      "}\n"
     ]
    }
   ],
   "source": [
    "trees_subset = binned_trees[\"_Bool demo::IsPrime(int)\"]\n",
    "results = paptree.analyze.analyze(known_exprs, trees_subset)\n",
    "print(\"\\nResults:\")\n",
    "print(json.dumps(results, indent=2))"
   ]
  },
  {
   "cell_type": "code",
   "execution_count": 17,
   "id": "4fe8a457",
   "metadata": {},
   "outputs": [
    {
     "name": "stdout",
     "output_type": "stream",
     "text": [
      "(264390) [CallNode] CalleeExpr: _Bool demo::IsPrime(int): (1)\n",
      "└── (263759) [StmtNode] IfThenStmt: n <= 1\n",
      "    └── (263757) [StmtNode] ReturnStmt: return false\n",
      "\n",
      "(264390) [CallNode] CalleeExpr: _Bool demo::IsPrime(int): (4)\n",
      "└── (264379) [LoopNode] ForStmt: for (int i = 2; i <= std::sqrt(n); ++i)\n",
      "    ├── (264314) [CallNode] CallerExpr: typename std::enable_if<std::is_integral<int>::value, double>::type sqrt(int): (4)\n",
      "    └── (264376) [StmtNode] LoopIter: LoopIter\n",
      "        └── (264369) [StmtNode] IfThenStmt: n % i == 0\n",
      "            └── (264367) [StmtNode] ReturnStmt: return false\n",
      "\n"
     ]
    }
   ],
   "source": [
    "# Path 0\n",
    "for tree in operator.itemgetter(0, 1)(trees_subset):\n",
    "    for pre, _, node in anytree.RenderTree(tree.root):\n",
    "        print(f\"{pre}{to_simple_node_view(node)}\")\n",
    "    print()"
   ]
  },
  {
   "cell_type": "code",
   "execution_count": 18,
   "id": "918d9f99",
   "metadata": {},
   "outputs": [
    {
     "name": "stdout",
     "output_type": "stream",
     "text": [
      "(264390) [CallNode] CalleeExpr: _Bool demo::IsPrime(int): (6)\n",
      "└── (264379) [LoopNode] ForStmt: for (int i = 2; i <= std::sqrt(n); ++i)\n",
      "    ├── (264314) [CallNode] CallerExpr: typename std::enable_if<std::is_integral<int>::value, double>::type sqrt(int): (6)\n",
      "    └── (264376) [StmtNode] LoopIter: LoopIter\n",
      "        └── (264369) [StmtNode] IfThenStmt: n % i == 0\n",
      "            └── (264367) [StmtNode] ReturnStmt: return false\n",
      "\n",
      "(264390) [CallNode] CalleeExpr: _Bool demo::IsPrime(int): (9)\n",
      "└── (264379) [LoopNode] ForStmt: for (int i = 2; i <= std::sqrt(n); ++i)\n",
      "    ├── (264314) [CallNode] CallerExpr: typename std::enable_if<std::is_integral<int>::value, double>::type sqrt(int): (9)\n",
      "    ├── (264376) [StmtNode] LoopIter: LoopIter\n",
      "    ├── (264336) [StmtNode] OpExpr: int operator++\n",
      "    ├── (264314) [CallNode] CallerExpr: typename std::enable_if<std::is_integral<int>::value, double>::type sqrt(int): (9)\n",
      "    └── (264376) [StmtNode] LoopIter: LoopIter\n",
      "        └── (264369) [StmtNode] IfThenStmt: n % i == 0\n",
      "            └── (264367) [StmtNode] ReturnStmt: return false\n",
      "\n",
      "(264390) [CallNode] CalleeExpr: _Bool demo::IsPrime(int): (25)\n",
      "└── (264379) [LoopNode] ForStmt: for (int i = 2; i <= std::sqrt(n); ++i)\n",
      "    ├── (264314) [CallNode] CallerExpr: typename std::enable_if<std::is_integral<int>::value, double>::type sqrt(int): (25)\n",
      "    ├── (264376) [StmtNode] LoopIter: LoopIter\n",
      "    ├── (264336) [StmtNode] OpExpr: int operator++\n",
      "    ├── (264314) [CallNode] CallerExpr: typename std::enable_if<std::is_integral<int>::value, double>::type sqrt(int): (25)\n",
      "    ├── (264376) [StmtNode] LoopIter: LoopIter\n",
      "    ├── (264336) [StmtNode] OpExpr: int operator++\n",
      "    ├── (264314) [CallNode] CallerExpr: typename std::enable_if<std::is_integral<int>::value, double>::type sqrt(int): (25)\n",
      "    ├── (264376) [StmtNode] LoopIter: LoopIter\n",
      "    ├── (264336) [StmtNode] OpExpr: int operator++\n",
      "    ├── (264314) [CallNode] CallerExpr: typename std::enable_if<std::is_integral<int>::value, double>::type sqrt(int): (25)\n",
      "    └── (264376) [StmtNode] LoopIter: LoopIter\n",
      "        └── (264369) [StmtNode] IfThenStmt: n % i == 0\n",
      "            └── (264367) [StmtNode] ReturnStmt: return false\n",
      "\n"
     ]
    }
   ],
   "source": [
    "# Path 1\n",
    "for tree in operator.itemgetter(2, 3, 4)(trees_subset):\n",
    "    for pre, _, node in anytree.RenderTree(tree.root):\n",
    "        print(f\"{pre}{to_simple_node_view(node)}\")\n",
    "    print()"
   ]
  },
  {
   "cell_type": "code",
   "execution_count": 19,
   "id": "0c02bc34",
   "metadata": {},
   "outputs": [
    {
     "name": "stdout",
     "output_type": "stream",
     "text": [
      "(264390) [CallNode] CalleeExpr: _Bool demo::IsPrime(int): (57)\n",
      "└── (264379) [LoopNode] ForStmt: for (int i = 2; i <= std::sqrt(n); ++i)\n",
      "    ├── (264314) [CallNode] CallerExpr: typename std::enable_if<std::is_integral<int>::value, double>::type sqrt(int): (57)\n",
      "    ├── (264376) [StmtNode] LoopIter: LoopIter\n",
      "    ├── (264336) [StmtNode] OpExpr: int operator++\n",
      "    ├── (264314) [CallNode] CallerExpr: typename std::enable_if<std::is_integral<int>::value, double>::type sqrt(int): (57)\n",
      "    └── (264376) [StmtNode] LoopIter: LoopIter\n",
      "        └── (264369) [StmtNode] IfThenStmt: n % i == 0\n",
      "            └── (264367) [StmtNode] ReturnStmt: return false\n",
      "\n",
      "(264390) [CallNode] CalleeExpr: _Bool demo::IsPrime(int): (91)\n",
      "└── (264379) [LoopNode] ForStmt: for (int i = 2; i <= std::sqrt(n); ++i)\n",
      "    ├── (264314) [CallNode] CallerExpr: typename std::enable_if<std::is_integral<int>::value, double>::type sqrt(int): (91)\n",
      "    ├── (264376) [StmtNode] LoopIter: LoopIter\n",
      "    ├── (264336) [StmtNode] OpExpr: int operator++\n",
      "    ├── (264314) [CallNode] CallerExpr: typename std::enable_if<std::is_integral<int>::value, double>::type sqrt(int): (91)\n",
      "    ├── (264376) [StmtNode] LoopIter: LoopIter\n",
      "    ├── (264336) [StmtNode] OpExpr: int operator++\n",
      "    ├── (264314) [CallNode] CallerExpr: typename std::enable_if<std::is_integral<int>::value, double>::type sqrt(int): (91)\n",
      "    ├── (264376) [StmtNode] LoopIter: LoopIter\n",
      "    ├── (264336) [StmtNode] OpExpr: int operator++\n",
      "    ├── (264314) [CallNode] CallerExpr: typename std::enable_if<std::is_integral<int>::value, double>::type sqrt(int): (91)\n",
      "    ├── (264376) [StmtNode] LoopIter: LoopIter\n",
      "    ├── (264336) [StmtNode] OpExpr: int operator++\n",
      "    ├── (264314) [CallNode] CallerExpr: typename std::enable_if<std::is_integral<int>::value, double>::type sqrt(int): (91)\n",
      "    ├── (264376) [StmtNode] LoopIter: LoopIter\n",
      "    ├── (264336) [StmtNode] OpExpr: int operator++\n",
      "    ├── (264314) [CallNode] CallerExpr: typename std::enable_if<std::is_integral<int>::value, double>::type sqrt(int): (91)\n",
      "    └── (264376) [StmtNode] LoopIter: LoopIter\n",
      "        └── (264369) [StmtNode] IfThenStmt: n % i == 0\n",
      "            └── (264367) [StmtNode] ReturnStmt: return false\n",
      "\n"
     ]
    }
   ],
   "source": [
    "# Path 2\n",
    "for tree in operator.itemgetter(5, 6)(trees_subset):\n",
    "    for pre, _, node in anytree.RenderTree(tree.root):\n",
    "        print(f\"{pre}{to_simple_node_view(node)}\")\n",
    "    print()"
   ]
  },
  {
   "cell_type": "code",
   "execution_count": 20,
   "id": "9c19e6ac",
   "metadata": {},
   "outputs": [
    {
     "ename": "IndexError",
     "evalue": "list index out of range",
     "output_type": "error",
     "traceback": [
      "\u001b[0;31m---------------------------------------------------------------------------\u001b[0m",
      "\u001b[0;31mIndexError\u001b[0m                                Traceback (most recent call last)",
      "Cell \u001b[0;32mIn[20], line 2\u001b[0m\n\u001b[1;32m      1\u001b[0m \u001b[38;5;66;03m# Path 3\u001b[39;00m\n\u001b[0;32m----> 2\u001b[0m \u001b[38;5;28;01mfor\u001b[39;00m tree \u001b[38;5;129;01min\u001b[39;00m \u001b[43moperator\u001b[49m\u001b[38;5;241;43m.\u001b[39;49m\u001b[43mitemgetter\u001b[49m\u001b[43m(\u001b[49m\u001b[38;5;241;43m10\u001b[39;49m\u001b[43m,\u001b[49m\u001b[43m \u001b[49m\u001b[38;5;241;43m11\u001b[39;49m\u001b[43m)\u001b[49m\u001b[43m(\u001b[49m\u001b[43mtrees_subset\u001b[49m\u001b[43m)\u001b[49m:\n\u001b[1;32m      3\u001b[0m     \u001b[38;5;28;01mfor\u001b[39;00m pre, _, node \u001b[38;5;129;01min\u001b[39;00m anytree\u001b[38;5;241m.\u001b[39mRenderTree(tree\u001b[38;5;241m.\u001b[39mroot):\n\u001b[1;32m      4\u001b[0m         \u001b[38;5;28mprint\u001b[39m(\u001b[38;5;124mf\u001b[39m\u001b[38;5;124m\"\u001b[39m\u001b[38;5;132;01m{\u001b[39;00mpre\u001b[38;5;132;01m}\u001b[39;00m\u001b[38;5;132;01m{\u001b[39;00mto_simple_node_view(node)\u001b[38;5;132;01m}\u001b[39;00m\u001b[38;5;124m\"\u001b[39m)\n",
      "\u001b[0;31mIndexError\u001b[0m: list index out of range"
     ]
    }
   ],
   "source": [
    "# Path 3\n",
    "for tree in operator.itemgetter(10, 11)(trees_subset):\n",
    "    for pre, _, node in anytree.RenderTree(tree.root):\n",
    "        print(f\"{pre}{to_simple_node_view(node)}\")\n",
    "    print()"
   ]
  },
  {
   "cell_type": "code",
   "execution_count": null,
   "id": "3e21abd4",
   "metadata": {},
   "outputs": [],
   "source": [
    "# Path 4?\n",
    "for tree in operator.itemgetter(12, 13, 14)(trees_subset):\n",
    "    for pre, _, node in anytree.RenderTree(tree.root):\n",
    "        print(f\"{pre}{to_simple_node_view(node)}\")\n",
    "    print()"
   ]
  },
  {
   "cell_type": "code",
   "execution_count": null,
   "id": "f3aba1bf",
   "metadata": {},
   "outputs": [],
   "source": []
  }
 ],
 "metadata": {
  "kernelspec": {
   "display_name": "Python 3 (ipykernel)",
   "language": "python",
   "name": "python3"
  },
  "language_info": {
   "codemirror_mode": {
    "name": "ipython",
    "version": 3
   },
   "file_extension": ".py",
   "mimetype": "text/x-python",
   "name": "python",
   "nbconvert_exporter": "python",
   "pygments_lexer": "ipython3",
   "version": "3.11.4"
  }
 },
 "nbformat": 4,
 "nbformat_minor": 5
}
